{
  "nbformat": 4,
  "nbformat_minor": 0,
  "metadata": {
    "colab": {
      "name": "Intro_of_Double_DeepQLearning.ipynb",
      "version": "0.3.2",
      "provenance": []
    },
    "kernelspec": {
      "name": "python3",
      "display_name": "Python 3"
    },
    "accelerator": "GPU"
  },
  "cells": [
    {
      "cell_type": "code",
      "metadata": {
        "id": "GsDkYmc-MiaT",
        "colab_type": "code",
        "colab": {}
      },
      "source": [
        "# !wget https://huseinhouse-storage.s3-ap-southeast-1.amazonaws.com/reinforcement-learning/train_8M.csv\n",
        "# !wget https://huseinhouse-storage.s3-ap-southeast-1.amazonaws.com/reinforcement-learning/transactions.csv\n",
        "# !wget https://huseinhouse-storage.s3-ap-southeast-1.amazonaws.com/reinforcement-learning/holidays_events.csv\n",
        "# !wget https://huseinhouse-storage.s3-ap-southeast-1.amazonaws.com/reinforcement-learning/items.csv\n",
        "# !wget https://huseinhouse-storage.s3-ap-southeast-1.amazonaws.com/reinforcement-learning/oil.csv\n",
        "# !wget https://huseinhouse-storage.s3-ap-southeast-1.amazonaws.com/reinforcement-learning/stores.csv\n",
        "# !wget https://huseinhouse-storage.s3-ap-southeast-1.amazonaws.com/reinforcement-learning/recmetrics.zip\n",
        "# !unzip recmetrics.zip"
      ],
      "execution_count": 0,
      "outputs": []
    },
    {
      "cell_type": "code",
      "metadata": {
        "id": "tcft_UIGKZ0F",
        "colab_type": "code",
        "colab": {
          "base_uri": "https://localhost:8080/",
          "height": 51
        },
        "outputId": "24ae411d-0a2a-4a60-8589-b10db8ad6244"
      },
      "source": [
        "!ls"
      ],
      "execution_count": 1,
      "outputs": [
        {
          "output_type": "stream",
          "text": [
            "holidays_events.csv  __MACOSX  recmetrics      sample_data  train_8M.csv\n",
            "items.csv\t     oil.csv   recmetrics.zip  stores.csv   transactions.csv\n"
          ],
          "name": "stdout"
        }
      ]
    },
    {
      "cell_type": "code",
      "metadata": {
        "id": "P48Uw1u1MKz5",
        "colab_type": "code",
        "colab": {}
      },
      "source": [
        "import numpy as np\n",
        "import pandas as pd\n",
        "import matplotlib.pyplot as plt\n",
        "import seaborn as sns\n",
        "from sklearn.preprocessing import LabelEncoder\n",
        "from datetime import datetime, timedelta\n",
        "import tensorflow as tf\n",
        "import random\n",
        "sns.set()"
      ],
      "execution_count": 0,
      "outputs": []
    },
    {
      "cell_type": "code",
      "metadata": {
        "id": "ITfXnYVOMTfe",
        "colab_type": "code",
        "colab": {}
      },
      "source": [
        "items = pd.read_csv(\"items.csv\")\n",
        "holiday_events = pd.read_csv(\"holidays_events.csv\")\n",
        "stores = pd.read_csv(\"stores.csv\")\n",
        "oil = pd.read_csv(\"oil.csv\")\n",
        "transactions = pd.read_csv(\"transactions.csv\",parse_dates=['date'])\n",
        "train = pd.read_csv(\"train_8M.csv\", nrows = 500000, parse_dates=['date'])"
      ],
      "execution_count": 0,
      "outputs": []
    },
    {
      "cell_type": "code",
      "metadata": {
        "id": "zBMQ_oJbMU9B",
        "colab_type": "code",
        "colab": {
          "base_uri": "https://localhost:8080/",
          "height": 476
        },
        "outputId": "14b22b93-e218-4426-d16b-c5744696d3b1"
      },
      "source": [
        "from tensorflow.python.client import device_lib\n",
        "\n",
        "device_lib.list_local_devices()"
      ],
      "execution_count": 4,
      "outputs": [
        {
          "output_type": "execute_result",
          "data": {
            "text/plain": [
              "[name: \"/device:CPU:0\"\n",
              " device_type: \"CPU\"\n",
              " memory_limit: 268435456\n",
              " locality {\n",
              " }\n",
              " incarnation: 14532048091421936632, name: \"/device:XLA_CPU:0\"\n",
              " device_type: \"XLA_CPU\"\n",
              " memory_limit: 17179869184\n",
              " locality {\n",
              " }\n",
              " incarnation: 16366765605937220764\n",
              " physical_device_desc: \"device: XLA_CPU device\", name: \"/device:XLA_GPU:0\"\n",
              " device_type: \"XLA_GPU\"\n",
              " memory_limit: 17179869184\n",
              " locality {\n",
              " }\n",
              " incarnation: 5411859217718152837\n",
              " physical_device_desc: \"device: XLA_GPU device\", name: \"/device:GPU:0\"\n",
              " device_type: \"GPU\"\n",
              " memory_limit: 14596482663\n",
              " locality {\n",
              "   bus_id: 1\n",
              "   links {\n",
              "   }\n",
              " }\n",
              " incarnation: 9944202638226918731\n",
              " physical_device_desc: \"device: 0, name: Tesla T4, pci bus id: 0000:00:04.0, compute capability: 7.5\"]"
            ]
          },
          "metadata": {
            "tags": []
          },
          "execution_count": 4
        }
      ]
    },
    {
      "cell_type": "code",
      "metadata": {
        "id": "F-xS1JYVMlk-",
        "colab_type": "code",
        "colab": {}
      },
      "source": [
        "stores = train['store_nbr'].values\n",
        "items = train['item_nbr'].values\n",
        "reward = train['unit_sales'].values"
      ],
      "execution_count": 0,
      "outputs": []
    },
    {
      "cell_type": "code",
      "metadata": {
        "id": "_bOxkFQ0PK0R",
        "colab_type": "code",
        "colab": {
          "base_uri": "https://localhost:8080/",
          "height": 34
        },
        "outputId": "d698f0c5-0be9-4089-bcae-ebf59f55fc2d"
      },
      "source": [
        "encoded = LabelEncoder().fit_transform(items)\n",
        "items_unique = np.unique(items)\n",
        "items_unique"
      ],
      "execution_count": 6,
      "outputs": [
        {
          "output_type": "execute_result",
          "data": {
            "text/plain": [
              "array([  96995,  103501,  103520, ..., 1114567, 1114749, 1118683])"
            ]
          },
          "metadata": {
            "tags": []
          },
          "execution_count": 6
        }
      ]
    },
    {
      "cell_type": "code",
      "metadata": {
        "id": "LahqtN2fPMsl",
        "colab_type": "code",
        "colab": {}
      },
      "source": [
        "from sklearn.model_selection import train_test_split\n",
        "\n",
        "train_stores, test_stores, train, test = train_test_split(stores, \n",
        "                                                          train, test_size = 0.25, shuffle = False)"
      ],
      "execution_count": 0,
      "outputs": []
    },
    {
      "cell_type": "code",
      "metadata": {
        "id": "NQ1AUCxLPPAG",
        "colab_type": "code",
        "colab": {}
      },
      "source": [
        "from collections import deque\n",
        "import random\n",
        "\n",
        "LEARNING_RATE = 1e-5\n",
        "LAYER_SIZE = 256\n",
        "OUTPUT_SIZE = np.unique(items).shape[0]\n",
        "STATE_SIZE = np.unique(stores).shape[0]\n",
        "\n",
        "class Model:\n",
        "  def __init__(self):\n",
        "    self.X = tf.placeholder(tf.int32, [None])\n",
        "    self.Y = tf.placeholder(tf.float32, [None, OUTPUT_SIZE])\n",
        "\n",
        "    embeddings = tf.Variable(tf.random_uniform([STATE_SIZE, LAYER_SIZE], -1, 1))\n",
        "    embedded = tf.nn.embedding_lookup(embeddings, self.X)\n",
        "    feed_forward = tf.layers.dense(embedded, LAYER_SIZE, activation = tf.nn.tanh)\n",
        "    self.logits = tf.layers.dense(feed_forward, OUTPUT_SIZE)\n",
        "    self.cost = tf.reduce_sum(tf.square(self.Y - self.logits))\n",
        "    self.optimizer = tf.train.GradientDescentOptimizer(LEARNING_RATE).minimize(\n",
        "        self.cost\n",
        "    )\n",
        "    \n",
        "class Agent:\n",
        "\n",
        "  EPSILON = 0.5\n",
        "  DECAY_RATE = 0.005\n",
        "  MIN_EPSILON = 0.1\n",
        "  GAMMA = 0.95\n",
        "  MEMORIES = deque()\n",
        "  COPY = 200 #when reach 200 the constant in second network will be copied into first network\n",
        "  T_COPY = 0\n",
        "  MEMORY_SIZE = 300\n",
        "\n",
        "  def __init__(self):\n",
        "    tf.reset_default_graph()\n",
        "    self.model = Model()\n",
        "    self.model_negative = Model()\n",
        "    self.sess = tf.InteractiveSession()\n",
        "    self.sess.run(tf.global_variables_initializer())\n",
        "    self.trainable = tf.trainable_variables()\n",
        "    \n",
        "  def _assign(self):\n",
        "    for i in range(len(self.trainable)//2):\n",
        "      assign_op = self.trainable[i+len(self.trainable)//2].assign(self.trainable[i])\n",
        "      self.sess.run(assign_op)\n",
        "      \n",
        "  def _memorize(self, state, action, reward, new_state, done):\n",
        "    self.MEMORIES.append((state, action, reward, new_state, done))\n",
        "    if len(self.MEMORIES) > self.MEMORY_SIZE:\n",
        "      self.MEMORIES.popleft()\n",
        "      \n",
        "  def _select_action(self, state):\n",
        "    if np.random.rand() < self.EPSILON:\n",
        "      action = np.random.randint(OUTPUT_SIZE, size = (len(state)))\n",
        "    else:\n",
        "      action = np.argmax(self.predict(state), axis = 1)\n",
        "    return action\n",
        "  \n",
        "  def _construct_memories(self, replay):\n",
        "    states = np.array([a[0] for a in replay])\n",
        "    new_states = np.array([a[3] for a in replay])\n",
        "    Q = self.predict(states)\n",
        "    Q_new = self.predict(new_states)\n",
        "    Q_new_negative = self.sess.run(self.model_negative.logits, \n",
        "                                   feed_dict={self.model_negative.X:new_states})\n",
        "    replay_size = len(replay)\n",
        "    X = np.empty((replay_size))\n",
        "    Y = np.empty((replay_size, OUTPUT_SIZE))\n",
        "    for i in range(replay_size):\n",
        "      state_r, action_r, reward_r, new_state_r, done_r = replay[i]\n",
        "      target = Q[i]\n",
        "      target[action_r] = reward_r\n",
        "      if not done_r:\n",
        "          target[action_r] += self.GAMMA * Q_new_negative[i, np.argmax(Q_new[i])]\n",
        "      X[i] = state_r\n",
        "      Y[i] = target\n",
        "    return X, Y\n",
        "  \n",
        "  def predict(self, inputs):\n",
        "    return self.sess.run(self.model.logits, feed_dict={self.model.X:inputs})"
      ],
      "execution_count": 0,
      "outputs": []
    },
    {
      "cell_type": "code",
      "metadata": {
        "id": "lJyDhuhoWDjw",
        "colab_type": "code",
        "colab": {
          "base_uri": "https://localhost:8080/",
          "height": 156
        },
        "outputId": "fa91393a-1522-48de-f1fe-4d4d82f8b434"
      },
      "source": [
        "agent = Agent()"
      ],
      "execution_count": 10,
      "outputs": [
        {
          "output_type": "stream",
          "text": [
            "WARNING: Logging before flag parsing goes to stderr.\n",
            "W0726 08:17:24.391436 140704478992256 deprecation.py:323] From <ipython-input-9-ca27c2510511>:16: dense (from tensorflow.python.layers.core) is deprecated and will be removed in a future version.\n",
            "Instructions for updating:\n",
            "Use keras.layers.dense instead.\n",
            "W0726 08:17:24.397062 140704478992256 deprecation.py:506] From /usr/local/lib/python3.6/dist-packages/tensorflow/python/ops/init_ops.py:1251: calling VarianceScaling.__init__ (from tensorflow.python.ops.init_ops) with dtype is deprecated and will be removed in a future version.\n",
            "Instructions for updating:\n",
            "Call initializer instance with the dtype argument instead of passing it to the constructor\n"
          ],
          "name": "stderr"
        }
      ]
    },
    {
      "cell_type": "code",
      "metadata": {
        "id": "t2C5bL-cW1FC",
        "colab_type": "code",
        "colab": {}
      },
      "source": [
        "train_pivoted = train.pivot_table(index='store_nbr', columns='item_nbr', values='unit_sales').fillna(0)"
      ],
      "execution_count": 0,
      "outputs": []
    },
    {
      "cell_type": "code",
      "metadata": {
        "id": "jNgKhizBW4N4",
        "colab_type": "code",
        "colab": {
          "base_uri": "https://localhost:8080/",
          "height": 187
        },
        "outputId": "ed7a70eb-aec6-4df9-e243-c84ee15a5b9a"
      },
      "source": [
        "from tqdm import tqdm\n",
        "epoch = 5\n",
        "batch_size = 128\n",
        "\n",
        "for e in range(epoch):\n",
        "  pbar = tqdm(\n",
        "      range(0, len(train_stores) - 1, batch_size), desc = 'train minibatch loop'\n",
        "    )\n",
        "  loss = []\n",
        "  for i in pbar:\n",
        "    index = min(i + batch_size, len(train_stores) - 1)\n",
        "    if (agent.T_COPY + 1) % agent.COPY == 0:\n",
        "      agent._assign()\n",
        "    state = train_stores[i: index]\n",
        "    action = agent._select_action(state)\n",
        "    next_state = train_stores[i + 1: index + 1]\n",
        "    for no, a in enumerate(action):\n",
        "      if a >= train_pivoted.shape[1]:\n",
        "        r = 0\n",
        "      else:\n",
        "        r = train_pivoted.loc[train_stores[i + no]].iloc[a]\n",
        "      agent._memorize(state[no], a, r, next_state[no], r < 1)\n",
        "    \n",
        "    replay = random.sample(agent.MEMORIES, min(len(agent.MEMORIES), batch_size))\n",
        "    X, Y = agent._construct_memories(replay)\n",
        "    cost, _ = agent.sess.run([agent.model.cost, agent.model.optimizer], \n",
        "                               feed_dict={agent.model.X: X, agent.model.Y:Y}) \n",
        "    agent.T_COPY += 1\n",
        "    agent.EPSILON = agent.MIN_EPSILON + (1.0 - agent.MIN_EPSILON) * np.exp(-agent.DECAY_RATE * i)\n",
        "      \n",
        "    pbar.set_postfix(cost = cost)\n",
        "    loss.append(cost)\n",
        "  print('epoch: %d, average lost: %f'%(e + 1, np.mean(loss)))"
      ],
      "execution_count": 12,
      "outputs": [
        {
          "output_type": "stream",
          "text": [
            "train minibatch loop: 100%|██████████| 2930/2930 [01:24<00:00, 35.67it/s, cost=0.0518]\n",
            "train minibatch loop:   0%|          | 4/2930 [00:00<01:19, 36.99it/s, cost=9.57e+5]"
          ],
          "name": "stderr"
        },
        {
          "output_type": "stream",
          "text": [
            "epoch: 1, average lost: 144592.781250\n"
          ],
          "name": "stdout"
        },
        {
          "output_type": "stream",
          "text": [
            "train minibatch loop: 100%|██████████| 2930/2930 [01:24<00:00, 34.69it/s, cost=924]\n",
            "train minibatch loop:   0%|          | 4/2930 [00:00<01:27, 33.31it/s, cost=1.78e+6]"
          ],
          "name": "stderr"
        },
        {
          "output_type": "stream",
          "text": [
            "epoch: 2, average lost: 566448.125000\n"
          ],
          "name": "stdout"
        },
        {
          "output_type": "stream",
          "text": [
            "train minibatch loop: 100%|██████████| 2930/2930 [01:24<00:00, 34.62it/s, cost=714]\n",
            "train minibatch loop:   0%|          | 4/2930 [00:00<01:24, 34.80it/s, cost=2.61e+4]"
          ],
          "name": "stderr"
        },
        {
          "output_type": "stream",
          "text": [
            "epoch: 3, average lost: 920085.812500\n"
          ],
          "name": "stdout"
        },
        {
          "output_type": "stream",
          "text": [
            "train minibatch loop: 100%|██████████| 2930/2930 [01:24<00:00, 34.54it/s, cost=844]\n",
            "train minibatch loop:   0%|          | 4/2930 [00:00<01:22, 35.27it/s, cost=4.79e+6]"
          ],
          "name": "stderr"
        },
        {
          "output_type": "stream",
          "text": [
            "epoch: 4, average lost: 1080713.375000\n"
          ],
          "name": "stdout"
        },
        {
          "output_type": "stream",
          "text": [
            "train minibatch loop: 100%|██████████| 2930/2930 [01:24<00:00, 34.73it/s, cost=3.21e+6]"
          ],
          "name": "stderr"
        },
        {
          "output_type": "stream",
          "text": [
            "epoch: 5, average lost: 1099011.875000\n"
          ],
          "name": "stdout"
        },
        {
          "output_type": "stream",
          "text": [
            "\n"
          ],
          "name": "stderr"
        }
      ]
    },
    {
      "cell_type": "code",
      "metadata": {
        "id": "26mm9avOW8TH",
        "colab_type": "code",
        "colab": {
          "base_uri": "https://localhost:8080/",
          "height": 51
        },
        "outputId": "646057c9-11dc-46e8-c41f-68c3bc500ddc"
      },
      "source": [
        "agent.predict([1])"
      ],
      "execution_count": 14,
      "outputs": [
        {
          "output_type": "execute_result",
          "data": {
            "text/plain": [
              "array([[34.37177  , 39.436737 , 74.57531  , ..., 84.20102  ,  0.2100472,\n",
              "         0.5957482]], dtype=float32)"
            ]
          },
          "metadata": {
            "tags": []
          },
          "execution_count": 14
        }
      ]
    },
    {
      "cell_type": "code",
      "metadata": {
        "id": "GPlQe5oTZTRp",
        "colab_type": "code",
        "colab": {
          "base_uri": "https://localhost:8080/",
          "height": 34
        },
        "outputId": "d385705b-ee05-4471-cd58-221d06dbffbd"
      },
      "source": [
        "agent.predict([1]).shape"
      ],
      "execution_count": 15,
      "outputs": [
        {
          "output_type": "execute_result",
          "data": {
            "text/plain": [
              "(1, 1607)"
            ]
          },
          "metadata": {
            "tags": []
          },
          "execution_count": 15
        }
      ]
    },
    {
      "cell_type": "code",
      "metadata": {
        "id": "6pHRVWeBZY8o",
        "colab_type": "code",
        "colab": {
          "base_uri": "https://localhost:8080/",
          "height": 85
        },
        "outputId": "0f60b480-3475-48ec-ac1a-63940e772056"
      },
      "source": [
        "agent.predict([1, 2])"
      ],
      "execution_count": 16,
      "outputs": [
        {
          "output_type": "execute_result",
          "data": {
            "text/plain": [
              "array([[34.37177   , 39.436737  , 74.57531   , ..., 84.20102   ,\n",
              "         0.2100472 ,  0.5957482 ],\n",
              "       [37.072964  , 40.948723  , 78.47587   , ..., 89.15367   ,\n",
              "         0.5769611 ,  0.79328245]], dtype=float32)"
            ]
          },
          "metadata": {
            "tags": []
          },
          "execution_count": 16
        }
      ]
    },
    {
      "cell_type": "code",
      "metadata": {
        "id": "IK-PA_rmalYA",
        "colab_type": "code",
        "colab": {
          "base_uri": "https://localhost:8080/",
          "height": 68
        },
        "outputId": "36e9ccbf-1a95-4263-ed74-f501fb042e44"
      },
      "source": [
        "test_cp = test.copy().groupby('store_nbr')['item_nbr'].agg({'actual': (lambda x: list(set(x)))})"
      ],
      "execution_count": 17,
      "outputs": [
        {
          "output_type": "stream",
          "text": [
            "/usr/local/lib/python3.6/dist-packages/ipykernel_launcher.py:1: FutureWarning: using a dict on a Series for aggregation\n",
            "is deprecated and will be removed in a future version\n",
            "  \"\"\"Entry point for launching an IPython kernel.\n"
          ],
          "name": "stderr"
        }
      ]
    },
    {
      "cell_type": "code",
      "metadata": {
        "id": "83ZLNq-jaoH5",
        "colab_type": "code",
        "colab": {}
      },
      "source": [
        "def get_users_predictions(user_id, n):\n",
        "  p = agent.predict([user_id])[0]\n",
        "  p = p.argsort()[-n:][::-1]\n",
        "  return [items_unique[i] for i in p]"
      ],
      "execution_count": 0,
      "outputs": []
    },
    {
      "cell_type": "code",
      "metadata": {
        "id": "cfTZBjboap8u",
        "colab_type": "code",
        "colab": {
          "base_uri": "https://localhost:8080/",
          "height": 235
        },
        "outputId": "5240a71a-fc85-4d2a-f299-4a7d2e4ff667"
      },
      "source": [
        "recs = []\n",
        "for user in test_cp.index:\n",
        "    cf_predictions = get_users_predictions(user + 1, 30)\n",
        "    recs.append(cf_predictions)\n",
        "        \n",
        "test_cp['cf_predictions'] = recs\n",
        "test_cp.head()"
      ],
      "execution_count": 20,
      "outputs": [
        {
          "output_type": "execute_result",
          "data": {
            "text/html": [
              "<div>\n",
              "<style scoped>\n",
              "    .dataframe tbody tr th:only-of-type {\n",
              "        vertical-align: middle;\n",
              "    }\n",
              "\n",
              "    .dataframe tbody tr th {\n",
              "        vertical-align: top;\n",
              "    }\n",
              "\n",
              "    .dataframe thead th {\n",
              "        text-align: right;\n",
              "    }\n",
              "</style>\n",
              "<table border=\"1\" class=\"dataframe\">\n",
              "  <thead>\n",
              "    <tr style=\"text-align: right;\">\n",
              "      <th></th>\n",
              "      <th>actual</th>\n",
              "      <th>cf_predictions</th>\n",
              "    </tr>\n",
              "    <tr>\n",
              "      <th>store_nbr</th>\n",
              "      <th></th>\n",
              "      <th></th>\n",
              "    </tr>\n",
              "  </thead>\n",
              "  <tbody>\n",
              "    <tr>\n",
              "      <th>1</th>\n",
              "      <td>[174081, 1058820, 862213, 819206, 460804, 8192...</td>\n",
              "      <td>[868529, 522941, 364606, 323921, 870544, 31517...</td>\n",
              "    </tr>\n",
              "    <tr>\n",
              "      <th>2</th>\n",
              "      <td>[174081, 460804, 862213, 819206, 1058820, 8192...</td>\n",
              "      <td>[868529, 522941, 364606, 323921, 870544, 31517...</td>\n",
              "    </tr>\n",
              "    <tr>\n",
              "      <th>3</th>\n",
              "      <td>[174081, 460804, 862213, 819206, 1058820, 8192...</td>\n",
              "      <td>[868529, 522941, 364606, 323921, 870544, 31517...</td>\n",
              "    </tr>\n",
              "    <tr>\n",
              "      <th>4</th>\n",
              "      <td>[174081, 460804, 862213, 819206, 1058820, 8192...</td>\n",
              "      <td>[868529, 522941, 364606, 323921, 870544, 31517...</td>\n",
              "    </tr>\n",
              "    <tr>\n",
              "      <th>5</th>\n",
              "      <td>[174081, 460804, 862213, 819206, 1058820, 8192...</td>\n",
              "      <td>[868529, 522941, 364606, 323921, 315179, 95943...</td>\n",
              "    </tr>\n",
              "  </tbody>\n",
              "</table>\n",
              "</div>"
            ],
            "text/plain": [
              "                                                      actual                                     cf_predictions\n",
              "store_nbr                                                                                                      \n",
              "1          [174081, 1058820, 862213, 819206, 460804, 8192...  [868529, 522941, 364606, 323921, 870544, 31517...\n",
              "2          [174081, 460804, 862213, 819206, 1058820, 8192...  [868529, 522941, 364606, 323921, 870544, 31517...\n",
              "3          [174081, 460804, 862213, 819206, 1058820, 8192...  [868529, 522941, 364606, 323921, 870544, 31517...\n",
              "4          [174081, 460804, 862213, 819206, 1058820, 8192...  [868529, 522941, 364606, 323921, 870544, 31517...\n",
              "5          [174081, 460804, 862213, 819206, 1058820, 8192...  [868529, 522941, 364606, 323921, 315179, 95943..."
            ]
          },
          "metadata": {
            "tags": []
          },
          "execution_count": 20
        }
      ]
    },
    {
      "cell_type": "code",
      "metadata": {
        "id": "7w6fJucJatkw",
        "colab_type": "code",
        "colab": {
          "base_uri": "https://localhost:8080/",
          "height": 235
        },
        "outputId": "adabe9fd-6c55-4943-c2f9-92b44bcc3139"
      },
      "source": [
        "popularity_recs = train.item_nbr.value_counts().head(30).index.tolist()\n",
        "\n",
        "recs = []\n",
        "for user in test_cp.index:\n",
        "    pop_predictions = popularity_recs\n",
        "    recs.append(pop_predictions)\n",
        "        \n",
        "test_cp['pop_predictions'] = recs\n",
        "test_cp.head()"
      ],
      "execution_count": 21,
      "outputs": [
        {
          "output_type": "execute_result",
          "data": {
            "text/html": [
              "<div>\n",
              "<style scoped>\n",
              "    .dataframe tbody tr th:only-of-type {\n",
              "        vertical-align: middle;\n",
              "    }\n",
              "\n",
              "    .dataframe tbody tr th {\n",
              "        vertical-align: top;\n",
              "    }\n",
              "\n",
              "    .dataframe thead th {\n",
              "        text-align: right;\n",
              "    }\n",
              "</style>\n",
              "<table border=\"1\" class=\"dataframe\">\n",
              "  <thead>\n",
              "    <tr style=\"text-align: right;\">\n",
              "      <th></th>\n",
              "      <th>actual</th>\n",
              "      <th>cf_predictions</th>\n",
              "      <th>pop_predictions</th>\n",
              "    </tr>\n",
              "    <tr>\n",
              "      <th>store_nbr</th>\n",
              "      <th></th>\n",
              "      <th></th>\n",
              "      <th></th>\n",
              "    </tr>\n",
              "  </thead>\n",
              "  <tbody>\n",
              "    <tr>\n",
              "      <th>1</th>\n",
              "      <td>[174081, 1058820, 862213, 819206, 460804, 8192...</td>\n",
              "      <td>[868529, 522941, 364606, 323921, 870544, 31517...</td>\n",
              "      <td>[222879, 314384, 559870, 564533, 502331, 27352...</td>\n",
              "    </tr>\n",
              "    <tr>\n",
              "      <th>2</th>\n",
              "      <td>[174081, 460804, 862213, 819206, 1058820, 8192...</td>\n",
              "      <td>[868529, 522941, 364606, 323921, 870544, 31517...</td>\n",
              "      <td>[222879, 314384, 559870, 564533, 502331, 27352...</td>\n",
              "    </tr>\n",
              "    <tr>\n",
              "      <th>3</th>\n",
              "      <td>[174081, 460804, 862213, 819206, 1058820, 8192...</td>\n",
              "      <td>[868529, 522941, 364606, 323921, 870544, 31517...</td>\n",
              "      <td>[222879, 314384, 559870, 564533, 502331, 27352...</td>\n",
              "    </tr>\n",
              "    <tr>\n",
              "      <th>4</th>\n",
              "      <td>[174081, 460804, 862213, 819206, 1058820, 8192...</td>\n",
              "      <td>[868529, 522941, 364606, 323921, 870544, 31517...</td>\n",
              "      <td>[222879, 314384, 559870, 564533, 502331, 27352...</td>\n",
              "    </tr>\n",
              "    <tr>\n",
              "      <th>5</th>\n",
              "      <td>[174081, 460804, 862213, 819206, 1058820, 8192...</td>\n",
              "      <td>[868529, 522941, 364606, 323921, 315179, 95943...</td>\n",
              "      <td>[222879, 314384, 559870, 564533, 502331, 27352...</td>\n",
              "    </tr>\n",
              "  </tbody>\n",
              "</table>\n",
              "</div>"
            ],
            "text/plain": [
              "                                                      actual  ...                                    pop_predictions\n",
              "store_nbr                                                     ...                                                   \n",
              "1          [174081, 1058820, 862213, 819206, 460804, 8192...  ...  [222879, 314384, 559870, 564533, 502331, 27352...\n",
              "2          [174081, 460804, 862213, 819206, 1058820, 8192...  ...  [222879, 314384, 559870, 564533, 502331, 27352...\n",
              "3          [174081, 460804, 862213, 819206, 1058820, 8192...  ...  [222879, 314384, 559870, 564533, 502331, 27352...\n",
              "4          [174081, 460804, 862213, 819206, 1058820, 8192...  ...  [222879, 314384, 559870, 564533, 502331, 27352...\n",
              "5          [174081, 460804, 862213, 819206, 1058820, 8192...  ...  [222879, 314384, 559870, 564533, 502331, 27352...\n",
              "\n",
              "[5 rows x 3 columns]"
            ]
          },
          "metadata": {
            "tags": []
          },
          "execution_count": 21
        }
      ]
    },
    {
      "cell_type": "code",
      "metadata": {
        "id": "O31TgFVeavuC",
        "colab_type": "code",
        "colab": {
          "base_uri": "https://localhost:8080/",
          "height": 320
        },
        "outputId": "4082de6d-b08e-405f-cfb6-25e1e440f341"
      },
      "source": [
        "recs = []\n",
        "for user in test_cp.index:\n",
        "    random_predictions = train.item_nbr.sample(30).values.tolist()\n",
        "    recs.append(random_predictions)\n",
        "        \n",
        "test_cp['random_predictions'] = recs\n",
        "test_cp.head()"
      ],
      "execution_count": 22,
      "outputs": [
        {
          "output_type": "execute_result",
          "data": {
            "text/html": [
              "<div>\n",
              "<style scoped>\n",
              "    .dataframe tbody tr th:only-of-type {\n",
              "        vertical-align: middle;\n",
              "    }\n",
              "\n",
              "    .dataframe tbody tr th {\n",
              "        vertical-align: top;\n",
              "    }\n",
              "\n",
              "    .dataframe thead th {\n",
              "        text-align: right;\n",
              "    }\n",
              "</style>\n",
              "<table border=\"1\" class=\"dataframe\">\n",
              "  <thead>\n",
              "    <tr style=\"text-align: right;\">\n",
              "      <th></th>\n",
              "      <th>actual</th>\n",
              "      <th>cf_predictions</th>\n",
              "      <th>pop_predictions</th>\n",
              "      <th>random_predictions</th>\n",
              "    </tr>\n",
              "    <tr>\n",
              "      <th>store_nbr</th>\n",
              "      <th></th>\n",
              "      <th></th>\n",
              "      <th></th>\n",
              "      <th></th>\n",
              "    </tr>\n",
              "  </thead>\n",
              "  <tbody>\n",
              "    <tr>\n",
              "      <th>1</th>\n",
              "      <td>[174081, 1058820, 862213, 819206, 460804, 8192...</td>\n",
              "      <td>[868529, 522941, 364606, 323921, 870544, 31517...</td>\n",
              "      <td>[222879, 314384, 559870, 564533, 502331, 27352...</td>\n",
              "      <td>[413987, 352513, 363049, 1038952, 507870, 1109...</td>\n",
              "    </tr>\n",
              "    <tr>\n",
              "      <th>2</th>\n",
              "      <td>[174081, 460804, 862213, 819206, 1058820, 8192...</td>\n",
              "      <td>[868529, 522941, 364606, 323921, 870544, 31517...</td>\n",
              "      <td>[222879, 314384, 559870, 564533, 502331, 27352...</td>\n",
              "      <td>[627263, 946671, 268443, 269029, 470624, 87751...</td>\n",
              "    </tr>\n",
              "    <tr>\n",
              "      <th>3</th>\n",
              "      <td>[174081, 460804, 862213, 819206, 1058820, 8192...</td>\n",
              "      <td>[868529, 522941, 364606, 323921, 870544, 31517...</td>\n",
              "      <td>[222879, 314384, 559870, 564533, 502331, 27352...</td>\n",
              "      <td>[1105212, 802831, 265279, 329071, 857331, 4568...</td>\n",
              "    </tr>\n",
              "    <tr>\n",
              "      <th>4</th>\n",
              "      <td>[174081, 460804, 862213, 819206, 1058820, 8192...</td>\n",
              "      <td>[868529, 522941, 364606, 323921, 870544, 31517...</td>\n",
              "      <td>[222879, 314384, 559870, 564533, 502331, 27352...</td>\n",
              "      <td>[638308, 564287, 839367, 116017, 1088002, 4680...</td>\n",
              "    </tr>\n",
              "    <tr>\n",
              "      <th>5</th>\n",
              "      <td>[174081, 460804, 862213, 819206, 1058820, 8192...</td>\n",
              "      <td>[868529, 522941, 364606, 323921, 315179, 95943...</td>\n",
              "      <td>[222879, 314384, 559870, 564533, 502331, 27352...</td>\n",
              "      <td>[575675, 586824, 264576, 222975, 556698, 32068...</td>\n",
              "    </tr>\n",
              "  </tbody>\n",
              "</table>\n",
              "</div>"
            ],
            "text/plain": [
              "                                                      actual  ...                                 random_predictions\n",
              "store_nbr                                                     ...                                                   \n",
              "1          [174081, 1058820, 862213, 819206, 460804, 8192...  ...  [413987, 352513, 363049, 1038952, 507870, 1109...\n",
              "2          [174081, 460804, 862213, 819206, 1058820, 8192...  ...  [627263, 946671, 268443, 269029, 470624, 87751...\n",
              "3          [174081, 460804, 862213, 819206, 1058820, 8192...  ...  [1105212, 802831, 265279, 329071, 857331, 4568...\n",
              "4          [174081, 460804, 862213, 819206, 1058820, 8192...  ...  [638308, 564287, 839367, 116017, 1088002, 4680...\n",
              "5          [174081, 460804, 862213, 819206, 1058820, 8192...  ...  [575675, 586824, 264576, 222975, 556698, 32068...\n",
              "\n",
              "[5 rows x 4 columns]"
            ]
          },
          "metadata": {
            "tags": []
          },
          "execution_count": 22
        }
      ]
    },
    {
      "cell_type": "code",
      "metadata": {
        "id": "SAeZYHh_axfk",
        "colab_type": "code",
        "colab": {}
      },
      "source": [
        "actual = test_cp.actual.values.tolist()\n",
        "cf_predictions = test_cp.cf_predictions.values.tolist()\n",
        "pop_predictions = test_cp.pop_predictions.values.tolist()\n",
        "random_predictions = test_cp.random_predictions.values.tolist()"
      ],
      "execution_count": 0,
      "outputs": []
    },
    {
      "cell_type": "code",
      "metadata": {
        "id": "UXQchfssazaV",
        "colab_type": "code",
        "colab": {
          "base_uri": "https://localhost:8080/",
          "height": 527
        },
        "outputId": "9d14395b-d5e0-43ec-ced8-b98f32cfc858"
      },
      "source": [
        "import recmetrics\n",
        "\n",
        "pop_mark = []\n",
        "for K in np.arange(1, 31):\n",
        "    pop_mark.extend([recmetrics.mark(actual, pop_predictions, k=K)])\n",
        "pop_mark"
      ],
      "execution_count": 24,
      "outputs": [
        {
          "output_type": "execute_result",
          "data": {
            "text/plain": [
              "[0.000984488736644838,\n",
              " 0.001968977473289676,\n",
              " 0.0029534662099345134,\n",
              " 0.003937954946579352,\n",
              " 0.004922443683224189,\n",
              " 0.005906932419869027,\n",
              " 0.006891421156513865,\n",
              " 0.007875909893158704,\n",
              " 0.008860398629803541,\n",
              " 0.009844887366448379,\n",
              " 0.010829376103093216,\n",
              " 0.011813864839738054,\n",
              " 0.012772130258608726,\n",
              " 0.01375474590112684,\n",
              " 0.014737486416586733,\n",
              " 0.01572033619587069,\n",
              " 0.01670328238441116,\n",
              " 0.01768631427006855,\n",
              " 0.018669422832093687,\n",
              " 0.01965260040284982,\n",
              " 0.02063584041007684,\n",
              " 0.02161913717773194,\n",
              " 0.02260248577012573,\n",
              " 0.02358588186852998,\n",
              " 0.024569321672463843,\n",
              " 0.02555280181996352,\n",
              " 0.02653631932261673,\n",
              " 0.027519871512198205,\n",
              " 0.028503455996506003,\n",
              " 0.02946992619792526]"
            ]
          },
          "metadata": {
            "tags": []
          },
          "execution_count": 24
        }
      ]
    },
    {
      "cell_type": "code",
      "metadata": {
        "id": "m3K60d7Va0kl",
        "colab_type": "code",
        "colab": {
          "base_uri": "https://localhost:8080/",
          "height": 527
        },
        "outputId": "178359cf-a2ec-4ecb-d665-2e8587b3d926"
      },
      "source": [
        "random_mark = []\n",
        "for K in np.arange(1, 31):\n",
        "    random_mark.extend([recmetrics.mark(actual, random_predictions, k=K)])\n",
        "random_mark"
      ],
      "execution_count": 25,
      "outputs": [
        {
          "output_type": "execute_result",
          "data": {
            "text/plain": [
              "[0.0007503067772995319,\n",
              " 0.00142348421250837,\n",
              " 0.002022606351438725,\n",
              " 0.00269565598556018,\n",
              " 0.0033846118164899686,\n",
              " 0.004041581488981851,\n",
              " 0.004663299519072654,\n",
              " 0.0051685761743713796,\n",
              " 0.005742241437101824,\n",
              " 0.006289003690376909,\n",
              " 0.006844416334276749,\n",
              " 0.00740434527908918,\n",
              " 0.007951415166991832,\n",
              " 0.008458717239715276,\n",
              " 0.009044228728490982,\n",
              " 0.00969131328020633,\n",
              " 0.010195600500909284,\n",
              " 0.01074918091701459,\n",
              " 0.011321780934659133,\n",
              " 0.011933891568756837,\n",
              " 0.012470831972159912,\n",
              " 0.013032684333117984,\n",
              " 0.013596374624629206,\n",
              " 0.014090952499200792,\n",
              " 0.014543549484026929,\n",
              " 0.015088816656333328,\n",
              " 0.015667833188222683,\n",
              " 0.01625663694120453,\n",
              " 0.016860882528238582,\n",
              " 0.017343061517932426]"
            ]
          },
          "metadata": {
            "tags": []
          },
          "execution_count": 25
        }
      ]
    },
    {
      "cell_type": "code",
      "metadata": {
        "id": "JFiVPMjba2Vk",
        "colab_type": "code",
        "colab": {
          "base_uri": "https://localhost:8080/",
          "height": 527
        },
        "outputId": "829e84bc-f142-41f7-bbd3-294fad3a2760"
      },
      "source": [
        "cf_mark = []\n",
        "for K in np.arange(1, 31):\n",
        "    cf_mark.extend([recmetrics.mark(actual, cf_predictions, k=K)])\n",
        "cf_mark"
      ],
      "execution_count": 26,
      "outputs": [
        {
          "output_type": "execute_result",
          "data": {
            "text/plain": [
              "[0.0008210073273163212,\n",
              " 0.0015557214986872602,\n",
              " 0.00237722766970497,\n",
              " 0.003211427606710584,\n",
              " 0.003993990094823312,\n",
              " 0.004772054773716819,\n",
              " 0.005588390844123196,\n",
              " 0.006393895547219931,\n",
              " 0.007218287203439542,\n",
              " 0.008050629127686667,\n",
              " 0.008892117093454291,\n",
              " 0.009743100878167679,\n",
              " 0.01056282664152677,\n",
              " 0.011386743909871346,\n",
              " 0.012123483099214594,\n",
              " 0.012973596549369743,\n",
              " 0.013789523116087091,\n",
              " 0.014600440442604796,\n",
              " 0.015409452035337636,\n",
              " 0.01610594516861677,\n",
              " 0.016819459105835346,\n",
              " 0.017563968961503244,\n",
              " 0.01835470228580788,\n",
              " 0.019184258143729573,\n",
              " 0.019965183183169765,\n",
              " 0.020796985276083455,\n",
              " 0.021525798835960966,\n",
              " 0.02229296919450192,\n",
              " 0.023044071063752326,\n",
              " 0.02384978402197802]"
            ]
          },
          "metadata": {
            "tags": []
          },
          "execution_count": 26
        }
      ]
    },
    {
      "cell_type": "code",
      "metadata": {
        "id": "af30-bDwa3zY",
        "colab_type": "code",
        "colab": {
          "base_uri": "https://localhost:8080/",
          "height": 464
        },
        "outputId": "c1641ac0-b220-436a-b225-b5462fb48de5"
      },
      "source": [
        "mark_scores = [random_mark, pop_mark, cf_mark]\n",
        "index = range(1,30+1)\n",
        "names = ['Random Recommender', 'Popularity Recommender', 'Collaborative Filter qlearning']\n",
        "\n",
        "fig = plt.figure(figsize=(15, 7))\n",
        "recmetrics.mark_plot(mark_scores, model_names=names, k_range=index)"
      ],
      "execution_count": 27,
      "outputs": [
        {
          "output_type": "display_data",
          "data": {
            "image/png": "[encoded data removed]",
            "text/plain": [
              "<Figure size 1080x504 with 1 Axes>"
            ]
          },
          "metadata": {
            "tags": []
          }
        }
      ]
    },
    {
      "cell_type": "code",
      "metadata": {
        "id": "zWC32ULna5ie",
        "colab_type": "code",
        "colab": {}
      },
      "source": [
        "catalog = train.item_nbr.unique().tolist()\n",
        "random_coverage = recmetrics.coverage(random_predictions, catalog)\n",
        "pop_coverage = recmetrics.coverage(pop_predictions, catalog)\n",
        "cf_coverage = recmetrics.coverage(cf_predictions, catalog)"
      ],
      "execution_count": 0,
      "outputs": []
    },
    {
      "cell_type": "code",
      "metadata": {
        "id": "EaVVMGOfa88m",
        "colab_type": "code",
        "colab": {
          "base_uri": "https://localhost:8080/",
          "height": 338
        },
        "outputId": "1f516055-f4d9-4ce8-e51f-79c9b9714e7c"
      },
      "source": [
        "coverage_scores = [random_coverage, pop_coverage, cf_coverage]\n",
        "model_names = ['Random Recommender', 'Popularity Recommender', 'Collaborative Filter deep-Q']\n",
        "\n",
        "fig = plt.figure(figsize=(10, 5))\n",
        "recmetrics.coverage_plot(coverage_scores, model_names)"
      ],
      "execution_count": 29,
      "outputs": [
        {
          "output_type": "display_data",
          "data": {
            "image/png": "[encoded data removed]",
            "text/plain": [
              "<Figure size 720x360 with 1 Axes>"
            ]
          },
          "metadata": {
            "tags": []
          }
        }
      ]
    },
    {
      "cell_type": "code",
      "metadata": {
        "id": "IsloQL1wa-rR",
        "colab_type": "code",
        "colab": {}
      },
      "source": [
        ""
      ],
      "execution_count": 0,
      "outputs": []
    }
  ]
}