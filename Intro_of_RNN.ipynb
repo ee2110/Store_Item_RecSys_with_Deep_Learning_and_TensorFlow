{
  "nbformat": 4,
  "nbformat_minor": 0,
  "metadata": {
    "colab": {
      "name": "Intro_of_RNN.ipynb",
      "version": "0.3.2",
      "provenance": []
    },
    "kernelspec": {
      "name": "python3",
      "display_name": "Python 3"
    },
    "accelerator": "GPU"
  },
  "cells": [
    {
      "cell_type": "code",
      "metadata": {
        "id": "HkA0ndbl-3bT",
        "colab_type": "code",
        "colab": {
          "base_uri": "https://localhost:8080/",
          "height": 377
        },
        "outputId": "3f201b8b-c213-4dcc-c033-d2ef1359d127"
      },
      "source": [
        "import tensorflow as tf\n",
        "from tensorflow.examples.tutorials.mnist import input_data\n",
        "mnist = input_data.read_data_sets(\"MNIST_data/\")"
      ],
      "execution_count": 1,
      "outputs": [
        {
          "output_type": "stream",
          "text": [
            "WARNING: Logging before flag parsing goes to stderr.\n",
            "W0725 07:53:46.722522 140261770196864 deprecation.py:323] From <ipython-input-1-1d8ffff3e42a>:3: read_data_sets (from tensorflow.contrib.learn.python.learn.datasets.mnist) is deprecated and will be removed in a future version.\n",
            "Instructions for updating:\n",
            "Please use alternatives such as official/mnist/dataset.py from tensorflow/models.\n",
            "W0725 07:53:46.724536 140261770196864 deprecation.py:323] From /usr/local/lib/python3.6/dist-packages/tensorflow/contrib/learn/python/learn/datasets/mnist.py:260: maybe_download (from tensorflow.contrib.learn.python.learn.datasets.base) is deprecated and will be removed in a future version.\n",
            "Instructions for updating:\n",
            "Please write your own downloading logic.\n",
            "W0725 07:53:46.728708 140261770196864 deprecation.py:323] From /usr/local/lib/python3.6/dist-packages/tensorflow/contrib/learn/python/learn/datasets/mnist.py:262: extract_images (from tensorflow.contrib.learn.python.learn.datasets.mnist) is deprecated and will be removed in a future version.\n",
            "Instructions for updating:\n",
            "Please use tf.data to implement this functionality.\n"
          ],
          "name": "stderr"
        },
        {
          "output_type": "stream",
          "text": [
            "Extracting MNIST_data/train-images-idx3-ubyte.gz\n"
          ],
          "name": "stdout"
        },
        {
          "output_type": "stream",
          "text": [
            "W0725 07:53:46.964308 140261770196864 deprecation.py:323] From /usr/local/lib/python3.6/dist-packages/tensorflow/contrib/learn/python/learn/datasets/mnist.py:267: extract_labels (from tensorflow.contrib.learn.python.learn.datasets.mnist) is deprecated and will be removed in a future version.\n",
            "Instructions for updating:\n",
            "Please use tf.data to implement this functionality.\n",
            "W0725 07:53:47.007971 140261770196864 deprecation.py:323] From /usr/local/lib/python3.6/dist-packages/tensorflow/contrib/learn/python/learn/datasets/mnist.py:290: DataSet.__init__ (from tensorflow.contrib.learn.python.learn.datasets.mnist) is deprecated and will be removed in a future version.\n",
            "Instructions for updating:\n",
            "Please use alternatives such as official/mnist/dataset.py from tensorflow/models.\n"
          ],
          "name": "stderr"
        },
        {
          "output_type": "stream",
          "text": [
            "Extracting MNIST_data/train-labels-idx1-ubyte.gz\n",
            "Extracting MNIST_data/t10k-images-idx3-ubyte.gz\n",
            "Extracting MNIST_data/t10k-labels-idx1-ubyte.gz\n"
          ],
          "name": "stdout"
        }
      ]
    },
    {
      "cell_type": "code",
      "metadata": {
        "id": "BczEKZbPHum2",
        "colab_type": "code",
        "colab": {
          "base_uri": "https://localhost:8080/",
          "height": 34
        },
        "outputId": "b4b7a0c2-926c-4a6f-af92-7d86347290e1"
      },
      "source": [
        "import numpy as np\n",
        "\n",
        "np.unique(mnist.train._labels)"
      ],
      "execution_count": 2,
      "outputs": [
        {
          "output_type": "execute_result",
          "data": {
            "text/plain": [
              "array([0, 1, 2, 3, 4, 5, 6, 7, 8, 9], dtype=uint8)"
            ]
          },
          "metadata": {
            "tags": []
          },
          "execution_count": 2
        }
      ]
    },
    {
      "cell_type": "code",
      "metadata": {
        "id": "IbMS7ZPsH7ck",
        "colab_type": "code",
        "colab": {
          "base_uri": "https://localhost:8080/",
          "height": 1000
        },
        "outputId": "13adea14-6fe4-4e0e-c25b-fa7d3160aeed"
      },
      "source": [
        "import tensorflow as tf\n",
        "from tensorflow.examples.tutorials.mnist import input_data\n",
        "mnist = input_data.read_data_sets(\"MNIST_data/\")\n",
        "\n",
        "class RNN:\n",
        "  def __init__(self, learning_rate):\n",
        "    self.X = tf.placeholder(tf.float32, [None, 28, 28])\n",
        "    self.Y = tf.placeholder(tf.int32, [None])\n",
        "    \n",
        "    def cell():\n",
        "      return tf.nn.rnn_cell.BasicRNNCell(256)\n",
        "    \n",
        "    rnn_cells = tf.nn.rnn_cell.MultiRNNCell([cell() for _ in range(2)])\n",
        "    outputs, _ = tf.nn.dynamic_rnn(rnn_cells, self.X, dtype = tf.float32)\n",
        "    \n",
        "    self.logits = tf.layers.dense(outputs[:,-1], 10)\n",
        "    self.cost = tf.nn.sparse_softmax_cross_entropy_with_logits(\n",
        "    labels = self.Y, logits = self.logits)\n",
        "    self.cost = tf.reduce_mean(self.cost)\n",
        "    self.optimizer = tf.train.AdamOptimizer(learning_rate) \\\n",
        "    .minimize(self.cost)\n",
        "    correct_pred = tf.equal(\n",
        "            tf.argmax(self.logits, 1, output_type = tf.int32), self.Y\n",
        "        )\n",
        "    self.accuracy = tf.reduce_mean(tf.cast(correct_pred, tf.float32))\n",
        "    \n",
        "learning_rate = 1e-3\n",
        "batch_size = 128\n",
        "epoch = 10\n",
        "\n",
        "tf.reset_default_graph()\n",
        "sess = tf.InteractiveSession()\n",
        "model = RNN(learning_rate)\n",
        "sess.run(tf.global_variables_initializer())\n",
        "\n",
        "from tqdm import tqdm\n",
        "\n",
        "for e in range(epoch):\n",
        "  pbar = tqdm(\n",
        "        range(0, len(mnist.train._labels), batch_size), desc = 'train loop'\n",
        "    )\n",
        "  train_loss, train_acc, test_loss, test_acc = [], [], [], []\n",
        "  for i in pbar:\n",
        "    index = min(i + batch_size, len(mnist.train._labels))\n",
        "    batch_x = mnist.train._images[i: index]\n",
        "    batch_x = np.reshape(batch_x, (-1, 28, 28))\n",
        "    batch_y = mnist.train._labels[i: index]\n",
        "    _, cost, accuracy = sess.run([model.optimizer, model.cost, model.accuracy],\n",
        "                      feed_dict = {model.X: batch_x,\n",
        "                                  model.Y: batch_y})\n",
        "    train_loss.append(cost)\n",
        "    train_acc.append(accuracy)\n",
        "    pbar.set_postfix(cost = cost, accuracy = accuracy)\n",
        "\n",
        "  pbar = tqdm(\n",
        "        range(0, len(mnist.test._labels), batch_size), desc = 'test loop'\n",
        "    )  \n",
        "  for i in pbar:\n",
        "    index = min(i + batch_size, len(mnist.test._labels))\n",
        "    batch_x = mnist.test._images[i: index]\n",
        "    batch_x = np.reshape(batch_x, (-1, 28, 28))\n",
        "    batch_y = mnist.test._labels[i: index]\n",
        "    cost, accuracy = sess.run([model.cost, model.accuracy],\n",
        "                      feed_dict = {model.X: batch_x,\n",
        "                                  model.Y: batch_y})\n",
        "    test_loss.append(cost)\n",
        "    test_acc.append(accuracy)\n",
        "    pbar.set_postfix(cost = cost, accuracy = accuracy)\n",
        "  \n",
        "  \n",
        "  print('\\nepoch: %d, avg train loss: %f, avg train accuracy: %f'%(e + 1,\n",
        "                                                             np.mean(train_loss),\n",
        "                                                             np.mean(train_acc)))\n",
        "  print('epoch: %d, avg test loss: %f, avg test accuracy: %f'%(e + 1,\n",
        "                                                             np.mean(test_loss),\n",
        "                                                             np.mean(test_acc)))"
      ],
      "execution_count": 3,
      "outputs": [
        {
          "output_type": "stream",
          "text": [
            "Extracting MNIST_data/train-images-idx3-ubyte.gz\n",
            "Extracting MNIST_data/train-labels-idx1-ubyte.gz\n",
            "Extracting MNIST_data/t10k-images-idx3-ubyte.gz\n",
            "Extracting MNIST_data/t10k-labels-idx1-ubyte.gz\n"
          ],
          "name": "stdout"
        },
        {
          "output_type": "stream",
          "text": [
            "W0725 08:04:24.127211 140261770196864 deprecation.py:323] From <ipython-input-3-2ea81dfad9d8>:11: BasicRNNCell.__init__ (from tensorflow.python.ops.rnn_cell_impl) is deprecated and will be removed in a future version.\n",
            "Instructions for updating:\n",
            "This class is equivalent as tf.keras.layers.SimpleRNNCell, and will be replaced by that in Tensorflow 2.0.\n",
            "W0725 08:04:24.131228 140261770196864 deprecation.py:323] From <ipython-input-3-2ea81dfad9d8>:13: MultiRNNCell.__init__ (from tensorflow.python.ops.rnn_cell_impl) is deprecated and will be removed in a future version.\n",
            "Instructions for updating:\n",
            "This class is equivalent as tf.keras.layers.StackedRNNCells, and will be replaced by that in Tensorflow 2.0.\n",
            "W0725 08:04:24.133150 140261770196864 deprecation.py:323] From <ipython-input-3-2ea81dfad9d8>:14: dynamic_rnn (from tensorflow.python.ops.rnn) is deprecated and will be removed in a future version.\n",
            "Instructions for updating:\n",
            "Please use `keras.layers.RNN(cell)`, which is equivalent to this API\n",
            "W0725 08:04:24.449349 140261770196864 deprecation.py:506] From /usr/local/lib/python3.6/dist-packages/tensorflow/python/ops/init_ops.py:1251: calling VarianceScaling.__init__ (from tensorflow.python.ops.init_ops) with dtype is deprecated and will be removed in a future version.\n",
            "Instructions for updating:\n",
            "Call initializer instance with the dtype argument instead of passing it to the constructor\n",
            "W0725 08:04:24.460289 140261770196864 deprecation.py:506] From /usr/local/lib/python3.6/dist-packages/tensorflow/python/ops/rnn_cell_impl.py:459: calling Zeros.__init__ (from tensorflow.python.ops.init_ops) with dtype is deprecated and will be removed in a future version.\n",
            "Instructions for updating:\n",
            "Call initializer instance with the dtype argument instead of passing it to the constructor\n",
            "W0725 08:04:24.703514 140261770196864 deprecation.py:323] From <ipython-input-3-2ea81dfad9d8>:16: dense (from tensorflow.python.layers.core) is deprecated and will be removed in a future version.\n",
            "Instructions for updating:\n",
            "Use keras.layers.dense instead.\n",
            "train loop: 100%|██████████| 430/430 [00:08<00:00, 48.73it/s, accuracy=0.943, cost=0.266]\n",
            "test loop: 100%|██████████| 79/79 [00:01<00:00, 77.79it/s, accuracy=1, cost=0.0637]\n",
            "train loop:   1%|          | 5/430 [00:00<00:08, 49.30it/s, accuracy=0.945, cost=0.213]"
          ],
          "name": "stderr"
        },
        {
          "output_type": "stream",
          "text": [
            "\n",
            "epoch: 1, avg train loss: 0.401285, avg train accuracy: 0.875322\n",
            "epoch: 1, avg test loss: 0.284025, avg test accuracy: 0.916634\n"
          ],
          "name": "stdout"
        },
        {
          "output_type": "stream",
          "text": [
            "train loop: 100%|██████████| 430/430 [00:08<00:00, 51.18it/s, accuracy=0.989, cost=0.163]\n",
            "test loop: 100%|██████████| 79/79 [00:00<00:00, 82.50it/s, accuracy=1, cost=0.0388]\n",
            "train loop:   1%|          | 5/430 [00:00<00:09, 45.05it/s, accuracy=0.93, cost=0.185] "
          ],
          "name": "stderr"
        },
        {
          "output_type": "stream",
          "text": [
            "\n",
            "epoch: 2, avg train loss: 0.198081, avg train accuracy: 0.940508\n",
            "epoch: 2, avg test loss: 0.231354, avg test accuracy: 0.930676\n"
          ],
          "name": "stdout"
        },
        {
          "output_type": "stream",
          "text": [
            "train loop: 100%|██████████| 430/430 [00:08<00:00, 49.40it/s, accuracy=0.92, cost=0.273]\n",
            "test loop: 100%|██████████| 79/79 [00:00<00:00, 79.86it/s, accuracy=0.938, cost=0.145]\n",
            "train loop:   1%|          | 5/430 [00:00<00:08, 48.19it/s, accuracy=0.969, cost=0.167] "
          ],
          "name": "stderr"
        },
        {
          "output_type": "stream",
          "text": [
            "\n",
            "epoch: 3, avg train loss: 0.157072, avg train accuracy: 0.953194\n",
            "epoch: 3, avg test loss: 0.184340, avg test accuracy: 0.942642\n"
          ],
          "name": "stdout"
        },
        {
          "output_type": "stream",
          "text": [
            "train loop: 100%|██████████| 430/430 [00:08<00:00, 50.94it/s, accuracy=0.966, cost=0.174]\n",
            "test loop: 100%|██████████| 79/79 [00:00<00:00, 82.98it/s, accuracy=1, cost=0.014]\n",
            "train loop:   1%|▏         | 6/430 [00:00<00:08, 50.31it/s, accuracy=0.969, cost=0.115] "
          ],
          "name": "stderr"
        },
        {
          "output_type": "stream",
          "text": [
            "\n",
            "epoch: 4, avg train loss: 0.131052, avg train accuracy: 0.961476\n",
            "epoch: 4, avg test loss: 0.109648, avg test accuracy: 0.967464\n"
          ],
          "name": "stdout"
        },
        {
          "output_type": "stream",
          "text": [
            "train loop: 100%|██████████| 430/430 [00:08<00:00, 51.60it/s, accuracy=0.989, cost=0.153]\n",
            "test loop: 100%|██████████| 79/79 [00:00<00:00, 83.74it/s, accuracy=1, cost=0.00229]\n",
            "train loop:   1%|▏         | 6/430 [00:00<00:07, 54.05it/s, accuracy=0.992, cost=0.0638]"
          ],
          "name": "stderr"
        },
        {
          "output_type": "stream",
          "text": [
            "\n",
            "epoch: 5, avg train loss: 0.121793, avg train accuracy: 0.962982\n",
            "epoch: 5, avg test loss: 0.098722, avg test accuracy: 0.972112\n"
          ],
          "name": "stdout"
        },
        {
          "output_type": "stream",
          "text": [
            "train loop: 100%|██████████| 430/430 [00:08<00:00, 48.94it/s, accuracy=0.966, cost=0.18]\n",
            "test loop: 100%|██████████| 79/79 [00:00<00:00, 86.56it/s, accuracy=1, cost=0.00934]\n",
            "train loop:   1%|          | 5/430 [00:00<00:09, 44.23it/s, accuracy=0.969, cost=0.0898]"
          ],
          "name": "stderr"
        },
        {
          "output_type": "stream",
          "text": [
            "\n",
            "epoch: 6, avg train loss: 0.125424, avg train accuracy: 0.962875\n",
            "epoch: 6, avg test loss: 0.134904, avg test accuracy: 0.962520\n"
          ],
          "name": "stdout"
        },
        {
          "output_type": "stream",
          "text": [
            "train loop: 100%|██████████| 430/430 [00:08<00:00, 51.99it/s, accuracy=0.989, cost=0.113]\n",
            "test loop: 100%|██████████| 79/79 [00:00<00:00, 85.50it/s, accuracy=1, cost=0.00461]\n",
            "train loop:   1%|▏         | 6/430 [00:00<00:07, 53.01it/s, accuracy=0.977, cost=0.0752]"
          ],
          "name": "stderr"
        },
        {
          "output_type": "stream",
          "text": [
            "\n",
            "epoch: 7, avg train loss: 0.105594, avg train accuracy: 0.968814\n",
            "epoch: 7, avg test loss: 0.084006, avg test accuracy: 0.975969\n"
          ],
          "name": "stdout"
        },
        {
          "output_type": "stream",
          "text": [
            "train loop: 100%|██████████| 430/430 [00:08<00:00, 51.45it/s, accuracy=0.977, cost=0.15]\n",
            "test loop: 100%|██████████| 79/79 [00:00<00:00, 84.02it/s, accuracy=1, cost=0.00453]\n",
            "train loop:   1%|▏         | 6/430 [00:00<00:08, 51.13it/s, accuracy=0.984, cost=0.0471]"
          ],
          "name": "stderr"
        },
        {
          "output_type": "stream",
          "text": [
            "\n",
            "epoch: 8, avg train loss: 0.097464, avg train accuracy: 0.971186\n",
            "epoch: 8, avg test loss: 0.114028, avg test accuracy: 0.965981\n"
          ],
          "name": "stdout"
        },
        {
          "output_type": "stream",
          "text": [
            "train loop: 100%|██████████| 430/430 [00:08<00:00, 52.59it/s, accuracy=0.977, cost=0.131]\n",
            "test loop: 100%|██████████| 79/79 [00:00<00:00, 83.76it/s, accuracy=1, cost=0.0305]\n",
            "train loop:   1%|▏         | 6/430 [00:00<00:08, 51.26it/s, accuracy=0.977, cost=0.0683]"
          ],
          "name": "stderr"
        },
        {
          "output_type": "stream",
          "text": [
            "\n",
            "epoch: 9, avg train loss: 0.110708, avg train accuracy: 0.967625\n",
            "epoch: 9, avg test loss: 0.102293, avg test accuracy: 0.970728\n"
          ],
          "name": "stdout"
        },
        {
          "output_type": "stream",
          "text": [
            "train loop: 100%|██████████| 430/430 [00:08<00:00, 53.28it/s, accuracy=0.966, cost=0.158]\n",
            "test loop: 100%|██████████| 79/79 [00:00<00:00, 84.96it/s, accuracy=1, cost=0.00925]"
          ],
          "name": "stderr"
        },
        {
          "output_type": "stream",
          "text": [
            "\n",
            "epoch: 10, avg train loss: 0.094465, avg train accuracy: 0.972413\n",
            "epoch: 10, avg test loss: 0.092329, avg test accuracy: 0.974189\n"
          ],
          "name": "stdout"
        },
        {
          "output_type": "stream",
          "text": [
            "\n"
          ],
          "name": "stderr"
        }
      ]
    }
  ]
}