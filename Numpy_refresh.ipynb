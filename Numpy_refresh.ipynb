{
  "nbformat": 4,
  "nbformat_minor": 0,
  "metadata": {
    "colab": {
      "name": "Numpy_refresh.ipynb",
      "version": "0.3.2",
      "provenance": []
    },
    "kernelspec": {
      "name": "python3",
      "display_name": "Python 3"
    }
  },
  "cells": [
    {
      "cell_type": "code",
      "metadata": {
        "id": "C2nuzd9-Cu4Y",
        "colab_type": "code",
        "colab": {}
      },
      "source": [
        "import numpy as np  #we can replace np with any name"
      ],
      "execution_count": 0,
      "outputs": []
    },
    {
      "cell_type": "code",
      "metadata": {
        "id": "A9uY3Y8fD_c7",
        "colab_type": "code",
        "colab": {
          "base_uri": "https://localhost:8080/",
          "height": 34
        },
        "outputId": "2afd80e6-2d23-46f8-ca57-1d48e29e0906"
      },
      "source": [
        "x = [1,2,3,4,5,6]\n",
        "np_x = np.array(x)\n",
        "np_x"
      ],
      "execution_count": 2,
      "outputs": [
        {
          "output_type": "execute_result",
          "data": {
            "text/plain": [
              "array([1, 2, 3, 4, 5, 6])"
            ]
          },
          "metadata": {
            "tags": []
          },
          "execution_count": 2
        }
      ]
    },
    {
      "cell_type": "code",
      "metadata": {
        "id": "uAkWvdS6D7mH",
        "colab_type": "code",
        "colab": {
          "base_uri": "https://localhost:8080/",
          "height": 34
        },
        "outputId": "49ea07dc-e8f8-4806-e1a4-bd472c733f0a"
      },
      "source": [
        "# get shape\n",
        "np_x.shape"
      ],
      "execution_count": 3,
      "outputs": [
        {
          "output_type": "execute_result",
          "data": {
            "text/plain": [
              "(6,)"
            ]
          },
          "metadata": {
            "tags": []
          },
          "execution_count": 3
        }
      ]
    },
    {
      "cell_type": "code",
      "metadata": {
        "id": "UPiY9H3IEVTN",
        "colab_type": "code",
        "colab": {
          "base_uri": "https://localhost:8080/",
          "height": 34
        },
        "outputId": "fc614c81-ebee-4a47-abe6-19ae6ede5cd6"
      },
      "source": [
        "# type\n",
        "# It will follow PC, if PC is 64bit, automatically will be int64\n",
        "np_x.dtype"
      ],
      "execution_count": 4,
      "outputs": [
        {
          "output_type": "execute_result",
          "data": {
            "text/plain": [
              "dtype('int64')"
            ]
          },
          "metadata": {
            "tags": []
          },
          "execution_count": 4
        }
      ]
    },
    {
      "cell_type": "code",
      "metadata": {
        "id": "n_hd0I8yEeYW",
        "colab_type": "code",
        "colab": {
          "base_uri": "https://localhost:8080/",
          "height": 34
        },
        "outputId": "14a34495-e119-4094-f1da-f2c20cca68f5"
      },
      "source": [
        "np_x[0] # indexing, reassign"
      ],
      "execution_count": 5,
      "outputs": [
        {
          "output_type": "execute_result",
          "data": {
            "text/plain": [
              "1"
            ]
          },
          "metadata": {
            "tags": []
          },
          "execution_count": 5
        }
      ]
    },
    {
      "cell_type": "code",
      "metadata": {
        "id": "KpdHjZB8EgBq",
        "colab_type": "code",
        "colab": {
          "base_uri": "https://localhost:8080/",
          "height": 34
        },
        "outputId": "7304cbd2-d02f-431f-d055-f8ea58115490"
      },
      "source": [
        "np_x[0] = 1.12131 # dilute\n",
        "np_x"
      ],
      "execution_count": 6,
      "outputs": [
        {
          "output_type": "execute_result",
          "data": {
            "text/plain": [
              "array([1, 2, 3, 4, 5, 6])"
            ]
          },
          "metadata": {
            "tags": []
          },
          "execution_count": 6
        }
      ]
    },
    {
      "cell_type": "code",
      "metadata": {
        "id": "QW0tBgasEyri",
        "colab_type": "code",
        "colab": {
          "base_uri": "https://localhost:8080/",
          "height": 34
        },
        "outputId": "7a80c522-bfe7-4fa7-ad86-b4643fbf9de8"
      },
      "source": [
        "np_x_float = np_x.astype(np.float64)\n",
        "np_x_float"
      ],
      "execution_count": 7,
      "outputs": [
        {
          "output_type": "execute_result",
          "data": {
            "text/plain": [
              "array([1., 2., 3., 4., 5., 6.])"
            ]
          },
          "metadata": {
            "tags": []
          },
          "execution_count": 7
        }
      ]
    },
    {
      "cell_type": "code",
      "metadata": {
        "id": "TSOn8755FOp9",
        "colab_type": "code",
        "colab": {
          "base_uri": "https://localhost:8080/",
          "height": 34
        },
        "outputId": "2bd8720d-d2f0-43bf-c605-51bfcf536b4e"
      },
      "source": [
        "np_x_float[0] = 1.12131\n",
        "np_x_float"
      ],
      "execution_count": 8,
      "outputs": [
        {
          "output_type": "execute_result",
          "data": {
            "text/plain": [
              "array([1.12131, 2.     , 3.     , 4.     , 5.     , 6.     ])"
            ]
          },
          "metadata": {
            "tags": []
          },
          "execution_count": 8
        }
      ]
    },
    {
      "cell_type": "markdown",
      "metadata": {
        "id": "jQFWePDYFULd",
        "colab_type": "text"
      },
      "source": [
        "## reshaping"
      ]
    },
    {
      "cell_type": "code",
      "metadata": {
        "id": "iqf7DuhRFQA3",
        "colab_type": "code",
        "colab": {
          "base_uri": "https://localhost:8080/",
          "height": 139
        },
        "outputId": "59482e3f-a256-448b-b308-7f783601c134"
      },
      "source": [
        "x = np.arange(100)\n",
        "x"
      ],
      "execution_count": 26,
      "outputs": [
        {
          "output_type": "execute_result",
          "data": {
            "text/plain": [
              "array([ 0,  1,  2,  3,  4,  5,  6,  7,  8,  9, 10, 11, 12, 13, 14, 15, 16,\n",
              "       17, 18, 19, 20, 21, 22, 23, 24, 25, 26, 27, 28, 29, 30, 31, 32, 33,\n",
              "       34, 35, 36, 37, 38, 39, 40, 41, 42, 43, 44, 45, 46, 47, 48, 49, 50,\n",
              "       51, 52, 53, 54, 55, 56, 57, 58, 59, 60, 61, 62, 63, 64, 65, 66, 67,\n",
              "       68, 69, 70, 71, 72, 73, 74, 75, 76, 77, 78, 79, 80, 81, 82, 83, 84,\n",
              "       85, 86, 87, 88, 89, 90, 91, 92, 93, 94, 95, 96, 97, 98, 99])"
            ]
          },
          "metadata": {
            "tags": []
          },
          "execution_count": 26
        }
      ]
    },
    {
      "cell_type": "code",
      "metadata": {
        "id": "1f3ZLMIBFcp4",
        "colab_type": "code",
        "colab": {
          "base_uri": "https://localhost:8080/",
          "height": 88
        },
        "outputId": "4648d591-f831-4ad8-f2d5-8f9d5e86e508"
      },
      "source": [
        "y = np.arange(0,100,2)\n",
        "y"
      ],
      "execution_count": 25,
      "outputs": [
        {
          "output_type": "execute_result",
          "data": {
            "text/plain": [
              "array([ 0,  2,  4,  6,  8, 10, 12, 14, 16, 18, 20, 22, 24, 26, 28, 30, 32,\n",
              "       34, 36, 38, 40, 42, 44, 46, 48, 50, 52, 54, 56, 58, 60, 62, 64, 66,\n",
              "       68, 70, 72, 74, 76, 78, 80, 82, 84, 86, 88, 90, 92, 94, 96, 98])"
            ]
          },
          "metadata": {
            "tags": []
          },
          "execution_count": 25
        }
      ]
    },
    {
      "cell_type": "code",
      "metadata": {
        "id": "LQL1LiRvFf4M",
        "colab_type": "code",
        "colab": {
          "base_uri": "https://localhost:8080/",
          "height": 34
        },
        "outputId": "333f3d62-842e-4922-c093-ab67e7d4c9ba"
      },
      "source": [
        "x_2d = np.reshape(x, (50, -1)) #-1 can be replaced by any negative number\n",
        "x_2d.shape                     # so let say from 0 to 100, divide by 50, will be 2, so 2 will replace the -1"
      ],
      "execution_count": 21,
      "outputs": [
        {
          "output_type": "execute_result",
          "data": {
            "text/plain": [
              "(50, 1)"
            ]
          },
          "metadata": {
            "tags": []
          },
          "execution_count": 21
        }
      ]
    },
    {
      "cell_type": "code",
      "metadata": {
        "id": "1rEYSkuNGnm3",
        "colab_type": "code",
        "colab": {
          "base_uri": "https://localhost:8080/",
          "height": 326
        },
        "outputId": "93dd6bd1-d0fa-4a30-e6bf-19f2d4409c80"
      },
      "source": [
        "np.reshape(x, (10, 7, -1)).shape"
      ],
      "execution_count": 33,
      "outputs": [
        {
          "output_type": "error",
          "ename": "ValueError",
          "evalue": "ignored",
          "traceback": [
            "\u001b[0;31m---------------------------------------------------------------------------\u001b[0m",
            "\u001b[0;31mValueError\u001b[0m                                Traceback (most recent call last)",
            "\u001b[0;32m<ipython-input-33-f629002bbd6e>\u001b[0m in \u001b[0;36m<module>\u001b[0;34m()\u001b[0m\n\u001b[0;32m----> 1\u001b[0;31m \u001b[0mnp\u001b[0m\u001b[0;34m.\u001b[0m\u001b[0mreshape\u001b[0m\u001b[0;34m(\u001b[0m\u001b[0mx\u001b[0m\u001b[0;34m,\u001b[0m \u001b[0;34m(\u001b[0m\u001b[0;36m10\u001b[0m\u001b[0;34m,\u001b[0m \u001b[0;36m7\u001b[0m\u001b[0;34m,\u001b[0m \u001b[0;34m-\u001b[0m\u001b[0;36m1\u001b[0m\u001b[0;34m)\u001b[0m\u001b[0;34m)\u001b[0m\u001b[0;34m.\u001b[0m\u001b[0mshape\u001b[0m\u001b[0;34m\u001b[0m\u001b[0;34m\u001b[0m\u001b[0m\n\u001b[0m",
            "\u001b[0;32m/usr/local/lib/python3.6/dist-packages/numpy/core/fromnumeric.py\u001b[0m in \u001b[0;36mreshape\u001b[0;34m(a, newshape, order)\u001b[0m\n\u001b[1;32m    290\u001b[0m            [5, 6]])\n\u001b[1;32m    291\u001b[0m     \"\"\"\n\u001b[0;32m--> 292\u001b[0;31m     \u001b[0;32mreturn\u001b[0m \u001b[0m_wrapfunc\u001b[0m\u001b[0;34m(\u001b[0m\u001b[0ma\u001b[0m\u001b[0;34m,\u001b[0m \u001b[0;34m'reshape'\u001b[0m\u001b[0;34m,\u001b[0m \u001b[0mnewshape\u001b[0m\u001b[0;34m,\u001b[0m \u001b[0morder\u001b[0m\u001b[0;34m=\u001b[0m\u001b[0morder\u001b[0m\u001b[0;34m)\u001b[0m\u001b[0;34m\u001b[0m\u001b[0;34m\u001b[0m\u001b[0m\n\u001b[0m\u001b[1;32m    293\u001b[0m \u001b[0;34m\u001b[0m\u001b[0m\n\u001b[1;32m    294\u001b[0m \u001b[0;34m\u001b[0m\u001b[0m\n",
            "\u001b[0;32m/usr/local/lib/python3.6/dist-packages/numpy/core/fromnumeric.py\u001b[0m in \u001b[0;36m_wrapfunc\u001b[0;34m(obj, method, *args, **kwds)\u001b[0m\n\u001b[1;32m     54\u001b[0m \u001b[0;32mdef\u001b[0m \u001b[0m_wrapfunc\u001b[0m\u001b[0;34m(\u001b[0m\u001b[0mobj\u001b[0m\u001b[0;34m,\u001b[0m \u001b[0mmethod\u001b[0m\u001b[0;34m,\u001b[0m \u001b[0;34m*\u001b[0m\u001b[0margs\u001b[0m\u001b[0;34m,\u001b[0m \u001b[0;34m**\u001b[0m\u001b[0mkwds\u001b[0m\u001b[0;34m)\u001b[0m\u001b[0;34m:\u001b[0m\u001b[0;34m\u001b[0m\u001b[0;34m\u001b[0m\u001b[0m\n\u001b[1;32m     55\u001b[0m     \u001b[0;32mtry\u001b[0m\u001b[0;34m:\u001b[0m\u001b[0;34m\u001b[0m\u001b[0;34m\u001b[0m\u001b[0m\n\u001b[0;32m---> 56\u001b[0;31m         \u001b[0;32mreturn\u001b[0m \u001b[0mgetattr\u001b[0m\u001b[0;34m(\u001b[0m\u001b[0mobj\u001b[0m\u001b[0;34m,\u001b[0m \u001b[0mmethod\u001b[0m\u001b[0;34m)\u001b[0m\u001b[0;34m(\u001b[0m\u001b[0;34m*\u001b[0m\u001b[0margs\u001b[0m\u001b[0;34m,\u001b[0m \u001b[0;34m**\u001b[0m\u001b[0mkwds\u001b[0m\u001b[0;34m)\u001b[0m\u001b[0;34m\u001b[0m\u001b[0;34m\u001b[0m\u001b[0m\n\u001b[0m\u001b[1;32m     57\u001b[0m \u001b[0;34m\u001b[0m\u001b[0m\n\u001b[1;32m     58\u001b[0m     \u001b[0;31m# An AttributeError occurs if the object does not have\u001b[0m\u001b[0;34m\u001b[0m\u001b[0;34m\u001b[0m\u001b[0;34m\u001b[0m\u001b[0m\n",
            "\u001b[0;31mValueError\u001b[0m: cannot reshape array of size 100 into shape (10,7,newaxis)"
          ]
        }
      ]
    },
    {
      "cell_type": "code",
      "metadata": {
        "id": "CVr0gUVIGqqb",
        "colab_type": "code",
        "colab": {
          "base_uri": "https://localhost:8080/",
          "height": 34
        },
        "outputId": "6373f990-79ac-40bd-e400-96615606e58f"
      },
      "source": [
        "np.reshape(x, (10, 2, 5)).shape"
      ],
      "execution_count": 30,
      "outputs": [
        {
          "output_type": "execute_result",
          "data": {
            "text/plain": [
              "(10, 2, 5)"
            ]
          },
          "metadata": {
            "tags": []
          },
          "execution_count": 30
        }
      ]
    },
    {
      "cell_type": "code",
      "metadata": {
        "id": "x41CkbNDGuWK",
        "colab_type": "code",
        "colab": {
          "base_uri": "https://localhost:8080/",
          "height": 34
        },
        "outputId": "1bf70ab9-10a3-4041-9c40-23217f31cbdf"
      },
      "source": [
        "np.reshape(x, (10, 2, 5, 1, 1, 1, 1, 1)).shape"
      ],
      "execution_count": 34,
      "outputs": [
        {
          "output_type": "execute_result",
          "data": {
            "text/plain": [
              "(10, 2, 5, 1, 1, 1, 1, 1)"
            ]
          },
          "metadata": {
            "tags": []
          },
          "execution_count": 34
        }
      ]
    },
    {
      "cell_type": "markdown",
      "metadata": {
        "id": "Zj7IioCLI0h_",
        "colab_type": "text"
      },
      "source": [
        "## Concatenate"
      ]
    },
    {
      "cell_type": "code",
      "metadata": {
        "id": "rKmaBJqUIrY7",
        "colab_type": "code",
        "colab": {}
      },
      "source": [
        "x = np.arange(20)\n",
        "y = np.arange(20)\n",
        "x_2d = np.reshape(x, (10, 2))\n",
        "y_2d = np.reshape(y, (10, 2))"
      ],
      "execution_count": 0,
      "outputs": []
    },
    {
      "cell_type": "code",
      "metadata": {
        "id": "ToBHHE58I7EA",
        "colab_type": "code",
        "colab": {
          "base_uri": "https://localhost:8080/",
          "height": 34
        },
        "outputId": "5362c0f6-7494-4365-87f2-a3325f0cd465"
      },
      "source": [
        "x_2d.shape, y_2d.shape"
      ],
      "execution_count": 36,
      "outputs": [
        {
          "output_type": "execute_result",
          "data": {
            "text/plain": [
              "((10, 2), (10, 2))"
            ]
          },
          "metadata": {
            "tags": []
          },
          "execution_count": 36
        }
      ]
    },
    {
      "cell_type": "code",
      "metadata": {
        "id": "_HFMmm3vI_7X",
        "colab_type": "code",
        "colab": {
          "base_uri": "https://localhost:8080/",
          "height": 34
        },
        "outputId": "f238e76e-a596-4ecb-cf44-57f898d29ec7"
      },
      "source": [
        "np.concatenate([x_2d,y_2d], axis=1).shape"
      ],
      "execution_count": 37,
      "outputs": [
        {
          "output_type": "execute_result",
          "data": {
            "text/plain": [
              "(10, 4)"
            ]
          },
          "metadata": {
            "tags": []
          },
          "execution_count": 37
        }
      ]
    },
    {
      "cell_type": "code",
      "metadata": {
        "id": "vPVuVECeJH4t",
        "colab_type": "code",
        "colab": {
          "base_uri": "https://localhost:8080/",
          "height": 187
        },
        "outputId": "b51b0da2-8f9d-4614-a912-3e887f743783"
      },
      "source": [
        "np.concatenate([x_2d,y_2d], axis=1)"
      ],
      "execution_count": 38,
      "outputs": [
        {
          "output_type": "execute_result",
          "data": {
            "text/plain": [
              "array([[ 0,  1,  0,  1],\n",
              "       [ 2,  3,  2,  3],\n",
              "       [ 4,  5,  4,  5],\n",
              "       [ 6,  7,  6,  7],\n",
              "       [ 8,  9,  8,  9],\n",
              "       [10, 11, 10, 11],\n",
              "       [12, 13, 12, 13],\n",
              "       [14, 15, 14, 15],\n",
              "       [16, 17, 16, 17],\n",
              "       [18, 19, 18, 19]])"
            ]
          },
          "metadata": {
            "tags": []
          },
          "execution_count": 38
        }
      ]
    },
    {
      "cell_type": "code",
      "metadata": {
        "id": "iV0PXmgqJOOB",
        "colab_type": "code",
        "colab": {
          "base_uri": "https://localhost:8080/",
          "height": 34
        },
        "outputId": "7e1c97b1-db44-445e-a133-899ab6c84ecc"
      },
      "source": [
        "np.concatenate([x_2d,y_2d], axis=0).shape"
      ],
      "execution_count": 39,
      "outputs": [
        {
          "output_type": "execute_result",
          "data": {
            "text/plain": [
              "(20, 2)"
            ]
          },
          "metadata": {
            "tags": []
          },
          "execution_count": 39
        }
      ]
    },
    {
      "cell_type": "code",
      "metadata": {
        "id": "F0pjaPSfJSpp",
        "colab_type": "code",
        "colab": {
          "base_uri": "https://localhost:8080/",
          "height": 357
        },
        "outputId": "de890673-a19c-4386-f6eb-d256373d2a78"
      },
      "source": [
        "np.concatenate([x_2d,y_2d], axis=0)"
      ],
      "execution_count": 40,
      "outputs": [
        {
          "output_type": "execute_result",
          "data": {
            "text/plain": [
              "array([[ 0,  1],\n",
              "       [ 2,  3],\n",
              "       [ 4,  5],\n",
              "       [ 6,  7],\n",
              "       [ 8,  9],\n",
              "       [10, 11],\n",
              "       [12, 13],\n",
              "       [14, 15],\n",
              "       [16, 17],\n",
              "       [18, 19],\n",
              "       [ 0,  1],\n",
              "       [ 2,  3],\n",
              "       [ 4,  5],\n",
              "       [ 6,  7],\n",
              "       [ 8,  9],\n",
              "       [10, 11],\n",
              "       [12, 13],\n",
              "       [14, 15],\n",
              "       [16, 17],\n",
              "       [18, 19]])"
            ]
          },
          "metadata": {
            "tags": []
          },
          "execution_count": 40
        }
      ]
    },
    {
      "cell_type": "code",
      "metadata": {
        "id": "94XFzdXQJUMv",
        "colab_type": "code",
        "colab": {}
      },
      "source": [
        "#small example\n",
        "x = np.arange(5)\n",
        "y = np.arange(5,10)\n",
        "x_2d = np.reshape(x, (5, 1))\n",
        "y_2d = np.reshape(y, (5, 1))"
      ],
      "execution_count": 0,
      "outputs": []
    },
    {
      "cell_type": "code",
      "metadata": {
        "id": "ugwml2zcJpK9",
        "colab_type": "code",
        "colab": {
          "base_uri": "https://localhost:8080/",
          "height": 102
        },
        "outputId": "09d6b1ac-e380-43ce-a33f-41c17c36c871"
      },
      "source": [
        "x_2d"
      ],
      "execution_count": 42,
      "outputs": [
        {
          "output_type": "execute_result",
          "data": {
            "text/plain": [
              "array([[0],\n",
              "       [1],\n",
              "       [2],\n",
              "       [3],\n",
              "       [4]])"
            ]
          },
          "metadata": {
            "tags": []
          },
          "execution_count": 42
        }
      ]
    },
    {
      "cell_type": "code",
      "metadata": {
        "id": "ikUf_uyaJp2C",
        "colab_type": "code",
        "colab": {
          "base_uri": "https://localhost:8080/",
          "height": 102
        },
        "outputId": "005a8d9f-b449-4f88-d6c4-e9209090e246"
      },
      "source": [
        "y_2d"
      ],
      "execution_count": 43,
      "outputs": [
        {
          "output_type": "execute_result",
          "data": {
            "text/plain": [
              "array([[5],\n",
              "       [6],\n",
              "       [7],\n",
              "       [8],\n",
              "       [9]])"
            ]
          },
          "metadata": {
            "tags": []
          },
          "execution_count": 43
        }
      ]
    },
    {
      "cell_type": "code",
      "metadata": {
        "id": "EJRytA8KJqzt",
        "colab_type": "code",
        "colab": {
          "base_uri": "https://localhost:8080/",
          "height": 102
        },
        "outputId": "e7296996-9bcb-4080-fc5c-20c791154d13"
      },
      "source": [
        "np.concatenate([x_2d,y_2d], axis=1) #combine at column 1"
      ],
      "execution_count": 44,
      "outputs": [
        {
          "output_type": "execute_result",
          "data": {
            "text/plain": [
              "array([[0, 5],\n",
              "       [1, 6],\n",
              "       [2, 7],\n",
              "       [3, 8],\n",
              "       [4, 9]])"
            ]
          },
          "metadata": {
            "tags": []
          },
          "execution_count": 44
        }
      ]
    },
    {
      "cell_type": "code",
      "metadata": {
        "id": "Jhqi6kzCJy_r",
        "colab_type": "code",
        "colab": {
          "base_uri": "https://localhost:8080/",
          "height": 187
        },
        "outputId": "2d5f0e33-0d92-46c5-beb5-0d04c141df30"
      },
      "source": [
        "np.concatenate([x_2d,y_2d], axis=0)"
      ],
      "execution_count": 45,
      "outputs": [
        {
          "output_type": "execute_result",
          "data": {
            "text/plain": [
              "array([[0],\n",
              "       [1],\n",
              "       [2],\n",
              "       [3],\n",
              "       [4],\n",
              "       [5],\n",
              "       [6],\n",
              "       [7],\n",
              "       [8],\n",
              "       [9]])"
            ]
          },
          "metadata": {
            "tags": []
          },
          "execution_count": 45
        }
      ]
    },
    {
      "cell_type": "code",
      "metadata": {
        "id": "5i7gijSdJ2tY",
        "colab_type": "code",
        "colab": {
          "base_uri": "https://localhost:8080/",
          "height": 34
        },
        "outputId": "75451a69-119c-4f84-d77c-34c44e3c5a2e"
      },
      "source": [
        "np.concatenate([x_2d,y_2d], axis=0).shape"
      ],
      "execution_count": 46,
      "outputs": [
        {
          "output_type": "execute_result",
          "data": {
            "text/plain": [
              "(10, 1)"
            ]
          },
          "metadata": {
            "tags": []
          },
          "execution_count": 46
        }
      ]
    },
    {
      "cell_type": "code",
      "metadata": {
        "id": "v3wcm-S9KYe1",
        "colab_type": "code",
        "colab": {
          "base_uri": "https://localhost:8080/",
          "height": 183
        },
        "outputId": "1501e8f4-b76b-45f1-f22b-36def8f80b2f"
      },
      "source": [
        "np.concatenate([x_2d, y_2d], axis = 2) # error, axis not exist"
      ],
      "execution_count": 47,
      "outputs": [
        {
          "output_type": "error",
          "ename": "AxisError",
          "evalue": "ignored",
          "traceback": [
            "\u001b[0;31m---------------------------------------------------------------------------\u001b[0m",
            "\u001b[0;31mAxisError\u001b[0m                                 Traceback (most recent call last)",
            "\u001b[0;32m<ipython-input-47-3d8b7846c59e>\u001b[0m in \u001b[0;36m<module>\u001b[0;34m()\u001b[0m\n\u001b[0;32m----> 1\u001b[0;31m \u001b[0mnp\u001b[0m\u001b[0;34m.\u001b[0m\u001b[0mconcatenate\u001b[0m\u001b[0;34m(\u001b[0m\u001b[0;34m[\u001b[0m\u001b[0mx_2d\u001b[0m\u001b[0;34m,\u001b[0m \u001b[0my_2d\u001b[0m\u001b[0;34m]\u001b[0m\u001b[0;34m,\u001b[0m \u001b[0maxis\u001b[0m \u001b[0;34m=\u001b[0m \u001b[0;36m2\u001b[0m\u001b[0;34m)\u001b[0m \u001b[0;31m# error, axis not exist\u001b[0m\u001b[0;34m\u001b[0m\u001b[0;34m\u001b[0m\u001b[0m\n\u001b[0m",
            "\u001b[0;31mAxisError\u001b[0m: axis 2 is out of bounds for array of dimension 2"
          ]
        }
      ]
    },
    {
      "cell_type": "markdown",
      "metadata": {
        "id": "mRx9mFhWKTvG",
        "colab_type": "text"
      },
      "source": [
        "## Slicing"
      ]
    },
    {
      "cell_type": "code",
      "metadata": {
        "id": "s3gPy_XXJ6Kj",
        "colab_type": "code",
        "colab": {}
      },
      "source": [
        "x = np.arange(100)\n",
        "x_2d = np.reshape(x,(10,10))"
      ],
      "execution_count": 0,
      "outputs": []
    },
    {
      "cell_type": "code",
      "metadata": {
        "id": "5aguQZM2Kuo1",
        "colab_type": "code",
        "colab": {
          "base_uri": "https://localhost:8080/",
          "height": 34
        },
        "outputId": "c4ef87e4-1595-404c-e681-5de063d0e0d5"
      },
      "source": [
        "# i want from second row until second last row (not included)\n",
        "# i want from fourth last column until last column (not included)\n",
        "x_2d[1: -2, -4: -1].shape"
      ],
      "execution_count": 49,
      "outputs": [
        {
          "output_type": "execute_result",
          "data": {
            "text/plain": [
              "(7, 3)"
            ]
          },
          "metadata": {
            "tags": []
          },
          "execution_count": 49
        }
      ]
    },
    {
      "cell_type": "markdown",
      "metadata": {
        "id": "OGS9OKdXLain",
        "colab_type": "text"
      },
      "source": [
        "## Combine everything"
      ]
    },
    {
      "cell_type": "code",
      "metadata": {
        "id": "nMd0YNZMLMNf",
        "colab_type": "code",
        "colab": {}
      },
      "source": [
        "x = np.arange(1000)\n",
        "y = np.arange(2000)"
      ],
      "execution_count": 0,
      "outputs": []
    },
    {
      "cell_type": "code",
      "metadata": {
        "id": "xeLfTDEELfWb",
        "colab_type": "code",
        "colab": {}
      },
      "source": [
        "# 1. i want to reshape x become (10, 5, 10, 2)\n",
        "# 2. i want to reshape y become (10, 5, 10, -1)\n",
        "x_reshape = np.reshape(x, (10, 5, 10, 2))\n",
        "y_reshape = np.reshape(y, (10, 5, 10, -1))"
      ],
      "execution_count": 0,
      "outputs": []
    },
    {
      "cell_type": "code",
      "metadata": {
        "id": "HjIw2KTNNBV8",
        "colab_type": "code",
        "colab": {}
      },
      "source": [
        "# 3. combine both reshaped on last axis\n",
        "concat = np.concatenate([x_reshape, y_reshape], axis = -1)"
      ],
      "execution_count": 0,
      "outputs": []
    },
    {
      "cell_type": "code",
      "metadata": {
        "id": "6EVBwClINEyd",
        "colab_type": "code",
        "colab": {
          "base_uri": "https://localhost:8080/",
          "height": 1000
        },
        "outputId": "8470ddda-63cf-43fa-d6a8-789924ffde25"
      },
      "source": [
        "concat"
      ],
      "execution_count": 54,
      "outputs": [
        {
          "output_type": "execute_result",
          "data": {
            "text/plain": [
              "array([[[[   0,    1,    0,    1,    2,    3],\n",
              "         [   2,    3,    4,    5,    6,    7],\n",
              "         [   4,    5,    8,    9,   10,   11],\n",
              "         ...,\n",
              "         [  14,   15,   28,   29,   30,   31],\n",
              "         [  16,   17,   32,   33,   34,   35],\n",
              "         [  18,   19,   36,   37,   38,   39]],\n",
              "\n",
              "        [[  20,   21,   40,   41,   42,   43],\n",
              "         [  22,   23,   44,   45,   46,   47],\n",
              "         [  24,   25,   48,   49,   50,   51],\n",
              "         ...,\n",
              "         [  34,   35,   68,   69,   70,   71],\n",
              "         [  36,   37,   72,   73,   74,   75],\n",
              "         [  38,   39,   76,   77,   78,   79]],\n",
              "\n",
              "        [[  40,   41,   80,   81,   82,   83],\n",
              "         [  42,   43,   84,   85,   86,   87],\n",
              "         [  44,   45,   88,   89,   90,   91],\n",
              "         ...,\n",
              "         [  54,   55,  108,  109,  110,  111],\n",
              "         [  56,   57,  112,  113,  114,  115],\n",
              "         [  58,   59,  116,  117,  118,  119]],\n",
              "\n",
              "        [[  60,   61,  120,  121,  122,  123],\n",
              "         [  62,   63,  124,  125,  126,  127],\n",
              "         [  64,   65,  128,  129,  130,  131],\n",
              "         ...,\n",
              "         [  74,   75,  148,  149,  150,  151],\n",
              "         [  76,   77,  152,  153,  154,  155],\n",
              "         [  78,   79,  156,  157,  158,  159]],\n",
              "\n",
              "        [[  80,   81,  160,  161,  162,  163],\n",
              "         [  82,   83,  164,  165,  166,  167],\n",
              "         [  84,   85,  168,  169,  170,  171],\n",
              "         ...,\n",
              "         [  94,   95,  188,  189,  190,  191],\n",
              "         [  96,   97,  192,  193,  194,  195],\n",
              "         [  98,   99,  196,  197,  198,  199]]],\n",
              "\n",
              "\n",
              "       [[[ 100,  101,  200,  201,  202,  203],\n",
              "         [ 102,  103,  204,  205,  206,  207],\n",
              "         [ 104,  105,  208,  209,  210,  211],\n",
              "         ...,\n",
              "         [ 114,  115,  228,  229,  230,  231],\n",
              "         [ 116,  117,  232,  233,  234,  235],\n",
              "         [ 118,  119,  236,  237,  238,  239]],\n",
              "\n",
              "        [[ 120,  121,  240,  241,  242,  243],\n",
              "         [ 122,  123,  244,  245,  246,  247],\n",
              "         [ 124,  125,  248,  249,  250,  251],\n",
              "         ...,\n",
              "         [ 134,  135,  268,  269,  270,  271],\n",
              "         [ 136,  137,  272,  273,  274,  275],\n",
              "         [ 138,  139,  276,  277,  278,  279]],\n",
              "\n",
              "        [[ 140,  141,  280,  281,  282,  283],\n",
              "         [ 142,  143,  284,  285,  286,  287],\n",
              "         [ 144,  145,  288,  289,  290,  291],\n",
              "         ...,\n",
              "         [ 154,  155,  308,  309,  310,  311],\n",
              "         [ 156,  157,  312,  313,  314,  315],\n",
              "         [ 158,  159,  316,  317,  318,  319]],\n",
              "\n",
              "        [[ 160,  161,  320,  321,  322,  323],\n",
              "         [ 162,  163,  324,  325,  326,  327],\n",
              "         [ 164,  165,  328,  329,  330,  331],\n",
              "         ...,\n",
              "         [ 174,  175,  348,  349,  350,  351],\n",
              "         [ 176,  177,  352,  353,  354,  355],\n",
              "         [ 178,  179,  356,  357,  358,  359]],\n",
              "\n",
              "        [[ 180,  181,  360,  361,  362,  363],\n",
              "         [ 182,  183,  364,  365,  366,  367],\n",
              "         [ 184,  185,  368,  369,  370,  371],\n",
              "         ...,\n",
              "         [ 194,  195,  388,  389,  390,  391],\n",
              "         [ 196,  197,  392,  393,  394,  395],\n",
              "         [ 198,  199,  396,  397,  398,  399]]],\n",
              "\n",
              "\n",
              "       [[[ 200,  201,  400,  401,  402,  403],\n",
              "         [ 202,  203,  404,  405,  406,  407],\n",
              "         [ 204,  205,  408,  409,  410,  411],\n",
              "         ...,\n",
              "         [ 214,  215,  428,  429,  430,  431],\n",
              "         [ 216,  217,  432,  433,  434,  435],\n",
              "         [ 218,  219,  436,  437,  438,  439]],\n",
              "\n",
              "        [[ 220,  221,  440,  441,  442,  443],\n",
              "         [ 222,  223,  444,  445,  446,  447],\n",
              "         [ 224,  225,  448,  449,  450,  451],\n",
              "         ...,\n",
              "         [ 234,  235,  468,  469,  470,  471],\n",
              "         [ 236,  237,  472,  473,  474,  475],\n",
              "         [ 238,  239,  476,  477,  478,  479]],\n",
              "\n",
              "        [[ 240,  241,  480,  481,  482,  483],\n",
              "         [ 242,  243,  484,  485,  486,  487],\n",
              "         [ 244,  245,  488,  489,  490,  491],\n",
              "         ...,\n",
              "         [ 254,  255,  508,  509,  510,  511],\n",
              "         [ 256,  257,  512,  513,  514,  515],\n",
              "         [ 258,  259,  516,  517,  518,  519]],\n",
              "\n",
              "        [[ 260,  261,  520,  521,  522,  523],\n",
              "         [ 262,  263,  524,  525,  526,  527],\n",
              "         [ 264,  265,  528,  529,  530,  531],\n",
              "         ...,\n",
              "         [ 274,  275,  548,  549,  550,  551],\n",
              "         [ 276,  277,  552,  553,  554,  555],\n",
              "         [ 278,  279,  556,  557,  558,  559]],\n",
              "\n",
              "        [[ 280,  281,  560,  561,  562,  563],\n",
              "         [ 282,  283,  564,  565,  566,  567],\n",
              "         [ 284,  285,  568,  569,  570,  571],\n",
              "         ...,\n",
              "         [ 294,  295,  588,  589,  590,  591],\n",
              "         [ 296,  297,  592,  593,  594,  595],\n",
              "         [ 298,  299,  596,  597,  598,  599]]],\n",
              "\n",
              "\n",
              "       ...,\n",
              "\n",
              "\n",
              "       [[[ 700,  701, 1400, 1401, 1402, 1403],\n",
              "         [ 702,  703, 1404, 1405, 1406, 1407],\n",
              "         [ 704,  705, 1408, 1409, 1410, 1411],\n",
              "         ...,\n",
              "         [ 714,  715, 1428, 1429, 1430, 1431],\n",
              "         [ 716,  717, 1432, 1433, 1434, 1435],\n",
              "         [ 718,  719, 1436, 1437, 1438, 1439]],\n",
              "\n",
              "        [[ 720,  721, 1440, 1441, 1442, 1443],\n",
              "         [ 722,  723, 1444, 1445, 1446, 1447],\n",
              "         [ 724,  725, 1448, 1449, 1450, 1451],\n",
              "         ...,\n",
              "         [ 734,  735, 1468, 1469, 1470, 1471],\n",
              "         [ 736,  737, 1472, 1473, 1474, 1475],\n",
              "         [ 738,  739, 1476, 1477, 1478, 1479]],\n",
              "\n",
              "        [[ 740,  741, 1480, 1481, 1482, 1483],\n",
              "         [ 742,  743, 1484, 1485, 1486, 1487],\n",
              "         [ 744,  745, 1488, 1489, 1490, 1491],\n",
              "         ...,\n",
              "         [ 754,  755, 1508, 1509, 1510, 1511],\n",
              "         [ 756,  757, 1512, 1513, 1514, 1515],\n",
              "         [ 758,  759, 1516, 1517, 1518, 1519]],\n",
              "\n",
              "        [[ 760,  761, 1520, 1521, 1522, 1523],\n",
              "         [ 762,  763, 1524, 1525, 1526, 1527],\n",
              "         [ 764,  765, 1528, 1529, 1530, 1531],\n",
              "         ...,\n",
              "         [ 774,  775, 1548, 1549, 1550, 1551],\n",
              "         [ 776,  777, 1552, 1553, 1554, 1555],\n",
              "         [ 778,  779, 1556, 1557, 1558, 1559]],\n",
              "\n",
              "        [[ 780,  781, 1560, 1561, 1562, 1563],\n",
              "         [ 782,  783, 1564, 1565, 1566, 1567],\n",
              "         [ 784,  785, 1568, 1569, 1570, 1571],\n",
              "         ...,\n",
              "         [ 794,  795, 1588, 1589, 1590, 1591],\n",
              "         [ 796,  797, 1592, 1593, 1594, 1595],\n",
              "         [ 798,  799, 1596, 1597, 1598, 1599]]],\n",
              "\n",
              "\n",
              "       [[[ 800,  801, 1600, 1601, 1602, 1603],\n",
              "         [ 802,  803, 1604, 1605, 1606, 1607],\n",
              "         [ 804,  805, 1608, 1609, 1610, 1611],\n",
              "         ...,\n",
              "         [ 814,  815, 1628, 1629, 1630, 1631],\n",
              "         [ 816,  817, 1632, 1633, 1634, 1635],\n",
              "         [ 818,  819, 1636, 1637, 1638, 1639]],\n",
              "\n",
              "        [[ 820,  821, 1640, 1641, 1642, 1643],\n",
              "         [ 822,  823, 1644, 1645, 1646, 1647],\n",
              "         [ 824,  825, 1648, 1649, 1650, 1651],\n",
              "         ...,\n",
              "         [ 834,  835, 1668, 1669, 1670, 1671],\n",
              "         [ 836,  837, 1672, 1673, 1674, 1675],\n",
              "         [ 838,  839, 1676, 1677, 1678, 1679]],\n",
              "\n",
              "        [[ 840,  841, 1680, 1681, 1682, 1683],\n",
              "         [ 842,  843, 1684, 1685, 1686, 1687],\n",
              "         [ 844,  845, 1688, 1689, 1690, 1691],\n",
              "         ...,\n",
              "         [ 854,  855, 1708, 1709, 1710, 1711],\n",
              "         [ 856,  857, 1712, 1713, 1714, 1715],\n",
              "         [ 858,  859, 1716, 1717, 1718, 1719]],\n",
              "\n",
              "        [[ 860,  861, 1720, 1721, 1722, 1723],\n",
              "         [ 862,  863, 1724, 1725, 1726, 1727],\n",
              "         [ 864,  865, 1728, 1729, 1730, 1731],\n",
              "         ...,\n",
              "         [ 874,  875, 1748, 1749, 1750, 1751],\n",
              "         [ 876,  877, 1752, 1753, 1754, 1755],\n",
              "         [ 878,  879, 1756, 1757, 1758, 1759]],\n",
              "\n",
              "        [[ 880,  881, 1760, 1761, 1762, 1763],\n",
              "         [ 882,  883, 1764, 1765, 1766, 1767],\n",
              "         [ 884,  885, 1768, 1769, 1770, 1771],\n",
              "         ...,\n",
              "         [ 894,  895, 1788, 1789, 1790, 1791],\n",
              "         [ 896,  897, 1792, 1793, 1794, 1795],\n",
              "         [ 898,  899, 1796, 1797, 1798, 1799]]],\n",
              "\n",
              "\n",
              "       [[[ 900,  901, 1800, 1801, 1802, 1803],\n",
              "         [ 902,  903, 1804, 1805, 1806, 1807],\n",
              "         [ 904,  905, 1808, 1809, 1810, 1811],\n",
              "         ...,\n",
              "         [ 914,  915, 1828, 1829, 1830, 1831],\n",
              "         [ 916,  917, 1832, 1833, 1834, 1835],\n",
              "         [ 918,  919, 1836, 1837, 1838, 1839]],\n",
              "\n",
              "        [[ 920,  921, 1840, 1841, 1842, 1843],\n",
              "         [ 922,  923, 1844, 1845, 1846, 1847],\n",
              "         [ 924,  925, 1848, 1849, 1850, 1851],\n",
              "         ...,\n",
              "         [ 934,  935, 1868, 1869, 1870, 1871],\n",
              "         [ 936,  937, 1872, 1873, 1874, 1875],\n",
              "         [ 938,  939, 1876, 1877, 1878, 1879]],\n",
              "\n",
              "        [[ 940,  941, 1880, 1881, 1882, 1883],\n",
              "         [ 942,  943, 1884, 1885, 1886, 1887],\n",
              "         [ 944,  945, 1888, 1889, 1890, 1891],\n",
              "         ...,\n",
              "         [ 954,  955, 1908, 1909, 1910, 1911],\n",
              "         [ 956,  957, 1912, 1913, 1914, 1915],\n",
              "         [ 958,  959, 1916, 1917, 1918, 1919]],\n",
              "\n",
              "        [[ 960,  961, 1920, 1921, 1922, 1923],\n",
              "         [ 962,  963, 1924, 1925, 1926, 1927],\n",
              "         [ 964,  965, 1928, 1929, 1930, 1931],\n",
              "         ...,\n",
              "         [ 974,  975, 1948, 1949, 1950, 1951],\n",
              "         [ 976,  977, 1952, 1953, 1954, 1955],\n",
              "         [ 978,  979, 1956, 1957, 1958, 1959]],\n",
              "\n",
              "        [[ 980,  981, 1960, 1961, 1962, 1963],\n",
              "         [ 982,  983, 1964, 1965, 1966, 1967],\n",
              "         [ 984,  985, 1968, 1969, 1970, 1971],\n",
              "         ...,\n",
              "         [ 994,  995, 1988, 1989, 1990, 1991],\n",
              "         [ 996,  997, 1992, 1993, 1994, 1995],\n",
              "         [ 998,  999, 1996, 1997, 1998, 1999]]]])"
            ]
          },
          "metadata": {
            "tags": []
          },
          "execution_count": 54
        }
      ]
    },
    {
      "cell_type": "code",
      "metadata": {
        "id": "sgUqLjUqNHjV",
        "colab_type": "code",
        "colab": {
          "base_uri": "https://localhost:8080/",
          "height": 34
        },
        "outputId": "95668b76-b620-4b23-f98b-8f1149f2471b"
      },
      "source": [
        "concat.shape"
      ],
      "execution_count": 55,
      "outputs": [
        {
          "output_type": "execute_result",
          "data": {
            "text/plain": [
              "(10, 5, 10, 6)"
            ]
          },
          "metadata": {
            "tags": []
          },
          "execution_count": 55
        }
      ]
    },
    {
      "cell_type": "code",
      "metadata": {
        "id": "cB4LJXR_NNDV",
        "colab_type": "code",
        "colab": {
          "base_uri": "https://localhost:8080/",
          "height": 34
        },
        "outputId": "46fc7a24-ade0-4b58-f033-9ad727ce34ac"
      },
      "source": [
        "# 4. i want from second until fifth rows (not included)\n",
        "# i want from first until second last column (not included)\n",
        "# i want from third until third last depth (not included)\n",
        "# i want from first until first last a-axis (not included)\n",
        "\n",
        "concat[1: 4, 0:-2, 2: -3, 0: -1].shape"
      ],
      "execution_count": 56,
      "outputs": [
        {
          "output_type": "execute_result",
          "data": {
            "text/plain": [
              "(3, 3, 5, 5)"
            ]
          },
          "metadata": {
            "tags": []
          },
          "execution_count": 56
        }
      ]
    },
    {
      "cell_type": "code",
      "metadata": {
        "id": "li3rkQ0hNOfP",
        "colab_type": "code",
        "colab": {
          "base_uri": "https://localhost:8080/",
          "height": 952
        },
        "outputId": "b12c1274-83e1-4a0b-be46-551e3e438360"
      },
      "source": [
        "concat[1: 4, 0:-2, 2: -3, 0: -1]"
      ],
      "execution_count": 57,
      "outputs": [
        {
          "output_type": "execute_result",
          "data": {
            "text/plain": [
              "array([[[[104, 105, 208, 209, 210],\n",
              "         [106, 107, 212, 213, 214],\n",
              "         [108, 109, 216, 217, 218],\n",
              "         [110, 111, 220, 221, 222],\n",
              "         [112, 113, 224, 225, 226]],\n",
              "\n",
              "        [[124, 125, 248, 249, 250],\n",
              "         [126, 127, 252, 253, 254],\n",
              "         [128, 129, 256, 257, 258],\n",
              "         [130, 131, 260, 261, 262],\n",
              "         [132, 133, 264, 265, 266]],\n",
              "\n",
              "        [[144, 145, 288, 289, 290],\n",
              "         [146, 147, 292, 293, 294],\n",
              "         [148, 149, 296, 297, 298],\n",
              "         [150, 151, 300, 301, 302],\n",
              "         [152, 153, 304, 305, 306]]],\n",
              "\n",
              "\n",
              "       [[[204, 205, 408, 409, 410],\n",
              "         [206, 207, 412, 413, 414],\n",
              "         [208, 209, 416, 417, 418],\n",
              "         [210, 211, 420, 421, 422],\n",
              "         [212, 213, 424, 425, 426]],\n",
              "\n",
              "        [[224, 225, 448, 449, 450],\n",
              "         [226, 227, 452, 453, 454],\n",
              "         [228, 229, 456, 457, 458],\n",
              "         [230, 231, 460, 461, 462],\n",
              "         [232, 233, 464, 465, 466]],\n",
              "\n",
              "        [[244, 245, 488, 489, 490],\n",
              "         [246, 247, 492, 493, 494],\n",
              "         [248, 249, 496, 497, 498],\n",
              "         [250, 251, 500, 501, 502],\n",
              "         [252, 253, 504, 505, 506]]],\n",
              "\n",
              "\n",
              "       [[[304, 305, 608, 609, 610],\n",
              "         [306, 307, 612, 613, 614],\n",
              "         [308, 309, 616, 617, 618],\n",
              "         [310, 311, 620, 621, 622],\n",
              "         [312, 313, 624, 625, 626]],\n",
              "\n",
              "        [[324, 325, 648, 649, 650],\n",
              "         [326, 327, 652, 653, 654],\n",
              "         [328, 329, 656, 657, 658],\n",
              "         [330, 331, 660, 661, 662],\n",
              "         [332, 333, 664, 665, 666]],\n",
              "\n",
              "        [[344, 345, 688, 689, 690],\n",
              "         [346, 347, 692, 693, 694],\n",
              "         [348, 349, 696, 697, 698],\n",
              "         [350, 351, 700, 701, 702],\n",
              "         [352, 353, 704, 705, 706]]]])"
            ]
          },
          "metadata": {
            "tags": []
          },
          "execution_count": 57
        }
      ]
    },
    {
      "cell_type": "code",
      "metadata": {
        "id": "Rbs6x9rRNRE0",
        "colab_type": "code",
        "colab": {}
      },
      "source": [
        ""
      ],
      "execution_count": 0,
      "outputs": []
    }
  ]
}