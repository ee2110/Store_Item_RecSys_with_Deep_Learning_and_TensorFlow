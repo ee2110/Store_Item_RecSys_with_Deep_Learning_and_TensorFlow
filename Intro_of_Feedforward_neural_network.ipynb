{
  "nbformat": 4,
  "nbformat_minor": 0,
  "metadata": {
    "colab": {
      "name": "TensorFlow_refresh.ipynb",
      "version": "0.3.2",
      "provenance": []
    },
    "kernelspec": {
      "name": "python3",
      "display_name": "Python 3"
    },
    "accelerator": "GPU"
  },
  "cells": [
    {
      "cell_type": "code",
      "metadata": {
        "id": "43aWHa4_O4x_",
        "colab_type": "code",
        "colab": {}
      },
      "source": [
        "from tensorflow.python.client import device_lib"
      ],
      "execution_count": 0,
      "outputs": []
    },
    {
      "cell_type": "code",
      "metadata": {
        "id": "QmMo9sqzPDcO",
        "colab_type": "code",
        "colab": {
          "base_uri": "https://localhost:8080/",
          "height": 476
        },
        "outputId": "908e9bee-27e7-4fe8-d90a-147d5edb0bca"
      },
      "source": [
        "device_lib.list_local_devices()"
      ],
      "execution_count": 3,
      "outputs": [
        {
          "output_type": "execute_result",
          "data": {
            "text/plain": [
              "[name: \"/device:CPU:0\"\n",
              " device_type: \"CPU\"\n",
              " memory_limit: 268435456\n",
              " locality {\n",
              " }\n",
              " incarnation: 16909773848383913035, name: \"/device:XLA_CPU:0\"\n",
              " device_type: \"XLA_CPU\"\n",
              " memory_limit: 17179869184\n",
              " locality {\n",
              " }\n",
              " incarnation: 3404347468619794679\n",
              " physical_device_desc: \"device: XLA_CPU device\", name: \"/device:XLA_GPU:0\"\n",
              " device_type: \"XLA_GPU\"\n",
              " memory_limit: 17179869184\n",
              " locality {\n",
              " }\n",
              " incarnation: 5566882350761235352\n",
              " physical_device_desc: \"device: XLA_GPU device\", name: \"/device:GPU:0\"\n",
              " device_type: \"GPU\"\n",
              " memory_limit: 14892338381\n",
              " locality {\n",
              "   bus_id: 1\n",
              "   links {\n",
              "   }\n",
              " }\n",
              " incarnation: 13871360953381696079\n",
              " physical_device_desc: \"device: 0, name: Tesla T4, pci bus id: 0000:00:04.0, compute capability: 7.5\"]"
            ]
          },
          "metadata": {
            "tags": []
          },
          "execution_count": 3
        }
      ]
    },
    {
      "cell_type": "code",
      "metadata": {
        "id": "Z9CuZg8wPMSN",
        "colab_type": "code",
        "colab": {
          "base_uri": "https://localhost:8080/",
          "height": 496
        },
        "outputId": "9b7b51e5-6699-4e2c-9f35-1f647c98cf38"
      },
      "source": [
        "from tensorflow.examples.tutorials.mnist import input_data\n",
        "mnist = input_data.read_data_sets(\"MNIST_data/\")"
      ],
      "execution_count": 4,
      "outputs": [
        {
          "output_type": "stream",
          "text": [
            "WARNING: Logging before flag parsing goes to stderr.\n",
            "W0725 03:52:46.284954 139868896839552 deprecation.py:323] From <ipython-input-4-2aed5ca29197>:2: read_data_sets (from tensorflow.contrib.learn.python.learn.datasets.mnist) is deprecated and will be removed in a future version.\n",
            "Instructions for updating:\n",
            "Please use alternatives such as official/mnist/dataset.py from tensorflow/models.\n",
            "W0725 03:52:46.287113 139868896839552 deprecation.py:323] From /usr/local/lib/python3.6/dist-packages/tensorflow/contrib/learn/python/learn/datasets/mnist.py:260: maybe_download (from tensorflow.contrib.learn.python.learn.datasets.base) is deprecated and will be removed in a future version.\n",
            "Instructions for updating:\n",
            "Please write your own downloading logic.\n",
            "W0725 03:52:46.292593 139868896839552 deprecation.py:323] From /usr/local/lib/python3.6/dist-packages/tensorflow/contrib/learn/python/learn/datasets/base.py:252: _internal_retry.<locals>.wrap.<locals>.wrapped_fn (from tensorflow.contrib.learn.python.learn.datasets.base) is deprecated and will be removed in a future version.\n",
            "Instructions for updating:\n",
            "Please use urllib or similar directly.\n",
            "W0725 03:52:46.515604 139868896839552 deprecation.py:323] From /usr/local/lib/python3.6/dist-packages/tensorflow/contrib/learn/python/learn/datasets/mnist.py:262: extract_images (from tensorflow.contrib.learn.python.learn.datasets.mnist) is deprecated and will be removed in a future version.\n",
            "Instructions for updating:\n",
            "Please use tf.data to implement this functionality.\n"
          ],
          "name": "stderr"
        },
        {
          "output_type": "stream",
          "text": [
            "Successfully downloaded train-images-idx3-ubyte.gz 9912422 bytes.\n",
            "Extracting MNIST_data/train-images-idx3-ubyte.gz\n"
          ],
          "name": "stdout"
        },
        {
          "output_type": "stream",
          "text": [
            "W0725 03:52:46.826914 139868896839552 deprecation.py:323] From /usr/local/lib/python3.6/dist-packages/tensorflow/contrib/learn/python/learn/datasets/mnist.py:267: extract_labels (from tensorflow.contrib.learn.python.learn.datasets.mnist) is deprecated and will be removed in a future version.\n",
            "Instructions for updating:\n",
            "Please use tf.data to implement this functionality.\n",
            "W0725 03:52:47.008435 139868896839552 deprecation.py:323] From /usr/local/lib/python3.6/dist-packages/tensorflow/contrib/learn/python/learn/datasets/mnist.py:290: DataSet.__init__ (from tensorflow.contrib.learn.python.learn.datasets.mnist) is deprecated and will be removed in a future version.\n",
            "Instructions for updating:\n",
            "Please use alternatives such as official/mnist/dataset.py from tensorflow/models.\n"
          ],
          "name": "stderr"
        },
        {
          "output_type": "stream",
          "text": [
            "Successfully downloaded train-labels-idx1-ubyte.gz 28881 bytes.\n",
            "Extracting MNIST_data/train-labels-idx1-ubyte.gz\n",
            "Successfully downloaded t10k-images-idx3-ubyte.gz 1648877 bytes.\n",
            "Extracting MNIST_data/t10k-images-idx3-ubyte.gz\n",
            "Successfully downloaded t10k-labels-idx1-ubyte.gz 4542 bytes.\n",
            "Extracting MNIST_data/t10k-labels-idx1-ubyte.gz\n"
          ],
          "name": "stdout"
        }
      ]
    },
    {
      "cell_type": "code",
      "metadata": {
        "id": "1EBQxiWvZxzW",
        "colab_type": "code",
        "colab": {}
      },
      "source": [
        ""
      ],
      "execution_count": 0,
      "outputs": []
    },
    {
      "cell_type": "code",
      "metadata": {
        "id": "FQ8O8XdPQpsW",
        "colab_type": "code",
        "colab": {
          "base_uri": "https://localhost:8080/",
          "height": 136
        },
        "outputId": "d54f5ec1-f5cb-45a1-fdc1-d0ea950e6945"
      },
      "source": [
        "\n",
        "# to get train images\n",
        "\n",
        "mnist.train._images"
      ],
      "execution_count": 5,
      "outputs": [
        {
          "output_type": "execute_result",
          "data": {
            "text/plain": [
              "array([[0., 0., 0., ..., 0., 0., 0.],\n",
              "       [0., 0., 0., ..., 0., 0., 0.],\n",
              "       [0., 0., 0., ..., 0., 0., 0.],\n",
              "       ...,\n",
              "       [0., 0., 0., ..., 0., 0., 0.],\n",
              "       [0., 0., 0., ..., 0., 0., 0.],\n",
              "       [0., 0., 0., ..., 0., 0., 0.]], dtype=float32)"
            ]
          },
          "metadata": {
            "tags": []
          },
          "execution_count": 5
        }
      ]
    },
    {
      "cell_type": "code",
      "metadata": {
        "id": "RRv12fs7Rwsz",
        "colab_type": "code",
        "colab": {
          "base_uri": "https://localhost:8080/",
          "height": 34
        },
        "outputId": "925ad172-390f-40be-a4dd-eeffb3f78214"
      },
      "source": [
        "\n",
        "# to get train images\n",
        "\n",
        "mnist.train._images.shape"
      ],
      "execution_count": 7,
      "outputs": [
        {
          "output_type": "execute_result",
          "data": {
            "text/plain": [
              "(55000, 784)"
            ]
          },
          "metadata": {
            "tags": []
          },
          "execution_count": 7
        }
      ]
    },
    {
      "cell_type": "code",
      "metadata": {
        "id": "UCJV_yjtYxd7",
        "colab_type": "code",
        "colab": {
          "base_uri": "https://localhost:8080/",
          "height": 34
        },
        "outputId": "5215706e-5a1e-4f43-f8d4-83f7100e97e3"
      },
      "source": [
        "import numpy as np\n",
        "\n",
        "np.unique(mnist.train._labels)"
      ],
      "execution_count": 9,
      "outputs": [
        {
          "output_type": "execute_result",
          "data": {
            "text/plain": [
              "array([0, 1, 2, 3, 4, 5, 6, 7, 8, 9], dtype=uint8)"
            ]
          },
          "metadata": {
            "tags": []
          },
          "execution_count": 9
        }
      ]
    },
    {
      "cell_type": "code",
      "metadata": {
        "id": "M9m1Nt7oS_iE",
        "colab_type": "code",
        "colab": {}
      },
      "source": [
        "import tensorflow as tf\n",
        "class FeedForward:\n",
        "  def __init__(self, learning_rate):\n",
        "    self.X = tf.placeholder(tf.float32, [None, 784])\n",
        "    self.Y = tf.placeholder(tf.int32, [None])\n",
        "    feed1 = tf.layers.dense(self.X, 256, \n",
        "                            activation = tf.nn.relu)\n",
        "    feed2 = tf.layers.dense(feed1, 128,\n",
        "                           activation = tf.nn.relu)\n",
        "    self.logits = tf.layers.dense(feed2, 10)\n",
        "    self.cost = tf.nn.sparse_softmax_cross_entropy_with_logits(\n",
        "    labels = self.Y, logits = self.logits)\n",
        "    self.cost = tf.reduce_mean(self.cost)\n",
        "    self.optimizer = tf.train.AdamOptimizer(learning_rate) \\\n",
        "    .minimize(self.cost)\n",
        "    correct_pred = tf.equal(\n",
        "            tf.argmax(self.logits, 1, output_type = tf.int32), self.Y\n",
        "        )\n",
        "    self.accuracy = tf.reduce_mean(tf.cast(correct_pred, tf.float32))"
      ],
      "execution_count": 0,
      "outputs": []
    },
    {
      "cell_type": "code",
      "metadata": {
        "id": "wEdqpY4sZZP-",
        "colab_type": "code",
        "colab": {
          "base_uri": "https://localhost:8080/",
          "height": 139
        },
        "outputId": "7c21cff7-968d-477e-ae12-b7a354ac16d3"
      },
      "source": [
        "learning_rate = 1e-3\n",
        "batch_size = 128\n",
        "epoch = 10\n",
        "\n",
        "tf.reset_default_graph()\n",
        "sess = tf.InteractiveSession()\n",
        "model = FeedForward(learning_rate)\n",
        "sess.run(tf.global_variables_initializer())"
      ],
      "execution_count": 13,
      "outputs": [
        {
          "output_type": "stream",
          "text": [
            "W0725 04:39:48.547187 139868896839552 deprecation.py:323] From <ipython-input-12-10288bf35d13>:7: dense (from tensorflow.python.layers.core) is deprecated and will be removed in a future version.\n",
            "Instructions for updating:\n",
            "Use keras.layers.dense instead.\n",
            "W0725 04:39:48.552919 139868896839552 deprecation.py:506] From /usr/local/lib/python3.6/dist-packages/tensorflow/python/ops/init_ops.py:1251: calling VarianceScaling.__init__ (from tensorflow.python.ops.init_ops) with dtype is deprecated and will be removed in a future version.\n",
            "Instructions for updating:\n",
            "Call initializer instance with the dtype argument instead of passing it to the constructor\n"
          ],
          "name": "stderr"
        }
      ]
    },
    {
      "cell_type": "code",
      "metadata": {
        "id": "cWR6w8I2bipc",
        "colab_type": "code",
        "colab": {
          "base_uri": "https://localhost:8080/",
          "height": 34
        },
        "outputId": "1ebff685-eb7b-45ee-d614-252db6693465"
      },
      "source": [
        "model.logits #Pytorch can be used directly"
      ],
      "execution_count": 15,
      "outputs": [
        {
          "output_type": "execute_result",
          "data": {
            "text/plain": [
              "<tf.Tensor 'dense_2/BiasAdd:0' shape=(?, 10) dtype=float32>"
            ]
          },
          "metadata": {
            "tags": []
          },
          "execution_count": 15
        }
      ]
    },
    {
      "cell_type": "code",
      "metadata": {
        "id": "h2-0Al4SbQ4J",
        "colab_type": "code",
        "colab": {}
      },
      "source": [
        "from tqdm import tqdm"
      ],
      "execution_count": 0,
      "outputs": []
    },
    {
      "cell_type": "code",
      "metadata": {
        "id": "yrIafqM2b4cv",
        "colab_type": "code",
        "colab": {
          "base_uri": "https://localhost:8080/",
          "height": 697
        },
        "outputId": "39225230-488a-4778-e0b5-038493edcea8"
      },
      "source": [
        "for e in range(epoch):\n",
        "  pbar = tqdm(\n",
        "        range(0, len(mnist.train._labels), batch_size), desc = 'train loop'\n",
        "    )\n",
        "  train_loss, train_acc, test_loss, test_acc = [], [], [], []\n",
        "  for i in pbar:\n",
        "    index = min(i + batch_size, len(mnist.train._labels))\n",
        "    batch_x = mnist.train._images[i: index]\n",
        "    batch_y = mnist.train._labels[i: index]\n",
        "    _, cost, accuracy = sess.run([model.optimizer, model.cost, model.accuracy],\n",
        "                      feed_dict = {model.X: batch_x,\n",
        "                                  model.Y: batch_y})\n",
        "    train_loss.append(cost)\n",
        "    train_acc.append(accuracy)\n",
        "    pbar.set_postfix(cost = cost, accuracy = accuracy)\n",
        "\n",
        "  pbar = tqdm(\n",
        "        range(0, len(mnist.test._labels), batch_size), desc = 'test loop'\n",
        "    )  \n",
        "  for i in pbar:\n",
        "    index = min(i + batch_size, len(mnist.test._labels))\n",
        "    batch_x = mnist.test._images[i: index]\n",
        "    batch_y = mnist.test._labels[i: index]\n",
        "    cost, accuracy = sess.run([model.cost, model.accuracy],\n",
        "                      feed_dict = {model.X: batch_x,\n",
        "                                  model.Y: batch_y})\n",
        "    test_loss.append(cost)\n",
        "    test_acc.append(accuracy)\n",
        "    pbar.set_postfix(cost = cost, accuracy = accuracy)\n",
        "  \n",
        "  \n",
        "  print('epoch: %d, avg train loss: %f, avg train accuract: %f'%(e + 1,\n",
        "                                                             np.mean(train_loss),\n",
        "                                                             np.mean(train_acc)))\n",
        "  print('epoch: %d, avg test loss: %f, avg test accuract: %f'%(e + 1,\n",
        "                                                             np.mean(test_loss),\n",
        "                                                             np.mean(test_acc)))"
      ],
      "execution_count": 17,
      "outputs": [
        {
          "output_type": "stream",
          "text": [
            "train loop: 100%|██████████| 430/430 [00:03<00:00, 141.96it/s, accuracy=0.966, cost=0.282]\n",
            "test loop: 100%|██████████| 79/79 [00:00<00:00, 233.27it/s, accuracy=1, cost=0.0455]\n",
            "train loop:   5%|▍         | 20/430 [00:00<00:02, 195.41it/s, accuracy=0.953, cost=0.162]"
          ],
          "name": "stderr"
        },
        {
          "output_type": "stream",
          "text": [
            "epoch: 1, avg train loss: 0.318057, avg train accuract: 0.910422\n",
            "epoch: 1, avg test loss: 0.159613, avg test accuract: 0.950455\n"
          ],
          "name": "stdout"
        },
        {
          "output_type": "stream",
          "text": [
            "train loop: 100%|██████████| 430/430 [00:02<00:00, 199.66it/s, accuracy=0.977, cost=0.208]\n",
            "test loop: 100%|██████████| 79/79 [00:00<00:00, 238.81it/s, accuracy=1, cost=0.0117]\n",
            "train loop:   4%|▍         | 19/430 [00:00<00:02, 188.12it/s, accuracy=0.977, cost=0.0701]"
          ],
          "name": "stderr"
        },
        {
          "output_type": "stream",
          "text": [
            "epoch: 2, avg train loss: 0.126808, avg train accuract: 0.962683\n",
            "epoch: 2, avg test loss: 0.118983, avg test accuract: 0.962322\n"
          ],
          "name": "stdout"
        },
        {
          "output_type": "stream",
          "text": [
            "train loop: 100%|██████████| 430/430 [00:02<00:00, 202.22it/s, accuracy=0.989, cost=0.178]\n",
            "test loop: 100%|██████████| 79/79 [00:00<00:00, 237.02it/s, accuracy=1, cost=0.0049]\n",
            "train loop:   6%|▌         | 24/430 [00:00<00:01, 232.09it/s, accuracy=0.961, cost=0.0986]"
          ],
          "name": "stderr"
        },
        {
          "output_type": "stream",
          "text": [
            "epoch: 3, avg train loss: 0.082111, avg train accuract: 0.975628\n",
            "epoch: 3, avg test loss: 0.100491, avg test accuract: 0.968058\n"
          ],
          "name": "stdout"
        },
        {
          "output_type": "stream",
          "text": [
            "train loop: 100%|██████████| 430/430 [00:02<00:00, 201.88it/s, accuracy=0.989, cost=0.153]\n",
            "test loop: 100%|██████████| 79/79 [00:00<00:00, 241.57it/s, accuracy=1, cost=0.00317]\n",
            "train loop:   5%|▍         | 20/430 [00:00<00:02, 192.82it/s, accuracy=0.969, cost=0.0611]"
          ],
          "name": "stderr"
        },
        {
          "output_type": "stream",
          "text": [
            "epoch: 4, avg train loss: 0.055997, avg train accuract: 0.983404\n",
            "epoch: 4, avg test loss: 0.084141, avg test accuract: 0.973497\n"
          ],
          "name": "stdout"
        },
        {
          "output_type": "stream",
          "text": [
            "train loop: 100%|██████████| 430/430 [00:02<00:00, 210.06it/s, accuracy=0.989, cost=0.132]\n",
            "test loop: 100%|██████████| 79/79 [00:00<00:00, 243.66it/s, accuracy=1, cost=0.000916]\n",
            "train loop:   5%|▌         | 22/430 [00:00<00:01, 219.43it/s, accuracy=1, cost=0.00572]   "
          ],
          "name": "stderr"
        },
        {
          "output_type": "stream",
          "text": [
            "epoch: 5, avg train loss: 0.039221, avg train accuract: 0.988218\n",
            "epoch: 5, avg test loss: 0.076374, avg test accuract: 0.976859\n"
          ],
          "name": "stdout"
        },
        {
          "output_type": "stream",
          "text": [
            "train loop: 100%|██████████| 430/430 [00:01<00:00, 217.74it/s, accuracy=0.989, cost=0.107]\n",
            "test loop: 100%|██████████| 79/79 [00:00<00:00, 274.59it/s, accuracy=1, cost=0.000647]\n",
            "train loop:   5%|▌         | 23/430 [00:00<00:01, 226.72it/s, accuracy=0.969, cost=0.0529]"
          ],
          "name": "stderr"
        },
        {
          "output_type": "stream",
          "text": [
            "epoch: 6, avg train loss: 0.027621, avg train accuract: 0.992452\n",
            "epoch: 6, avg test loss: 0.077802, avg test accuract: 0.976958\n"
          ],
          "name": "stdout"
        },
        {
          "output_type": "stream",
          "text": [
            "train loop: 100%|██████████| 430/430 [00:01<00:00, 216.23it/s, accuracy=0.989, cost=0.0609]\n",
            "test loop: 100%|██████████| 79/79 [00:00<00:00, 255.64it/s, accuracy=1, cost=0.000752]\n",
            "train loop:   5%|▌         | 22/430 [00:00<00:01, 217.58it/s, accuracy=1, cost=0.00265]   "
          ],
          "name": "stderr"
        },
        {
          "output_type": "stream",
          "text": [
            "epoch: 7, avg train loss: 0.021457, avg train accuract: 0.993887\n",
            "epoch: 7, avg test loss: 0.085709, avg test accuract: 0.976365\n"
          ],
          "name": "stdout"
        },
        {
          "output_type": "stream",
          "text": [
            "train loop: 100%|██████████| 430/430 [00:01<00:00, 218.72it/s, accuracy=0.989, cost=0.032]\n",
            "test loop: 100%|██████████| 79/79 [00:00<00:00, 250.43it/s, accuracy=1, cost=0.000281]\n",
            "train loop:   5%|▌         | 22/430 [00:00<00:01, 212.61it/s, accuracy=0.977, cost=0.128] "
          ],
          "name": "stderr"
        },
        {
          "output_type": "stream",
          "text": [
            "epoch: 8, avg train loss: 0.019054, avg train accuract: 0.994123\n",
            "epoch: 8, avg test loss: 0.090511, avg test accuract: 0.974782\n"
          ],
          "name": "stdout"
        },
        {
          "output_type": "stream",
          "text": [
            "train loop: 100%|██████████| 430/430 [00:01<00:00, 216.46it/s, accuracy=0.989, cost=0.0555]\n",
            "test loop: 100%|██████████| 79/79 [00:00<00:00, 263.25it/s, accuracy=1, cost=3.88e-5]\n",
            "train loop:   5%|▌         | 22/430 [00:00<00:01, 213.59it/s, accuracy=0.992, cost=0.0253]"
          ],
          "name": "stderr"
        },
        {
          "output_type": "stream",
          "text": [
            "epoch: 9, avg train loss: 0.017914, avg train accuract: 0.994287\n",
            "epoch: 9, avg test loss: 0.085381, avg test accuract: 0.977156\n"
          ],
          "name": "stdout"
        },
        {
          "output_type": "stream",
          "text": [
            "train loop: 100%|██████████| 430/430 [00:01<00:00, 217.27it/s, accuracy=1, cost=0.000731]\n",
            "test loop: 100%|██████████| 79/79 [00:00<00:00, 258.05it/s, accuracy=1, cost=0.0113]\n"
          ],
          "name": "stderr"
        },
        {
          "output_type": "stream",
          "text": [
            "epoch: 10, avg train loss: 0.014652, avg train accuract: 0.995094\n",
            "epoch: 10, avg test loss: 0.087282, avg test accuract: 0.977947\n"
          ],
          "name": "stdout"
        }
      ]
    },
    {
      "cell_type": "code",
      "metadata": {
        "id": "VdvgQxJ9eCHa",
        "colab_type": "code",
        "colab": {}
      },
      "source": [
        ""
      ],
      "execution_count": 0,
      "outputs": []
    }
  ]
}