{
  "nbformat": 4,
  "nbformat_minor": 0,
  "metadata": {
    "colab": {
      "name": "Intro_of_Recurrent_DeepQLearning.ipynb",
      "version": "0.3.2",
      "provenance": []
    },
    "kernelspec": {
      "name": "python3",
      "display_name": "Python 3"
    },
    "accelerator": "GPU"
  },
  "cells": [
    {
      "cell_type": "code",
      "metadata": {
        "id": "p8l8s-wpaA7G",
        "colab_type": "code",
        "colab": {
          "base_uri": "https://localhost:8080/",
          "height": 71
        },
        "outputId": "6183366f-85be-4caa-e274-5a2a392fa10a"
      },
      "source": [
        "!ls"
      ],
      "execution_count": 1,
      "outputs": [
        {
          "output_type": "stream",
          "text": [
            "holidays_events.csv  __MACOSX  recmetrics      sample_data  train_8M.csv\n",
            "items.csv\t     oil.csv   recmetrics.zip  stores.csv   transactions.csv\n"
          ],
          "name": "stdout"
        }
      ]
    },
    {
      "cell_type": "code",
      "metadata": {
        "id": "agUpO4kAeDQG",
        "colab_type": "code",
        "colab": {}
      },
      "source": [
        "import numpy as np\n",
        "import pandas as pd\n",
        "import matplotlib.pyplot as plt\n",
        "import seaborn as sns\n",
        "from sklearn.preprocessing import LabelEncoder\n",
        "from datetime import datetime, timedelta\n",
        "import tensorflow as tf\n",
        "import random\n",
        "sns.set()"
      ],
      "execution_count": 0,
      "outputs": []
    },
    {
      "cell_type": "code",
      "metadata": {
        "id": "LVswWdLUeJsh",
        "colab_type": "code",
        "colab": {}
      },
      "source": [
        "items = pd.read_csv(\"items.csv\")\n",
        "holiday_events = pd.read_csv(\"holidays_events.csv\")\n",
        "stores = pd.read_csv(\"stores.csv\")\n",
        "oil = pd.read_csv(\"oil.csv\")\n",
        "transactions = pd.read_csv(\"transactions.csv\",parse_dates=['date'])\n",
        "train = pd.read_csv(\"train_8M.csv\", nrows = 500000, parse_dates=['date'])"
      ],
      "execution_count": 0,
      "outputs": []
    },
    {
      "cell_type": "code",
      "metadata": {
        "id": "CCemv6DkeLt8",
        "colab_type": "code",
        "colab": {}
      },
      "source": [
        "stores = train['store_nbr'].values\n",
        "items = train['item_nbr'].values\n",
        "reward = train['unit_sales'].values"
      ],
      "execution_count": 0,
      "outputs": []
    },
    {
      "cell_type": "code",
      "metadata": {
        "id": "CM-fo8TieNhE",
        "colab_type": "code",
        "colab": {
          "base_uri": "https://localhost:8080/",
          "height": 34
        },
        "outputId": "cd292253-7af7-47cb-ecf9-6e3bc09b3e11"
      },
      "source": [
        "encoded = LabelEncoder().fit_transform(items)\n",
        "items_unique = np.unique(items)\n",
        "items_unique"
      ],
      "execution_count": 5,
      "outputs": [
        {
          "output_type": "execute_result",
          "data": {
            "text/plain": [
              "array([  96995,  103501,  103520, ..., 1114567, 1114749, 1118683])"
            ]
          },
          "metadata": {
            "tags": []
          },
          "execution_count": 5
        }
      ]
    },
    {
      "cell_type": "code",
      "metadata": {
        "id": "Ed05TZbDeO3u",
        "colab_type": "code",
        "colab": {}
      },
      "source": [
        "from sklearn.model_selection import train_test_split\n",
        "\n",
        "train_stores, test_stores, train_items, test_items, train_reward, test_reward, train, test = train_test_split(stores, encoded, reward,\n",
        "                                                                                                              train, test_size = 0.25,\n",
        "                                                                                                             shuffle = False)"
      ],
      "execution_count": 0,
      "outputs": []
    },
    {
      "cell_type": "code",
      "metadata": {
        "id": "HQL1RTpCeQqy",
        "colab_type": "code",
        "colab": {
          "base_uri": "https://localhost:8080/",
          "height": 68
        },
        "outputId": "a5f3902b-fc91-41cd-acb9-50ef0bd388a2"
      },
      "source": [
        "SEQ_LEN = 5\n",
        "\n",
        "# group every 5 days\n",
        "slide_train_stores = [train_stores[i: i + SEQ_LEN] for i in range(len(train_stores) - SEQ_LEN)]\n",
        "slide_train_stores[:3]"
      ],
      "execution_count": 8,
      "outputs": [
        {
          "output_type": "execute_result",
          "data": {
            "text/plain": [
              "[array([25, 25, 25, 25, 25]),\n",
              " array([25, 25, 25, 25, 25]),\n",
              " array([25, 25, 25, 25, 25])]"
            ]
          },
          "metadata": {
            "tags": []
          },
          "execution_count": 8
        }
      ]
    },
    {
      "cell_type": "code",
      "metadata": {
        "id": "6vC6Y-IoeTFt",
        "colab_type": "code",
        "colab": {
          "base_uri": "https://localhost:8080/",
          "height": 326
        },
        "outputId": "495bfec9-70c4-4646-8cad-b4300386079c"
      },
      "source": [
        "from collections import deque\n",
        "import random\n",
        "\n",
        "tf.reset_default_graph()\n",
        "\n",
        "LEARNING_RATE = 1e-5\n",
        "LAYER_SIZE = 256\n",
        "OUTPUT_SIZE = np.unique(items).shape[0]\n",
        "STATE_SIZE = np.unique(stores).shape[0]\n",
        "SEQ_LEN = 5\n",
        "\n",
        "class Model:\n",
        "  def __init__(self):\n",
        "    self.X = tf.placeholder(tf.int32, [None, None])\n",
        "    self.Y = tf.placeholder(tf.float32, [None, OUTPUT_SIZE])\n",
        "    self.memory = deque(maxlen = 1000)\n",
        "    \n",
        "    self.gamma = 0.95\n",
        "    self.epsilon = 0.5\n",
        "    self.epsilon_min = 0.01\n",
        "    self.epsilon_decay = 0.999\n",
        "        \n",
        "    embeddings = tf.Variable(tf.random_uniform([STATE_SIZE, LAYER_SIZE], -1, 1))\n",
        "    embedded = tf.nn.embedding_lookup(embeddings, self.X) # batch size, time, dimension\n",
        "    cell = tf.nn.rnn_cell.LSTMCell(LAYER_SIZE, state_is_tuple = False)\n",
        "    self.hidden_layer = tf.placeholder(tf.float32, (None, 2 * LAYER_SIZE))\n",
        "    output, self.last_state = tf.nn.dynamic_rnn(inputs=embedded,cell=cell,\n",
        "                                                    dtype=tf.float32,\n",
        "                                                    initial_state=self.hidden_layer)\n",
        "    self.logits = tf.layers.dense(output[:,-1], OUTPUT_SIZE)\n",
        "    self.cost = tf.reduce_sum(tf.square(self.Y - self.logits))\n",
        "    self.optimizer = tf.train.GradientDescentOptimizer(LEARNING_RATE).minimize(\n",
        "        self.cost\n",
        "    )\n",
        "    self.sess = tf.InteractiveSession()\n",
        "    self.sess.run(tf.global_variables_initializer())\n",
        "  \n",
        "  def act(self, state, memory):\n",
        "    if random.random() <= self.epsilon:\n",
        "      return np.random.randint(OUTPUT_SIZE, size = (len(state))), memory\n",
        "    a, new_memory = self.sess.run([self.logits, self.last_state], \n",
        "                                  feed_dict = {self.X: state, self.hidden_layer: memory})\n",
        "    return np.argmax(a, axis = 1), new_memory\n",
        "      \n",
        "  def replay(self, batch_size):\n",
        "    mini_batch = random.sample(self.memory, batch_size)\n",
        "    replay_size = len(mini_batch)\n",
        "    X = []\n",
        "    Y = np.empty((replay_size, OUTPUT_SIZE))\n",
        "    MEMORIES = np.empty((replay_size, 2 * LAYER_SIZE))\n",
        "    states = np.array([a[0] for a in mini_batch])\n",
        "    new_states = np.array([a[3] for a in mini_batch])\n",
        "    memories = np.array([a[-1] for a in mini_batch])\n",
        "    Q = self.sess.run(self.logits, feed_dict = {self.X: states, self.hidden_layer: memories})\n",
        "    Q_new = self.sess.run(self.logits, feed_dict = {self.X: new_states, self.hidden_layer: memories})\n",
        "    for i in range(len(mini_batch)):\n",
        "        state, action, reward, next_state, done, rnn_memory = mini_batch[i]\n",
        "        target = Q[i]\n",
        "        target[action] = reward\n",
        "        if not done:\n",
        "            target[action] += self.gamma * np.amax(Q_new[i])\n",
        "        X.append(state)\n",
        "        Y[i] = target\n",
        "        MEMORIES[i] = rnn_memory\n",
        "    cost, _ = self.sess.run(\n",
        "        [self.cost, self.optimizer], feed_dict = {self.X: X, self.Y: Y, self.hidden_layer: MEMORIES}\n",
        "    )\n",
        "    if self.epsilon > self.epsilon_min:\n",
        "        self.epsilon *= self.epsilon_decay\n",
        "    return cost\n",
        "  \n",
        "model = Model()"
      ],
      "execution_count": 9,
      "outputs": [
        {
          "output_type": "stream",
          "text": [
            "WARNING: Logging before flag parsing goes to stderr.\n",
            "W0726 09:01:06.959889 140467048884096 deprecation.py:323] From <ipython-input-9-607ce0ffea9d>:25: LSTMCell.__init__ (from tensorflow.python.ops.rnn_cell_impl) is deprecated and will be removed in a future version.\n",
            "Instructions for updating:\n",
            "This class is equivalent as tf.keras.layers.LSTMCell, and will be replaced by that in Tensorflow 2.0.\n",
            "W0726 09:01:06.962265 140467048884096 rnn_cell_impl.py:893] <tensorflow.python.ops.rnn_cell_impl.LSTMCell object at 0x7fc0b0e7c748>: Using a concatenated state is slower and will soon be deprecated.  Use state_is_tuple=True.\n",
            "W0726 09:01:06.967222 140467048884096 deprecation.py:323] From <ipython-input-9-607ce0ffea9d>:29: dynamic_rnn (from tensorflow.python.ops.rnn) is deprecated and will be removed in a future version.\n",
            "Instructions for updating:\n",
            "Please use `keras.layers.RNN(cell)`, which is equivalent to this API\n",
            "W0726 09:01:07.025481 140467048884096 deprecation.py:506] From /usr/local/lib/python3.6/dist-packages/tensorflow/python/ops/init_ops.py:1251: calling VarianceScaling.__init__ (from tensorflow.python.ops.init_ops) with dtype is deprecated and will be removed in a future version.\n",
            "Instructions for updating:\n",
            "Call initializer instance with the dtype argument instead of passing it to the constructor\n",
            "W0726 09:01:07.036079 140467048884096 deprecation.py:506] From /usr/local/lib/python3.6/dist-packages/tensorflow/python/ops/rnn_cell_impl.py:961: calling Zeros.__init__ (from tensorflow.python.ops.init_ops) with dtype is deprecated and will be removed in a future version.\n",
            "Instructions for updating:\n",
            "Call initializer instance with the dtype argument instead of passing it to the constructor\n",
            "W0726 09:01:07.672469 140467048884096 deprecation.py:323] From <ipython-input-9-607ce0ffea9d>:30: dense (from tensorflow.python.layers.core) is deprecated and will be removed in a future version.\n",
            "Instructions for updating:\n",
            "Use keras.layers.dense instead.\n"
          ],
          "name": "stderr"
        }
      ]
    },
    {
      "cell_type": "code",
      "metadata": {
        "id": "KhB3U8frg1Te",
        "colab_type": "code",
        "colab": {
          "base_uri": "https://localhost:8080/",
          "height": 238
        },
        "outputId": "da89a769-770b-4e79-b7a6-0b96cea8efb2"
      },
      "source": [
        "init_value = np.zeros((10, 2 * LAYER_SIZE))\n",
        "model.sess.run(model.logits, feed_dict = {model.X: slide_train_stores[:10], \n",
        "                                          model.hidden_layer: init_value})"
      ],
      "execution_count": 10,
      "outputs": [
        {
          "output_type": "execute_result",
          "data": {
            "text/plain": [
              "array([[ 0.11518549,  0.08146434,  0.03062934, ..., -0.03425309,\n",
              "        -0.0112058 ,  0.11249982],\n",
              "       [ 0.11518549,  0.08146434,  0.03062934, ..., -0.03425309,\n",
              "        -0.0112058 ,  0.11249982],\n",
              "       [ 0.11518549,  0.08146434,  0.03062934, ..., -0.03425309,\n",
              "        -0.0112058 ,  0.11249982],\n",
              "       ...,\n",
              "       [ 0.11518549,  0.08146434,  0.03062934, ..., -0.03425309,\n",
              "        -0.0112058 ,  0.11249982],\n",
              "       [ 0.11518549,  0.08146434,  0.03062934, ..., -0.03425309,\n",
              "        -0.0112058 ,  0.11249982],\n",
              "       [ 0.11518549,  0.08146434,  0.03062934, ..., -0.03425309,\n",
              "        -0.0112058 ,  0.11249982]], dtype=float32)"
            ]
          },
          "metadata": {
            "tags": []
          },
          "execution_count": 10
        }
      ]
    },
    {
      "cell_type": "code",
      "metadata": {
        "id": "BjeFa3cGg5-R",
        "colab_type": "code",
        "colab": {}
      },
      "source": [
        "train_pivoted = train.pivot_table(index='store_nbr', columns='item_nbr', values='unit_sales').fillna(0)"
      ],
      "execution_count": 0,
      "outputs": []
    },
    {
      "cell_type": "code",
      "metadata": {
        "id": "RfgNler6g8-Z",
        "colab_type": "code",
        "colab": {
          "base_uri": "https://localhost:8080/",
          "height": 292
        },
        "outputId": "4ffc42f1-f394-43fd-c321-228344090229"
      },
      "source": [
        "from tqdm import tqdm\n",
        "epoch = 5\n",
        "batch_size = 128\n",
        "\n",
        "for e in range(epoch):\n",
        "  pbar = tqdm(\n",
        "      range(0, len(slide_train_stores) - 1, batch_size), desc = 'train minibatch loop'\n",
        "    )\n",
        "  loss = []\n",
        "  for i in pbar:\n",
        "    index = min(i + batch_size, len(slide_train_stores) - 1)\n",
        "    state = slide_train_stores[i: index]\n",
        "    init_value = np.zeros((len(state), 2 * LAYER_SIZE))\n",
        "    action, init_value = model.act(state, init_value)\n",
        "    next_state = slide_train_stores[i + 1: index + 1]\n",
        "    for no, a in enumerate(action):\n",
        "      if a >= train_pivoted.shape[1]:\n",
        "        r = 0\n",
        "      else:\n",
        "        r = train_pivoted.loc[slide_train_stores[i + no][-1]].iloc[a]\n",
        "      model.memory.append((state[no], a, r, next_state[no], r  < 1, init_value[-1]))\n",
        "    cost = model.replay(min(batch_size, len(model.memory)))\n",
        "    pbar.set_postfix(cost = cost)\n",
        "    loss.append(cost)\n",
        "  print('\\nepoch: %d, average lost: %f'%(e + 1, np.mean(loss)))"
      ],
      "execution_count": 12,
      "outputs": [
        {
          "output_type": "stream",
          "text": [
            "train minibatch loop: 100%|██████████| 2930/2930 [02:00<00:00, 24.31it/s, cost=490]\n",
            "train minibatch loop:   0%|          | 3/2930 [00:00<01:55, 25.38it/s, cost=3.04e+3]"
          ],
          "name": "stderr"
        },
        {
          "output_type": "stream",
          "text": [
            "\n",
            "epoch: 1, average lost: 937652.250000\n"
          ],
          "name": "stdout"
        },
        {
          "output_type": "stream",
          "text": [
            "train minibatch loop: 100%|██████████| 2930/2930 [02:02<00:00, 25.35it/s, cost=823]\n",
            "train minibatch loop:   0%|          | 3/2930 [00:00<01:59, 24.55it/s, cost=294]"
          ],
          "name": "stderr"
        },
        {
          "output_type": "stream",
          "text": [
            "\n",
            "epoch: 2, average lost: 106628.664062\n"
          ],
          "name": "stdout"
        },
        {
          "output_type": "stream",
          "text": [
            "train minibatch loop: 100%|██████████| 2930/2930 [02:01<00:00, 24.02it/s, cost=311]\n",
            "train minibatch loop:   0%|          | 3/2930 [00:00<01:57, 24.90it/s, cost=2.35e+5]"
          ],
          "name": "stderr"
        },
        {
          "output_type": "stream",
          "text": [
            "\n",
            "epoch: 3, average lost: 187005.640625\n"
          ],
          "name": "stdout"
        },
        {
          "output_type": "stream",
          "text": [
            "train minibatch loop: 100%|██████████| 2930/2930 [02:02<00:00, 28.04it/s, cost=2.79]\n",
            "train minibatch loop:   0%|          | 3/2930 [00:00<01:57, 24.89it/s, cost=603]   "
          ],
          "name": "stderr"
        },
        {
          "output_type": "stream",
          "text": [
            "\n",
            "epoch: 4, average lost: 237183.234375\n"
          ],
          "name": "stdout"
        },
        {
          "output_type": "stream",
          "text": [
            "train minibatch loop: 100%|██████████| 2930/2930 [02:01<00:00, 24.20it/s, cost=1.08e+3]"
          ],
          "name": "stderr"
        },
        {
          "output_type": "stream",
          "text": [
            "\n",
            "epoch: 5, average lost: 173671.093750\n"
          ],
          "name": "stdout"
        },
        {
          "output_type": "stream",
          "text": [
            "\n"
          ],
          "name": "stderr"
        }
      ]
    },
    {
      "cell_type": "code",
      "metadata": {
        "id": "7pq_-NPchEEe",
        "colab_type": "code",
        "colab": {
          "base_uri": "https://localhost:8080/",
          "height": 88
        },
        "outputId": "3219023b-b8f2-4894-eed4-06cb46f53d81"
      },
      "source": [
        "test_cp = test.copy().groupby('store_nbr')['item_nbr'].agg({'actual': (lambda x: list(set(x)))})"
      ],
      "execution_count": 13,
      "outputs": [
        {
          "output_type": "stream",
          "text": [
            "/usr/local/lib/python3.6/dist-packages/ipykernel_launcher.py:1: FutureWarning: using a dict on a Series for aggregation\n",
            "is deprecated and will be removed in a future version\n",
            "  \"\"\"Entry point for launching an IPython kernel.\n"
          ],
          "name": "stderr"
        }
      ]
    },
    {
      "cell_type": "code",
      "metadata": {
        "id": "83YGXJyDhr7r",
        "colab_type": "code",
        "colab": {}
      },
      "source": [
        "def get_users_predictions(user_id, n):\n",
        "  init_value = np.zeros((1, 2 * LAYER_SIZE))\n",
        "  p = model.sess.run(model.logits, feed_dict = {model.X: [[user_id]], model.hidden_layer: init_value})[0]\n",
        "  p = p.argsort()[-n:][::-1]\n",
        "  return [items_unique[i] for i in p]"
      ],
      "execution_count": 0,
      "outputs": []
    },
    {
      "cell_type": "code",
      "metadata": {
        "id": "bmZuoUg8htc_",
        "colab_type": "code",
        "colab": {}
      },
      "source": [
        "recs = []\n",
        "for user in test_cp.index:\n",
        "    cf_predictions = get_users_predictions(user + 1, 30)\n",
        "    recs.append(cf_predictions)"
      ],
      "execution_count": 0,
      "outputs": []
    },
    {
      "cell_type": "code",
      "metadata": {
        "id": "QN8Coh0Mhuyv",
        "colab_type": "code",
        "colab": {
          "base_uri": "https://localhost:8080/",
          "height": 320
        },
        "outputId": "290b0218-2a5b-49c5-a43b-8112811ea2c8"
      },
      "source": [
        "test_cp['cf_predictions'] = recs\n",
        "test_cp.head()"
      ],
      "execution_count": 16,
      "outputs": [
        {
          "output_type": "execute_result",
          "data": {
            "text/html": [
              "<div>\n",
              "<style scoped>\n",
              "    .dataframe tbody tr th:only-of-type {\n",
              "        vertical-align: middle;\n",
              "    }\n",
              "\n",
              "    .dataframe tbody tr th {\n",
              "        vertical-align: top;\n",
              "    }\n",
              "\n",
              "    .dataframe thead th {\n",
              "        text-align: right;\n",
              "    }\n",
              "</style>\n",
              "<table border=\"1\" class=\"dataframe\">\n",
              "  <thead>\n",
              "    <tr style=\"text-align: right;\">\n",
              "      <th></th>\n",
              "      <th>actual</th>\n",
              "      <th>cf_predictions</th>\n",
              "    </tr>\n",
              "    <tr>\n",
              "      <th>store_nbr</th>\n",
              "      <th></th>\n",
              "      <th></th>\n",
              "    </tr>\n",
              "  </thead>\n",
              "  <tbody>\n",
              "    <tr>\n",
              "      <th>1</th>\n",
              "      <td>[174081, 1058820, 862213, 819206, 460804, 8192...</td>\n",
              "      <td>[265559, 115894, 114778, 687549, 462673, 12360...</td>\n",
              "    </tr>\n",
              "    <tr>\n",
              "      <th>2</th>\n",
              "      <td>[174081, 460804, 862213, 819206, 1058820, 8192...</td>\n",
              "      <td>[265559, 115894, 987308, 114778, 414353, 12360...</td>\n",
              "    </tr>\n",
              "    <tr>\n",
              "      <th>3</th>\n",
              "      <td>[174081, 460804, 862213, 819206, 1058820, 8192...</td>\n",
              "      <td>[265559, 987308, 115894, 114778, 687549, 11526...</td>\n",
              "    </tr>\n",
              "    <tr>\n",
              "      <th>4</th>\n",
              "      <td>[174081, 460804, 862213, 819206, 1058820, 8192...</td>\n",
              "      <td>[265559, 115894, 114778, 687549, 123601, 11526...</td>\n",
              "    </tr>\n",
              "    <tr>\n",
              "      <th>5</th>\n",
              "      <td>[174081, 460804, 862213, 819206, 1058820, 8192...</td>\n",
              "      <td>[265559, 115894, 114778, 123601, 687549, 10477...</td>\n",
              "    </tr>\n",
              "  </tbody>\n",
              "</table>\n",
              "</div>"
            ],
            "text/plain": [
              "                                                      actual                                     cf_predictions\n",
              "store_nbr                                                                                                      \n",
              "1          [174081, 1058820, 862213, 819206, 460804, 8192...  [265559, 115894, 114778, 687549, 462673, 12360...\n",
              "2          [174081, 460804, 862213, 819206, 1058820, 8192...  [265559, 115894, 987308, 114778, 414353, 12360...\n",
              "3          [174081, 460804, 862213, 819206, 1058820, 8192...  [265559, 987308, 115894, 114778, 687549, 11526...\n",
              "4          [174081, 460804, 862213, 819206, 1058820, 8192...  [265559, 115894, 114778, 687549, 123601, 11526...\n",
              "5          [174081, 460804, 862213, 819206, 1058820, 8192...  [265559, 115894, 114778, 123601, 687549, 10477..."
            ]
          },
          "metadata": {
            "tags": []
          },
          "execution_count": 16
        }
      ]
    },
    {
      "cell_type": "code",
      "metadata": {
        "id": "pdzB9xjOhz2w",
        "colab_type": "code",
        "colab": {}
      },
      "source": [
        "popularity_recs = train.item_nbr.value_counts().head(30).index.tolist()\n",
        "\n",
        "recs = []\n",
        "for user in test_cp.index:\n",
        "    pop_predictions = popularity_recs\n",
        "    recs.append(pop_predictions)"
      ],
      "execution_count": 0,
      "outputs": []
    },
    {
      "cell_type": "code",
      "metadata": {
        "id": "AfYDfUqSh3ZA",
        "colab_type": "code",
        "colab": {}
      },
      "source": [
        "test_cp['pop_predictions'] = recs\n",
        "test_cp.head()\n",
        "\n",
        "recs = []\n",
        "for user in test_cp.index:\n",
        "    random_predictions = train.item_nbr.sample(30).values.tolist()\n",
        "    recs.append(random_predictions)"
      ],
      "execution_count": 0,
      "outputs": []
    },
    {
      "cell_type": "code",
      "metadata": {
        "id": "p1SLVCoFh6XX",
        "colab_type": "code",
        "colab": {}
      },
      "source": [
        "test_cp['random_predictions'] = recs\n",
        "test_cp.head()\n",
        "\n",
        "actual = test_cp.actual.values.tolist()\n",
        "cf_predictions = test_cp.cf_predictions.values.tolist()\n",
        "pop_predictions = test_cp.pop_predictions.values.tolist()\n",
        "random_predictions = test_cp.random_predictions.values.tolist()"
      ],
      "execution_count": 0,
      "outputs": []
    },
    {
      "cell_type": "code",
      "metadata": {
        "id": "sTCN0hNWh9Oh",
        "colab_type": "code",
        "colab": {
          "base_uri": "https://localhost:8080/",
          "height": 527
        },
        "outputId": "0a992948-5cad-4fb5-e039-48b93dfd0d6e"
      },
      "source": [
        "import recmetrics\n",
        "\n",
        "pop_mark = []\n",
        "for K in np.arange(1, 31):\n",
        "    pop_mark.extend([recmetrics.mark(actual, pop_predictions, k=K)])\n",
        "pop_mark"
      ],
      "execution_count": 20,
      "outputs": [
        {
          "output_type": "execute_result",
          "data": {
            "text/plain": [
              "[0.000984488736644838,\n",
              " 0.001968977473289676,\n",
              " 0.0029534662099345134,\n",
              " 0.003937954946579352,\n",
              " 0.004922443683224189,\n",
              " 0.005906932419869027,\n",
              " 0.006891421156513865,\n",
              " 0.007875909893158704,\n",
              " 0.008860398629803541,\n",
              " 0.009844887366448379,\n",
              " 0.010829376103093216,\n",
              " 0.011813864839738054,\n",
              " 0.012772130258608726,\n",
              " 0.01375474590112684,\n",
              " 0.014737486416586733,\n",
              " 0.01572033619587069,\n",
              " 0.01670328238441116,\n",
              " 0.01768631427006855,\n",
              " 0.018669422832093687,\n",
              " 0.01965260040284982,\n",
              " 0.02063584041007684,\n",
              " 0.02161913717773194,\n",
              " 0.02260248577012573,\n",
              " 0.02358588186852998,\n",
              " 0.024569321672463843,\n",
              " 0.02555280181996352,\n",
              " 0.02653631932261673,\n",
              " 0.027519871512198205,\n",
              " 0.028503455996506003,\n",
              " 0.02946992619792526]"
            ]
          },
          "metadata": {
            "tags": []
          },
          "execution_count": 20
        }
      ]
    },
    {
      "cell_type": "code",
      "metadata": {
        "id": "p7BtaahpiAd2",
        "colab_type": "code",
        "colab": {
          "base_uri": "https://localhost:8080/",
          "height": 527
        },
        "outputId": "db06471b-ebc4-4bcf-bddd-fd68e52af256"
      },
      "source": [
        "random_mark = []\n",
        "for K in np.arange(1, 31):\n",
        "    random_mark.extend([recmetrics.mark(actual, random_predictions, k=K)])\n",
        "random_mark"
      ],
      "execution_count": 21,
      "outputs": [
        {
          "output_type": "execute_result",
          "data": {
            "text/plain": [
              "[0.0006955911830410456,\n",
              " 0.0013872729522819251,\n",
              " 0.0020828665002244435,\n",
              " 0.0026990838841800114,\n",
              " 0.003389916485172785,\n",
              " 0.00394537119391537,\n",
              " 0.004512275352232302,\n",
              " 0.00506735377372124,\n",
              " 0.005638287943909905,\n",
              " 0.0062752247611812416,\n",
              " 0.006901843243527864,\n",
              " 0.007565210075034994,\n",
              " 0.008147204421887728,\n",
              " 0.008705252410469539,\n",
              " 0.009339213420016661,\n",
              " 0.009932571816340557,\n",
              " 0.010490910351069969,\n",
              " 0.011144860005868697,\n",
              " 0.011723398114836173,\n",
              " 0.01221269392106548,\n",
              " 0.012820588532383912,\n",
              " 0.013343436649997672,\n",
              " 0.013886889596796298,\n",
              " 0.014410122473900635,\n",
              " 0.014949888881893168,\n",
              " 0.015476462297457201,\n",
              " 0.01603848566916652,\n",
              " 0.01651633246510759,\n",
              " 0.01713579096324047,\n",
              " 0.017666674452261836]"
            ]
          },
          "metadata": {
            "tags": []
          },
          "execution_count": 21
        }
      ]
    },
    {
      "cell_type": "code",
      "metadata": {
        "id": "ZWNowA3ziCTp",
        "colab_type": "code",
        "colab": {
          "base_uri": "https://localhost:8080/",
          "height": 527
        },
        "outputId": "5abf9957-4668-4d35-ca9a-94b69e68fbdc"
      },
      "source": [
        "cf_mark = []\n",
        "for K in np.arange(1, 31):\n",
        "    cf_mark.extend([recmetrics.mark(actual, cf_predictions, k=K)])\n",
        "cf_mark"
      ],
      "execution_count": 22,
      "outputs": [
        {
          "output_type": "execute_result",
          "data": {
            "text/plain": [
              "[0.0007373119983490397,\n",
              " 0.00141103230625563,\n",
              " 0.001992903101585501,\n",
              " 0.002608368772650804,\n",
              " 0.0033385587407702448,\n",
              " 0.0040506946052840526,\n",
              " 0.004778673860720364,\n",
              " 0.005514648138512755,\n",
              " 0.006263025578879958,\n",
              " 0.007030358064078298,\n",
              " 0.007747269500955702,\n",
              " 0.00849061262079452,\n",
              " 0.009254550700539,\n",
              " 0.010041517412920871,\n",
              " 0.010800574129385197,\n",
              " 0.011523920033706706,\n",
              " 0.012263386686919344,\n",
              " 0.012981045691058148,\n",
              " 0.013694316842527582,\n",
              " 0.014396975278523147,\n",
              " 0.015170740250816632,\n",
              " 0.015911202930677187,\n",
              " 0.016627734811346807,\n",
              " 0.017332801838466968,\n",
              " 0.018124486475227762,\n",
              " 0.01880935592787233,\n",
              " 0.019412098106912707,\n",
              " 0.02003318510545649,\n",
              " 0.02079751213570718,\n",
              " 0.021409453437785744]"
            ]
          },
          "metadata": {
            "tags": []
          },
          "execution_count": 22
        }
      ]
    },
    {
      "cell_type": "code",
      "metadata": {
        "id": "w4WogjhciD1H",
        "colab_type": "code",
        "colab": {}
      },
      "source": [
        "mark_scores = [random_mark, pop_mark, cf_mark]\n",
        "index = range(1,30+1)\n",
        "names = ['Random Recommender', 'Popularity Recommender', 'Collaborative Filter qlearning']"
      ],
      "execution_count": 0,
      "outputs": []
    },
    {
      "cell_type": "code",
      "metadata": {
        "id": "M4HyQGUQiGyB",
        "colab_type": "code",
        "colab": {
          "base_uri": "https://localhost:8080/",
          "height": 484
        },
        "outputId": "8a1e0635-a208-49c5-be31-8ae5d20fb0d4"
      },
      "source": [
        "fig = plt.figure(figsize=(15, 7))\n",
        "recmetrics.mark_plot(mark_scores, model_names=names, k_range=index)"
      ],
      "execution_count": 24,
      "outputs": [
        {
          "output_type": "display_data",
          "data": {
            "image/png": "[encoded data removed]",
            "text/plain": [
              "<Figure size 1080x504 with 1 Axes>"
            ]
          },
          "metadata": {
            "tags": []
          }
        }
      ]
    },
    {
      "cell_type": "code",
      "metadata": {
        "id": "JagYZ4FniIuJ",
        "colab_type": "code",
        "colab": {}
      },
      "source": [
        "catalog = train.item_nbr.unique().tolist()\n",
        "random_coverage = recmetrics.coverage(random_predictions, catalog)\n",
        "pop_coverage = recmetrics.coverage(pop_predictions, catalog)\n",
        "cf_coverage = recmetrics.coverage(cf_predictions, catalog)"
      ],
      "execution_count": 0,
      "outputs": []
    },
    {
      "cell_type": "code",
      "metadata": {
        "id": "rL7vhQ3wiKDh",
        "colab_type": "code",
        "colab": {}
      },
      "source": [
        "coverage_scores = [random_coverage, pop_coverage, cf_coverage]\n",
        "model_names = ['Random Recommender', 'Popularity Recommender', 'Collaborative Filter deep-Q']"
      ],
      "execution_count": 0,
      "outputs": []
    },
    {
      "cell_type": "code",
      "metadata": {
        "id": "_O1cVu4WiLgf",
        "colab_type": "code",
        "colab": {
          "base_uri": "https://localhost:8080/",
          "height": 358
        },
        "outputId": "e07d7827-d7d6-4d6d-d60e-f667d078de38"
      },
      "source": [
        "fig = plt.figure(figsize=(10, 5))\n",
        "recmetrics.coverage_plot(coverage_scores, model_names)"
      ],
      "execution_count": 27,
      "outputs": [
        {
          "output_type": "display_data",
          "data": {
            "image/png": "[encoded data removed]",
            "text/plain": [
              "<Figure size 720x360 with 1 Axes>"
            ]
          },
          "metadata": {
            "tags": []
          }
        }
      ]
    },
    {
      "cell_type": "code",
      "metadata": {
        "id": "X1HpVBXpjhyy",
        "colab_type": "code",
        "colab": {}
      },
      "source": [
        ""
      ],
      "execution_count": 0,
      "outputs": []
    }
  ]
}