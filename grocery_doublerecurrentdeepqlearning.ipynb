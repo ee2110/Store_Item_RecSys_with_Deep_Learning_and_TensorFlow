{
  "nbformat": 4,
  "nbformat_minor": 0,
  "metadata": {
    "colab": {
      "name": "grocery-doublerecurrentdeepqlearning.ipynb",
      "version": "0.3.2",
      "provenance": [],
      "collapsed_sections": []
    },
    "kernelspec": {
      "name": "python3",
      "display_name": "Python 3"
    },
    "accelerator": "GPU"
  },
  "cells": [
    {
      "cell_type": "code",
      "metadata": {
        "id": "nR1o7vef-RwG",
        "colab_type": "code",
        "colab": {}
      },
      "source": [
        "# !wget https://huseinhouse-storage.s3-ap-southeast-1.amazonaws.com/reinforcement-learning/train_8M.csv\n",
        "# !wget https://huseinhouse-storage.s3-ap-southeast-1.amazonaws.com/reinforcement-learning/transactions.csv\n",
        "# !wget https://huseinhouse-storage.s3-ap-southeast-1.amazonaws.com/reinforcement-learning/holidays_events.csv\n",
        "# !wget https://huseinhouse-storage.s3-ap-southeast-1.amazonaws.com/reinforcement-learning/items.csv\n",
        "# !wget https://huseinhouse-storage.s3-ap-southeast-1.amazonaws.com/reinforcement-learning/oil.csv\n",
        "# !wget https://huseinhouse-storage.s3-ap-southeast-1.amazonaws.com/reinforcement-learning/stores.csv\n",
        "# !wget https://huseinhouse-storage.s3-ap-southeast-1.amazonaws.com/reinforcement-learning/recmetrics.zip\n",
        "# !unzip recmetrics.zip"
      ],
      "execution_count": 0,
      "outputs": []
    },
    {
      "cell_type": "code",
      "metadata": {
        "id": "3jj6Ydoz-poX",
        "colab_type": "code",
        "colab": {
          "base_uri": "https://localhost:8080/",
          "height": 476
        },
        "outputId": "aae75dfb-4a6d-4394-cffe-34e3ecfb352a"
      },
      "source": [
        "from tensorflow.python.client import device_lib\n",
        "\n",
        "device_lib.list_local_devices()"
      ],
      "execution_count": 2,
      "outputs": [
        {
          "output_type": "execute_result",
          "data": {
            "text/plain": [
              "[name: \"/device:CPU:0\"\n",
              " device_type: \"CPU\"\n",
              " memory_limit: 268435456\n",
              " locality {\n",
              " }\n",
              " incarnation: 5407431782352422390, name: \"/device:XLA_CPU:0\"\n",
              " device_type: \"XLA_CPU\"\n",
              " memory_limit: 17179869184\n",
              " locality {\n",
              " }\n",
              " incarnation: 7156835588512369600\n",
              " physical_device_desc: \"device: XLA_CPU device\", name: \"/device:XLA_GPU:0\"\n",
              " device_type: \"XLA_GPU\"\n",
              " memory_limit: 17179869184\n",
              " locality {\n",
              " }\n",
              " incarnation: 2996336737461207986\n",
              " physical_device_desc: \"device: XLA_GPU device\", name: \"/device:GPU:0\"\n",
              " device_type: \"GPU\"\n",
              " memory_limit: 13962933044\n",
              " locality {\n",
              "   bus_id: 1\n",
              "   links {\n",
              "   }\n",
              " }\n",
              " incarnation: 7744170219303242052\n",
              " physical_device_desc: \"device: 0, name: Tesla T4, pci bus id: 0000:00:04.0, compute capability: 7.5\"]"
            ]
          },
          "metadata": {
            "tags": []
          },
          "execution_count": 2
        }
      ]
    },
    {
      "cell_type": "code",
      "metadata": {
        "id": "kPQP6vVT-rbD",
        "colab_type": "code",
        "colab": {
          "base_uri": "https://localhost:8080/",
          "height": 51
        },
        "outputId": "30e17507-522c-4fb8-e622-b9067cfc5ca9"
      },
      "source": [
        "!ls"
      ],
      "execution_count": 3,
      "outputs": [
        {
          "output_type": "stream",
          "text": [
            "holidays_events.csv  __MACOSX  recmetrics      sample_data  train_8M.csv\n",
            "items.csv\t     oil.csv   recmetrics.zip  stores.csv   transactions.csv\n"
          ],
          "name": "stdout"
        }
      ]
    },
    {
      "cell_type": "code",
      "metadata": {
        "id": "vUu-D00eBWqX",
        "colab_type": "code",
        "colab": {}
      },
      "source": [
        "import numpy as np\n",
        "import pandas as pd\n",
        "import matplotlib.pyplot as plt\n",
        "import seaborn as sns\n",
        "from sklearn.preprocessing import LabelEncoder\n",
        "from datetime import datetime, timedelta\n",
        "import tensorflow as tf\n",
        "import random\n",
        "sns.set()\n",
        "\n",
        "items = pd.read_csv(\"items.csv\")\n",
        "holiday_events = pd.read_csv(\"holidays_events.csv\")\n",
        "stores = pd.read_csv(\"stores.csv\")\n",
        "oil = pd.read_csv(\"oil.csv\")\n",
        "transactions = pd.read_csv(\"transactions.csv\",parse_dates=['date'])\n",
        "train = pd.read_csv(\"train_8M.csv\", nrows = 500000, parse_dates=['date'])"
      ],
      "execution_count": 0,
      "outputs": []
    },
    {
      "cell_type": "code",
      "metadata": {
        "id": "nCMLoNI6BW1a",
        "colab_type": "code",
        "colab": {}
      },
      "source": [
        "stores = train['store_nbr'].values\n",
        "items = train['item_nbr'].values\n",
        "reward = train['unit_sales'].values"
      ],
      "execution_count": 0,
      "outputs": []
    },
    {
      "cell_type": "code",
      "metadata": {
        "id": "GNKjOTCJBY7b",
        "colab_type": "code",
        "colab": {
          "base_uri": "https://localhost:8080/",
          "height": 34
        },
        "outputId": "cd18f4de-fa74-4aa7-a9a9-44ee3f8fe71b"
      },
      "source": [
        "encoded = LabelEncoder().fit_transform(items)\n",
        "items_unique = np.unique(items)\n",
        "items_unique"
      ],
      "execution_count": 6,
      "outputs": [
        {
          "output_type": "execute_result",
          "data": {
            "text/plain": [
              "array([  96995,  103501,  103520, ..., 1114567, 1114749, 1118683])"
            ]
          },
          "metadata": {
            "tags": []
          },
          "execution_count": 6
        }
      ]
    },
    {
      "cell_type": "code",
      "metadata": {
        "id": "yFhkNvwzBaYm",
        "colab_type": "code",
        "colab": {}
      },
      "source": [
        "from sklearn.model_selection import train_test_split\n",
        "\n",
        "train_stores, test_stores, train_items, test_items, train_reward, test_reward, train, test = train_test_split(stores, encoded, reward,\n",
        "                                                                                                              train, test_size = 0.25,\n",
        "                                                                                                             shuffle = False)"
      ],
      "execution_count": 0,
      "outputs": []
    },
    {
      "cell_type": "code",
      "metadata": {
        "id": "eNivXzpwBoV6",
        "colab_type": "code",
        "colab": {}
      },
      "source": [
        "from collections import deque\n",
        "import random\n",
        "\n",
        "LEARNING_RATE = 1e-5\n",
        "LAYER_SIZE = 256\n",
        "OUTPUT_SIZE = np.unique(items).shape[0]\n",
        "STATE_SIZE = np.unique(stores).shape[0]\n",
        "SEQ_LEN = 5\n",
        "\n",
        "class Model:\n",
        "  def __init__(self, name):\n",
        "    with tf.variable_scope(name):\n",
        "      self.X = tf.placeholder(tf.int32, [None, None])\n",
        "      self.Y = tf.placeholder(tf.float32, [None, OUTPUT_SIZE])\n",
        "      cell = tf.nn.rnn_cell.LSTMCell(LAYER_SIZE, state_is_tuple = False)\n",
        "      embeddings = tf.Variable(tf.random_uniform([STATE_SIZE, LAYER_SIZE], -1, 1))\n",
        "      embedded = tf.nn.embedding_lookup(embeddings, self.X)\n",
        "      self.hidden_layer = tf.placeholder(tf.float32, (None, 2 * LAYER_SIZE))\n",
        "      output, self.last_state = tf.nn.dynamic_rnn(inputs=embedded,cell=cell,\n",
        "                                                      dtype=tf.float32,\n",
        "                                                      initial_state=self.hidden_layer)\n",
        "      self.logits = tf.layers.dense(output[:,-1], OUTPUT_SIZE)\n",
        "      self.cost = tf.reduce_sum(tf.square(self.Y - self.logits))\n",
        "      self.optimizer = tf.train.GradientDescentOptimizer(LEARNING_RATE).minimize(\n",
        "          self.cost\n",
        "      )\n",
        "      \n",
        "class Agent:\n",
        "\n",
        "  EPSILON = 0.5\n",
        "  DECAY_RATE = 0.005\n",
        "  MIN_EPSILON = 0.1\n",
        "  GAMMA = 0.95\n",
        "  MEMORIES = deque()\n",
        "  COPY = 200\n",
        "  T_COPY = 0\n",
        "  MEMORY_SIZE = 300\n",
        "\n",
        "  def __init__(self):\n",
        "    tf.reset_default_graph()\n",
        "    self.model = Model('from')\n",
        "    self.model_negative = Model('to')\n",
        "    self.sess = tf.InteractiveSession()\n",
        "    self.sess.run(tf.global_variables_initializer())\n",
        "    self.trainable = tf.trainable_variables()\n",
        "  \n",
        "  def _assign(self):\n",
        "    from_w = tf.get_collection(tf.GraphKeys.TRAINABLE_VARIABLES, scope='from')\n",
        "    to_w = tf.get_collection(tf.GraphKeys.TRAINABLE_VARIABLES, scope='to')\n",
        "    for i in range(len(from_w)):\n",
        "      assign_op = to_w[i].assign(from_w[i])\n",
        "      self.sess.run(assign_op)\n",
        "  \n",
        "  def _memorize(self, state, action, reward, new_state, done, memory):\n",
        "    self.MEMORIES.append((state, action, reward, new_state, done, memory))\n",
        "    if len(self.MEMORIES) > self.MEMORY_SIZE:\n",
        "      self.MEMORIES.popleft()\n",
        "  \n",
        "  def _select_action(self, state, memories):\n",
        "    if np.random.rand() < self.EPSILON:\n",
        "      action = np.random.randint(OUTPUT_SIZE, size = (len(state)))\n",
        "    else:\n",
        "      action, memories = self.predict(state, memories)\n",
        "      action = np.argmax(action, axis = 1)\n",
        "    return action, memories\n",
        "  \n",
        "  def _construct_memories(self, replay):\n",
        "    states = np.array([a[0] for a in replay])\n",
        "    new_states = np.array([a[3] for a in replay])\n",
        "    memories = np.array([a[-1] for a in replay])\n",
        "    Q, _ = self.predict(states, memories)\n",
        "    Q_new, _ = self.predict(new_states, memories)\n",
        "    Q_new_negative = self.sess.run(self.model_negative.logits, feed_dict={self.model_negative.X:new_states,\n",
        "                                                                         self.model_negative.hidden_layer:memories})\n",
        "    replay_size = len(replay)\n",
        "    X = []\n",
        "    Y = np.empty((replay_size, OUTPUT_SIZE))\n",
        "    MEMORIES = np.empty((replay_size, 2 * LAYER_SIZE))\n",
        "    for i in range(replay_size):\n",
        "      state_r, action_r, reward_r, new_state_r, done_r, rnn_memory = replay[i]\n",
        "      target = Q[i]\n",
        "      target[action_r] = reward_r\n",
        "      if not done_r:\n",
        "          target[action_r] += self.GAMMA * Q_new_negative[i, np.argmax(Q_new[i])]\n",
        "      X.append(state_r)\n",
        "      Y[i] = target\n",
        "      MEMORIES[i] = rnn_memory\n",
        "    return X, Y, MEMORIES\n",
        "    \n",
        "  def predict(self, inputs, memories):\n",
        "    return self.sess.run([self.model.logits, self.model.last_state], feed_dict={self.model.X:inputs,\n",
        "                                                                                 self.model.hidden_layer: memories})"
      ],
      "execution_count": 0,
      "outputs": []
    },
    {
      "cell_type": "code",
      "metadata": {
        "id": "yw1GHisNDj9D",
        "colab_type": "code",
        "colab": {
          "base_uri": "https://localhost:8080/",
          "height": 343
        },
        "outputId": "dbc06e00-8f95-490c-9ca1-10752a20ff01"
      },
      "source": [
        "agent = Agent()"
      ],
      "execution_count": 9,
      "outputs": [
        {
          "output_type": "stream",
          "text": [
            "WARNING: Logging before flag parsing goes to stderr.\n",
            "W0725 17:12:27.443568 139932452435840 deprecation.py:323] From <ipython-input-8-73e574562486>:15: LSTMCell.__init__ (from tensorflow.python.ops.rnn_cell_impl) is deprecated and will be removed in a future version.\n",
            "Instructions for updating:\n",
            "This class is equivalent as tf.keras.layers.LSTMCell, and will be replaced by that in Tensorflow 2.0.\n",
            "W0725 17:12:27.445487 139932452435840 rnn_cell_impl.py:893] <tensorflow.python.ops.rnn_cell_impl.LSTMCell object at 0x7f446cf83898>: Using a concatenated state is slower and will soon be deprecated.  Use state_is_tuple=True.\n",
            "W0725 17:12:27.459148 139932452435840 deprecation.py:323] From <ipython-input-8-73e574562486>:21: dynamic_rnn (from tensorflow.python.ops.rnn) is deprecated and will be removed in a future version.\n",
            "Instructions for updating:\n",
            "Please use `keras.layers.RNN(cell)`, which is equivalent to this API\n",
            "W0725 17:12:27.513314 139932452435840 deprecation.py:506] From /usr/local/lib/python3.6/dist-packages/tensorflow/python/ops/init_ops.py:1251: calling VarianceScaling.__init__ (from tensorflow.python.ops.init_ops) with dtype is deprecated and will be removed in a future version.\n",
            "Instructions for updating:\n",
            "Call initializer instance with the dtype argument instead of passing it to the constructor\n",
            "W0725 17:12:27.523413 139932452435840 deprecation.py:506] From /usr/local/lib/python3.6/dist-packages/tensorflow/python/ops/rnn_cell_impl.py:961: calling Zeros.__init__ (from tensorflow.python.ops.init_ops) with dtype is deprecated and will be removed in a future version.\n",
            "Instructions for updating:\n",
            "Call initializer instance with the dtype argument instead of passing it to the constructor\n",
            "W0725 17:12:28.117236 139932452435840 deprecation.py:323] From <ipython-input-8-73e574562486>:22: dense (from tensorflow.python.layers.core) is deprecated and will be removed in a future version.\n",
            "Instructions for updating:\n",
            "Use keras.layers.dense instead.\n",
            "W0725 17:12:28.793322 139932452435840 rnn_cell_impl.py:893] <tensorflow.python.ops.rnn_cell_impl.LSTMCell object at 0x7f43e56f3ba8>: Using a concatenated state is slower and will soon be deprecated.  Use state_is_tuple=True.\n"
          ],
          "name": "stderr"
        }
      ]
    },
    {
      "cell_type": "code",
      "metadata": {
        "id": "TFZtRUcVDka-",
        "colab_type": "code",
        "colab": {}
      },
      "source": [
        "slide_train_stores = [train_stores[i: i + SEQ_LEN] for i in range(len(train_stores) - SEQ_LEN)]\n",
        "train_pivoted = train.pivot_table(index='store_nbr', columns='item_nbr', values='unit_sales').fillna(0)"
      ],
      "execution_count": 0,
      "outputs": []
    },
    {
      "cell_type": "code",
      "metadata": {
        "id": "swVhjSC1FTg7",
        "colab_type": "code",
        "colab": {
          "base_uri": "https://localhost:8080/",
          "height": 187
        },
        "outputId": "a4c54c81-43ac-420c-ba36-e5f494fb69aa"
      },
      "source": [
        "from tqdm import tqdm\n",
        "epoch = 5\n",
        "batch_size = 128\n",
        "\n",
        "for e in range(epoch):\n",
        "  pbar = tqdm(\n",
        "      range(0, len(slide_train_stores) - 1, batch_size), desc = 'train minibatch loop'\n",
        "    )\n",
        "  loss = []\n",
        "  for i in pbar:\n",
        "    index = min(i + batch_size, len(slide_train_stores) - 1)\n",
        "    if (agent.T_COPY + 1) % agent.COPY == 0:\n",
        "      agent._assign()\n",
        "    state = slide_train_stores[i: index]\n",
        "    init_value = np.zeros((len(state), 2 * LAYER_SIZE))\n",
        "    action, init_value = agent._select_action(state, init_value)\n",
        "    next_state = slide_train_stores[i + 1: index + 1]\n",
        "    for no, a in enumerate(action):\n",
        "      if a >= train_pivoted.shape[1]:\n",
        "        r = 0\n",
        "      else:\n",
        "        r = train_pivoted.loc[slide_train_stores[i + no][-1]].iloc[a]\n",
        "      agent._memorize(state[no], a, r, next_state[no], r < 1, init_value[-1])\n",
        "    \n",
        "    replay = random.sample(agent.MEMORIES, min(len(agent.MEMORIES), batch_size))\n",
        "    X, Y, MEMORIES = agent._construct_memories(replay)\n",
        "    cost, _ = agent.sess.run([agent.model.cost, agent.model.optimizer], \n",
        "                               feed_dict={agent.model.X: X, agent.model.Y:Y, agent.model.hidden_layer:MEMORIES}) \n",
        "    agent.T_COPY += 1\n",
        "    agent.EPSILON = agent.MIN_EPSILON + (1.0 - agent.MIN_EPSILON) * np.exp(-agent.DECAY_RATE * i)\n",
        "      \n",
        "    pbar.set_postfix(cost = cost)\n",
        "    loss.append(cost)\n",
        "  print('\\nepoch: %d, average lost: %f'%(e + 1, np.mean(loss)))"
      ],
      "execution_count": 11,
      "outputs": [
        {
          "output_type": "stream",
          "text": [
            "train minibatch loop: 100%|██████████| 2930/2930 [02:23<00:00, 21.98it/s, cost=1.47e+5]\n",
            "train minibatch loop:   0%|          | 2/2930 [00:00<02:32, 19.20it/s, cost=9.5e+4] "
          ],
          "name": "stderr"
        },
        {
          "output_type": "stream",
          "text": [
            "epoch: 1, average lost: 22453.000000\n"
          ],
          "name": "stdout"
        },
        {
          "output_type": "stream",
          "text": [
            "train minibatch loop: 100%|██████████| 2930/2930 [03:42<00:00, 11.69it/s, cost=11.7]\n",
            "train minibatch loop:   0%|          | 1/2930 [00:00<05:20,  9.13it/s, cost=3.84e+4]"
          ],
          "name": "stderr"
        },
        {
          "output_type": "stream",
          "text": [
            "epoch: 2, average lost: 118963.820312\n"
          ],
          "name": "stdout"
        },
        {
          "output_type": "stream",
          "text": [
            "train minibatch loop: 100%|██████████| 2930/2930 [04:22<00:00, 11.16it/s, cost=510]\n",
            "train minibatch loop:   0%|          | 2/2930 [00:00<04:28, 10.91it/s, cost=1.49e+5]"
          ],
          "name": "stderr"
        },
        {
          "output_type": "stream",
          "text": [
            "epoch: 3, average lost: 138000.234375\n"
          ],
          "name": "stdout"
        },
        {
          "output_type": "stream",
          "text": [
            "train minibatch loop: 100%|██████████| 2930/2930 [04:18<00:00, 11.33it/s, cost=0.625]\n",
            "train minibatch loop:   0%|          | 2/2930 [00:00<03:49, 12.75it/s, cost=1.54e+6]"
          ],
          "name": "stderr"
        },
        {
          "output_type": "stream",
          "text": [
            "epoch: 4, average lost: 143218.812500\n"
          ],
          "name": "stdout"
        },
        {
          "output_type": "stream",
          "text": [
            "train minibatch loop: 100%|██████████| 2930/2930 [04:20<00:00, 11.25it/s, cost=1.99e+3]"
          ],
          "name": "stderr"
        },
        {
          "output_type": "stream",
          "text": [
            "epoch: 5, average lost: 198387.765625\n"
          ],
          "name": "stdout"
        },
        {
          "output_type": "stream",
          "text": [
            "\n"
          ],
          "name": "stderr"
        }
      ]
    },
    {
      "cell_type": "code",
      "metadata": {
        "id": "tf4xH7wPHFPl",
        "colab_type": "code",
        "colab": {
          "base_uri": "https://localhost:8080/",
          "height": 68
        },
        "outputId": "a9a9bf59-5adc-4df5-e953-29cce2ea7e40"
      },
      "source": [
        "test_cp = test.copy().groupby('store_nbr')['item_nbr'].agg({'actual': (lambda x: list(set(x)))})"
      ],
      "execution_count": 12,
      "outputs": [
        {
          "output_type": "stream",
          "text": [
            "/usr/local/lib/python3.6/dist-packages/ipykernel_launcher.py:1: FutureWarning: using a dict on a Series for aggregation\n",
            "is deprecated and will be removed in a future version\n",
            "  \"\"\"Entry point for launching an IPython kernel.\n"
          ],
          "name": "stderr"
        }
      ]
    },
    {
      "cell_type": "code",
      "metadata": {
        "id": "v-PW5gGnMUnl",
        "colab_type": "code",
        "colab": {}
      },
      "source": [
        "def get_users_predictions(user_id, n):\n",
        "  init_value = np.zeros((1, 2 * LAYER_SIZE))\n",
        "  p = agent.sess.run(agent.model.logits, feed_dict = {agent.model.X: [[user_id]], agent.model.hidden_layer: init_value})[0]\n",
        "  p = p.argsort()[-n:][::-1]\n",
        "  return [items_unique[i] for i in p]"
      ],
      "execution_count": 0,
      "outputs": []
    },
    {
      "cell_type": "code",
      "metadata": {
        "id": "R7u653nvMWNr",
        "colab_type": "code",
        "colab": {
          "base_uri": "https://localhost:8080/",
          "height": 235
        },
        "outputId": "5d2becbb-b3d7-495a-ed42-f8bd50536874"
      },
      "source": [
        "recs = []\n",
        "for user in test_cp.index:\n",
        "    cf_predictions = get_users_predictions(user + 1, 30)\n",
        "    recs.append(cf_predictions)\n",
        "        \n",
        "test_cp['cf_predictions'] = recs\n",
        "test_cp.head()"
      ],
      "execution_count": 17,
      "outputs": [
        {
          "output_type": "execute_result",
          "data": {
            "text/html": [
              "<div>\n",
              "<style scoped>\n",
              "    .dataframe tbody tr th:only-of-type {\n",
              "        vertical-align: middle;\n",
              "    }\n",
              "\n",
              "    .dataframe tbody tr th {\n",
              "        vertical-align: top;\n",
              "    }\n",
              "\n",
              "    .dataframe thead th {\n",
              "        text-align: right;\n",
              "    }\n",
              "</style>\n",
              "<table border=\"1\" class=\"dataframe\">\n",
              "  <thead>\n",
              "    <tr style=\"text-align: right;\">\n",
              "      <th></th>\n",
              "      <th>actual</th>\n",
              "      <th>cf_predictions</th>\n",
              "    </tr>\n",
              "    <tr>\n",
              "      <th>store_nbr</th>\n",
              "      <th></th>\n",
              "      <th></th>\n",
              "    </tr>\n",
              "  </thead>\n",
              "  <tbody>\n",
              "    <tr>\n",
              "      <th>1</th>\n",
              "      <td>[174081, 1058820, 862213, 819206, 460804, 8192...</td>\n",
              "      <td>[329362, 738219, 940592, 364606, 1047679, 1659...</td>\n",
              "    </tr>\n",
              "    <tr>\n",
              "      <th>2</th>\n",
              "      <td>[174081, 460804, 862213, 819206, 1058820, 8192...</td>\n",
              "      <td>[329362, 738219, 940592, 364606, 1047679, 1659...</td>\n",
              "    </tr>\n",
              "    <tr>\n",
              "      <th>3</th>\n",
              "      <td>[174081, 460804, 862213, 819206, 1058820, 8192...</td>\n",
              "      <td>[329362, 738219, 940592, 364606, 1047679, 1659...</td>\n",
              "    </tr>\n",
              "    <tr>\n",
              "      <th>4</th>\n",
              "      <td>[174081, 460804, 862213, 819206, 1058820, 8192...</td>\n",
              "      <td>[329362, 738219, 940592, 846565, 364606, 10476...</td>\n",
              "    </tr>\n",
              "    <tr>\n",
              "      <th>5</th>\n",
              "      <td>[174081, 460804, 862213, 819206, 1058820, 8192...</td>\n",
              "      <td>[329362, 738219, 940592, 364606, 1047679, 1659...</td>\n",
              "    </tr>\n",
              "  </tbody>\n",
              "</table>\n",
              "</div>"
            ],
            "text/plain": [
              "                                                      actual                                     cf_predictions\n",
              "store_nbr                                                                                                      \n",
              "1          [174081, 1058820, 862213, 819206, 460804, 8192...  [329362, 738219, 940592, 364606, 1047679, 1659...\n",
              "2          [174081, 460804, 862213, 819206, 1058820, 8192...  [329362, 738219, 940592, 364606, 1047679, 1659...\n",
              "3          [174081, 460804, 862213, 819206, 1058820, 8192...  [329362, 738219, 940592, 364606, 1047679, 1659...\n",
              "4          [174081, 460804, 862213, 819206, 1058820, 8192...  [329362, 738219, 940592, 846565, 364606, 10476...\n",
              "5          [174081, 460804, 862213, 819206, 1058820, 8192...  [329362, 738219, 940592, 364606, 1047679, 1659..."
            ]
          },
          "metadata": {
            "tags": []
          },
          "execution_count": 17
        }
      ]
    },
    {
      "cell_type": "code",
      "metadata": {
        "id": "_NneZDMjMbLP",
        "colab_type": "code",
        "colab": {
          "base_uri": "https://localhost:8080/",
          "height": 235
        },
        "outputId": "d64b6e8f-b668-41ae-fc0f-a40890abfe49"
      },
      "source": [
        "popularity_recs = train.item_nbr.value_counts().head(30).index.tolist()\n",
        "\n",
        "recs = []\n",
        "for user in test_cp.index:\n",
        "    pop_predictions = popularity_recs\n",
        "    recs.append(pop_predictions)\n",
        "        \n",
        "test_cp['pop_predictions'] = recs\n",
        "test_cp.head()"
      ],
      "execution_count": 18,
      "outputs": [
        {
          "output_type": "execute_result",
          "data": {
            "text/html": [
              "<div>\n",
              "<style scoped>\n",
              "    .dataframe tbody tr th:only-of-type {\n",
              "        vertical-align: middle;\n",
              "    }\n",
              "\n",
              "    .dataframe tbody tr th {\n",
              "        vertical-align: top;\n",
              "    }\n",
              "\n",
              "    .dataframe thead th {\n",
              "        text-align: right;\n",
              "    }\n",
              "</style>\n",
              "<table border=\"1\" class=\"dataframe\">\n",
              "  <thead>\n",
              "    <tr style=\"text-align: right;\">\n",
              "      <th></th>\n",
              "      <th>actual</th>\n",
              "      <th>cf_predictions</th>\n",
              "      <th>pop_predictions</th>\n",
              "    </tr>\n",
              "    <tr>\n",
              "      <th>store_nbr</th>\n",
              "      <th></th>\n",
              "      <th></th>\n",
              "      <th></th>\n",
              "    </tr>\n",
              "  </thead>\n",
              "  <tbody>\n",
              "    <tr>\n",
              "      <th>1</th>\n",
              "      <td>[174081, 1058820, 862213, 819206, 460804, 8192...</td>\n",
              "      <td>[329362, 738219, 940592, 364606, 1047679, 1659...</td>\n",
              "      <td>[222879, 314384, 559870, 564533, 502331, 27352...</td>\n",
              "    </tr>\n",
              "    <tr>\n",
              "      <th>2</th>\n",
              "      <td>[174081, 460804, 862213, 819206, 1058820, 8192...</td>\n",
              "      <td>[329362, 738219, 940592, 364606, 1047679, 1659...</td>\n",
              "      <td>[222879, 314384, 559870, 564533, 502331, 27352...</td>\n",
              "    </tr>\n",
              "    <tr>\n",
              "      <th>3</th>\n",
              "      <td>[174081, 460804, 862213, 819206, 1058820, 8192...</td>\n",
              "      <td>[329362, 738219, 940592, 364606, 1047679, 1659...</td>\n",
              "      <td>[222879, 314384, 559870, 564533, 502331, 27352...</td>\n",
              "    </tr>\n",
              "    <tr>\n",
              "      <th>4</th>\n",
              "      <td>[174081, 460804, 862213, 819206, 1058820, 8192...</td>\n",
              "      <td>[329362, 738219, 940592, 846565, 364606, 10476...</td>\n",
              "      <td>[222879, 314384, 559870, 564533, 502331, 27352...</td>\n",
              "    </tr>\n",
              "    <tr>\n",
              "      <th>5</th>\n",
              "      <td>[174081, 460804, 862213, 819206, 1058820, 8192...</td>\n",
              "      <td>[329362, 738219, 940592, 364606, 1047679, 1659...</td>\n",
              "      <td>[222879, 314384, 559870, 564533, 502331, 27352...</td>\n",
              "    </tr>\n",
              "  </tbody>\n",
              "</table>\n",
              "</div>"
            ],
            "text/plain": [
              "                                                      actual  ...                                    pop_predictions\n",
              "store_nbr                                                     ...                                                   \n",
              "1          [174081, 1058820, 862213, 819206, 460804, 8192...  ...  [222879, 314384, 559870, 564533, 502331, 27352...\n",
              "2          [174081, 460804, 862213, 819206, 1058820, 8192...  ...  [222879, 314384, 559870, 564533, 502331, 27352...\n",
              "3          [174081, 460804, 862213, 819206, 1058820, 8192...  ...  [222879, 314384, 559870, 564533, 502331, 27352...\n",
              "4          [174081, 460804, 862213, 819206, 1058820, 8192...  ...  [222879, 314384, 559870, 564533, 502331, 27352...\n",
              "5          [174081, 460804, 862213, 819206, 1058820, 8192...  ...  [222879, 314384, 559870, 564533, 502331, 27352...\n",
              "\n",
              "[5 rows x 3 columns]"
            ]
          },
          "metadata": {
            "tags": []
          },
          "execution_count": 18
        }
      ]
    },
    {
      "cell_type": "code",
      "metadata": {
        "id": "SdRLF1DJMiz5",
        "colab_type": "code",
        "colab": {
          "base_uri": "https://localhost:8080/",
          "height": 320
        },
        "outputId": "4c5aef88-443c-4f90-fc5b-f2a9125960f7"
      },
      "source": [
        "recs = []\n",
        "for user in test_cp.index:\n",
        "    random_predictions = train.item_nbr.sample(30).values.tolist()\n",
        "    recs.append(random_predictions)\n",
        "        \n",
        "test_cp['random_predictions'] = recs\n",
        "test_cp.head()"
      ],
      "execution_count": 19,
      "outputs": [
        {
          "output_type": "execute_result",
          "data": {
            "text/html": [
              "<div>\n",
              "<style scoped>\n",
              "    .dataframe tbody tr th:only-of-type {\n",
              "        vertical-align: middle;\n",
              "    }\n",
              "\n",
              "    .dataframe tbody tr th {\n",
              "        vertical-align: top;\n",
              "    }\n",
              "\n",
              "    .dataframe thead th {\n",
              "        text-align: right;\n",
              "    }\n",
              "</style>\n",
              "<table border=\"1\" class=\"dataframe\">\n",
              "  <thead>\n",
              "    <tr style=\"text-align: right;\">\n",
              "      <th></th>\n",
              "      <th>actual</th>\n",
              "      <th>cf_predictions</th>\n",
              "      <th>pop_predictions</th>\n",
              "      <th>random_predictions</th>\n",
              "    </tr>\n",
              "    <tr>\n",
              "      <th>store_nbr</th>\n",
              "      <th></th>\n",
              "      <th></th>\n",
              "      <th></th>\n",
              "      <th></th>\n",
              "    </tr>\n",
              "  </thead>\n",
              "  <tbody>\n",
              "    <tr>\n",
              "      <th>1</th>\n",
              "      <td>[174081, 1058820, 862213, 819206, 460804, 8192...</td>\n",
              "      <td>[329362, 738219, 940592, 364606, 1047679, 1659...</td>\n",
              "      <td>[222879, 314384, 559870, 564533, 502331, 27352...</td>\n",
              "      <td>[1047679, 468265, 892076, 255161, 172343, 8903...</td>\n",
              "    </tr>\n",
              "    <tr>\n",
              "      <th>2</th>\n",
              "      <td>[174081, 460804, 862213, 819206, 1058820, 8192...</td>\n",
              "      <td>[329362, 738219, 940592, 364606, 1047679, 1659...</td>\n",
              "      <td>[222879, 314384, 559870, 564533, 502331, 27352...</td>\n",
              "      <td>[859932, 314880, 525887, 750855, 252698, 95709...</td>\n",
              "    </tr>\n",
              "    <tr>\n",
              "      <th>3</th>\n",
              "      <td>[174081, 460804, 862213, 819206, 1058820, 8192...</td>\n",
              "      <td>[329362, 738219, 940592, 364606, 1047679, 1659...</td>\n",
              "      <td>[222879, 314384, 559870, 564533, 502331, 27352...</td>\n",
              "      <td>[518094, 212550, 119023, 940585, 1087270, 8435...</td>\n",
              "    </tr>\n",
              "    <tr>\n",
              "      <th>4</th>\n",
              "      <td>[174081, 460804, 862213, 819206, 1058820, 8192...</td>\n",
              "      <td>[329362, 738219, 940592, 846565, 364606, 10476...</td>\n",
              "      <td>[222879, 314384, 559870, 564533, 502331, 27352...</td>\n",
              "      <td>[115891, 938657, 1084437, 311994, 402174, 8127...</td>\n",
              "    </tr>\n",
              "    <tr>\n",
              "      <th>5</th>\n",
              "      <td>[174081, 460804, 862213, 819206, 1058820, 8192...</td>\n",
              "      <td>[329362, 738219, 940592, 364606, 1047679, 1659...</td>\n",
              "      <td>[222879, 314384, 559870, 564533, 502331, 27352...</td>\n",
              "      <td>[510054, 365264, 261700, 864510, 633997, 50206...</td>\n",
              "    </tr>\n",
              "  </tbody>\n",
              "</table>\n",
              "</div>"
            ],
            "text/plain": [
              "                                                      actual  ...                                 random_predictions\n",
              "store_nbr                                                     ...                                                   \n",
              "1          [174081, 1058820, 862213, 819206, 460804, 8192...  ...  [1047679, 468265, 892076, 255161, 172343, 8903...\n",
              "2          [174081, 460804, 862213, 819206, 1058820, 8192...  ...  [859932, 314880, 525887, 750855, 252698, 95709...\n",
              "3          [174081, 460804, 862213, 819206, 1058820, 8192...  ...  [518094, 212550, 119023, 940585, 1087270, 8435...\n",
              "4          [174081, 460804, 862213, 819206, 1058820, 8192...  ...  [115891, 938657, 1084437, 311994, 402174, 8127...\n",
              "5          [174081, 460804, 862213, 819206, 1058820, 8192...  ...  [510054, 365264, 261700, 864510, 633997, 50206...\n",
              "\n",
              "[5 rows x 4 columns]"
            ]
          },
          "metadata": {
            "tags": []
          },
          "execution_count": 19
        }
      ]
    },
    {
      "cell_type": "code",
      "metadata": {
        "id": "BB2lKQ1gMkKb",
        "colab_type": "code",
        "colab": {}
      },
      "source": [
        "actual = test_cp.actual.values.tolist()\n",
        "cf_predictions = test_cp.cf_predictions.values.tolist()\n",
        "pop_predictions = test_cp.pop_predictions.values.tolist()\n",
        "random_predictions = test_cp.random_predictions.values.tolist()"
      ],
      "execution_count": 0,
      "outputs": []
    },
    {
      "cell_type": "code",
      "metadata": {
        "id": "jI-C2sm2Mlx-",
        "colab_type": "code",
        "colab": {
          "base_uri": "https://localhost:8080/",
          "height": 527
        },
        "outputId": "511bb337-ba2e-4fc6-eb36-35d9e63803f0"
      },
      "source": [
        "import recmetrics\n",
        "\n",
        "pop_mark = []\n",
        "for K in np.arange(1, 31):\n",
        "    pop_mark.extend([recmetrics.mark(actual, pop_predictions, k=K)])\n",
        "pop_mark"
      ],
      "execution_count": 21,
      "outputs": [
        {
          "output_type": "execute_result",
          "data": {
            "text/plain": [
              "[0.000984488736644838,\n",
              " 0.001968977473289676,\n",
              " 0.0029534662099345134,\n",
              " 0.003937954946579352,\n",
              " 0.004922443683224189,\n",
              " 0.005906932419869027,\n",
              " 0.006891421156513865,\n",
              " 0.007875909893158704,\n",
              " 0.008860398629803541,\n",
              " 0.009844887366448379,\n",
              " 0.010829376103093216,\n",
              " 0.011813864839738054,\n",
              " 0.012772130258608726,\n",
              " 0.01375474590112684,\n",
              " 0.014737486416586733,\n",
              " 0.01572033619587069,\n",
              " 0.01670328238441116,\n",
              " 0.01768631427006855,\n",
              " 0.018669422832093687,\n",
              " 0.01965260040284982,\n",
              " 0.02063584041007684,\n",
              " 0.02161913717773194,\n",
              " 0.02260248577012573,\n",
              " 0.02358588186852998,\n",
              " 0.024569321672463843,\n",
              " 0.02555280181996352,\n",
              " 0.02653631932261673,\n",
              " 0.027519871512198205,\n",
              " 0.028503455996506003,\n",
              " 0.02946992619792526]"
            ]
          },
          "metadata": {
            "tags": []
          },
          "execution_count": 21
        }
      ]
    },
    {
      "cell_type": "code",
      "metadata": {
        "id": "CmLPyZVwMnCa",
        "colab_type": "code",
        "colab": {
          "base_uri": "https://localhost:8080/",
          "height": 527
        },
        "outputId": "77974c64-fa16-4ce5-8192-f28a9a825f05"
      },
      "source": [
        "random_mark = []\n",
        "for K in np.arange(1, 31):\n",
        "    random_mark.extend([recmetrics.mark(actual, random_predictions, k=K)])\n",
        "random_mark"
      ],
      "execution_count": 22,
      "outputs": [
        {
          "output_type": "execute_result",
          "data": {
            "text/plain": [
              "[0.0007694192212448923,\n",
              " 0.0014546349457042588,\n",
              " 0.002075015862415885,\n",
              " 0.002681979841179703,\n",
              " 0.0032749529968326917,\n",
              " 0.003833644867985616,\n",
              " 0.00440586773828542,\n",
              " 0.00501540224468292,\n",
              " 0.005640295602433753,\n",
              " 0.006181091495828676,\n",
              " 0.006773290800521976,\n",
              " 0.007371732096551141,\n",
              " 0.007974484771406037,\n",
              " 0.008478497138415458,\n",
              " 0.00909414993134957,\n",
              " 0.00961271808923553,\n",
              " 0.010131009612957898,\n",
              " 0.01068025759416344,\n",
              " 0.01120374698306578,\n",
              " 0.011739347846157043,\n",
              " 0.012349787685785563,\n",
              " 0.012932252861770748,\n",
              " 0.01349754219680567,\n",
              " 0.014079599409935866,\n",
              " 0.014720680935046516,\n",
              " 0.015287391704993792,\n",
              " 0.01581510026682273,\n",
              " 0.016355919045447774,\n",
              " 0.016866444544095666,\n",
              " 0.01750468038361333]"
            ]
          },
          "metadata": {
            "tags": []
          },
          "execution_count": 22
        }
      ]
    },
    {
      "cell_type": "code",
      "metadata": {
        "id": "VdWH6llQMoVA",
        "colab_type": "code",
        "colab": {
          "base_uri": "https://localhost:8080/",
          "height": 527
        },
        "outputId": "81f9909c-ea76-4e63-e329-195b5b43fcae"
      },
      "source": [
        "cf_mark = []\n",
        "for K in np.arange(1, 31):\n",
        "    cf_mark.extend([recmetrics.mark(actual, cf_predictions, k=K)])\n",
        "cf_mark"
      ],
      "execution_count": 23,
      "outputs": [
        {
          "output_type": "execute_result",
          "data": {
            "text/plain": [
              "[0.0007325848176000715,\n",
              " 0.0013744768251154746,\n",
              " 0.0020725833492521,\n",
              " 0.0027960689327697933,\n",
              " 0.00353604775411643,\n",
              " 0.004294861579330348,\n",
              " 0.0050226936199574464,\n",
              " 0.005741755846822267,\n",
              " 0.006435976133303328,\n",
              " 0.007136985582656643,\n",
              " 0.007926012360135242,\n",
              " 0.008644474470886024,\n",
              " 0.00933443625625627,\n",
              " 0.010085063830085372,\n",
              " 0.010880019009490852,\n",
              " 0.011639496329794784,\n",
              " 0.01244774860070308,\n",
              " 0.013147390082749455,\n",
              " 0.013920503207586407,\n",
              " 0.014735208788939375,\n",
              " 0.015519803126433787,\n",
              " 0.0163513755086271,\n",
              " 0.017094608461794357,\n",
              " 0.017874684630862298,\n",
              " 0.018648314307821295,\n",
              " 0.01949015350746875,\n",
              " 0.020329021081471884,\n",
              " 0.02112287036227087,\n",
              " 0.021917552963231206,\n",
              " 0.022785958376618697]"
            ]
          },
          "metadata": {
            "tags": []
          },
          "execution_count": 23
        }
      ]
    },
    {
      "cell_type": "code",
      "metadata": {
        "id": "eRwn8xM7Mp6Y",
        "colab_type": "code",
        "colab": {
          "base_uri": "https://localhost:8080/",
          "height": 464
        },
        "outputId": "7b3f6c8b-204b-4dd4-cc5e-33ae4cd9fbc1"
      },
      "source": [
        "mark_scores = [random_mark, pop_mark, cf_mark]\n",
        "index = range(1,30+1)\n",
        "names = ['Random Recommender', 'Popularity Recommender', 'Collaborative Filter qlearning']\n",
        "\n",
        "fig = plt.figure(figsize=(15, 7))\n",
        "recmetrics.mark_plot(mark_scores, model_names=names, k_range=index)"
      ],
      "execution_count": 24,
      "outputs": [
        {
          "output_type": "display_data",
          "data": {
            "image/png": "[encoded data removed]",
            "text/plain": [
              "<Figure size 1080x504 with 1 Axes>"
            ]
          },
          "metadata": {
            "tags": []
          }
        }
      ]
    },
    {
      "cell_type": "code",
      "metadata": {
        "id": "lrSsGypvMsEC",
        "colab_type": "code",
        "colab": {}
      },
      "source": [
        "catalog = train.item_nbr.unique().tolist()\n",
        "random_coverage = recmetrics.coverage(random_predictions, catalog)\n",
        "pop_coverage = recmetrics.coverage(pop_predictions, catalog)\n",
        "cf_coverage = recmetrics.coverage(cf_predictions, catalog)"
      ],
      "execution_count": 0,
      "outputs": []
    },
    {
      "cell_type": "code",
      "metadata": {
        "id": "6oJZigPcMyLe",
        "colab_type": "code",
        "colab": {
          "base_uri": "https://localhost:8080/",
          "height": 338
        },
        "outputId": "02cca449-595e-4c8e-fc16-c3131a3935ae"
      },
      "source": [
        "coverage_scores = [random_coverage, pop_coverage, cf_coverage]\n",
        "model_names = ['Random Recommender', 'Popularity Recommender', 'Collaborative Filter deep-Q']\n",
        "\n",
        "fig = plt.figure(figsize=(10, 5))\n",
        "recmetrics.coverage_plot(coverage_scores, model_names)"
      ],
      "execution_count": 26,
      "outputs": [
        {
          "output_type": "display_data",
          "data": {
            "image/png": "[encoded data removed]",
            "text/plain": [
              "<Figure size 720x360 with 1 Axes>"
            ]
          },
          "metadata": {
            "tags": []
          }
        }
      ]
    },
    {
      "cell_type": "code",
      "metadata": {
        "id": "k8YFkvcFMzZw",
        "colab_type": "code",
        "colab": {}
      },
      "source": [
        ""
      ],
      "execution_count": 0,
      "outputs": []
    }
  ]
}